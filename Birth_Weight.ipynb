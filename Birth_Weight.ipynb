{
  "nbformat": 4,
  "nbformat_minor": 0,
  "metadata": {
    "colab": {
      "name": "Copy of FINAL NB",
      "provenance": [],
      "collapsed_sections": [
        "eSBHbDA_KRET",
        "QqgQrSbyAky6",
        "Ms79BEjZKFiB",
        "YdZupG0oKUqM",
        "SRpEMWAuLGH7",
        "kRIS3G_CFwCG",
        "M8_BOpbFY3xs",
        "UzuAr--JaJwT",
        "dbUGRZmkaY9H",
        "1y9Mt8Aua4Z8",
        "XIw_zr6wbHNn",
        "5iyfnKAybVrF",
        "uaLbMeprbrJg",
        "Vj3Nl6uqb7lb",
        "9gqLD26ncH0B",
        "pjxk674icbGk",
        "7kAOAOrnP8_v",
        "an4iwNG6hMNH",
        "Ezryne0dDibi",
        "oQRhcf6ng8He",
        "-WIcm3aT1Lsv",
        "mWisEF7zQbNT",
        "2lCo98N4REQY",
        "vnVnagenp6I6",
        "WkfhNFKTH4rX",
        "tddLiQhRYvbk",
        "GdqxQl_4dqIh",
        "i0Dl0UK4d4VM",
        "sX6K5Skyd8D5",
        "E4gepzvgd_HX",
        "9OkX7v6JeHm4"
      ]
    },
    "kernelspec": {
      "display_name": "Python 3",
      "name": "python3"
    }
  },
  "cells": [
    {
      "cell_type": "code",
      "metadata": {
        "colab": {
          "base_uri": "https://localhost:8080/"
        },
        "id": "2b5JNd_oNttb",
        "outputId": "2055041a-f12e-46bb-eba4-afd8a39c6434"
      },
      "source": [
        "pip install catboost"
      ],
      "execution_count": null,
      "outputs": [
        {
          "output_type": "stream",
          "text": [
            "Collecting catboost\n",
            "\u001b[?25l  Downloading https://files.pythonhosted.org/packages/7e/c1/c1c4707013f9e2f8a96899dd3a87f66c9167d6d776a6dc8fe7ec8678d446/catboost-0.24.3-cp36-none-manylinux1_x86_64.whl (66.3MB)\n",
            "\u001b[K     |████████████████████████████████| 66.3MB 82kB/s \n",
            "\u001b[?25hRequirement already satisfied: matplotlib in /usr/local/lib/python3.6/dist-packages (from catboost) (3.2.2)\n",
            "Requirement already satisfied: numpy>=1.16.0 in /usr/local/lib/python3.6/dist-packages (from catboost) (1.19.4)\n",
            "Requirement already satisfied: plotly in /usr/local/lib/python3.6/dist-packages (from catboost) (4.4.1)\n",
            "Requirement already satisfied: scipy in /usr/local/lib/python3.6/dist-packages (from catboost) (1.4.1)\n",
            "Requirement already satisfied: six in /usr/local/lib/python3.6/dist-packages (from catboost) (1.15.0)\n",
            "Requirement already satisfied: graphviz in /usr/local/lib/python3.6/dist-packages (from catboost) (0.10.1)\n",
            "Requirement already satisfied: pandas>=0.24.0 in /usr/local/lib/python3.6/dist-packages (from catboost) (1.1.5)\n",
            "Requirement already satisfied: kiwisolver>=1.0.1 in /usr/local/lib/python3.6/dist-packages (from matplotlib->catboost) (1.3.1)\n",
            "Requirement already satisfied: python-dateutil>=2.1 in /usr/local/lib/python3.6/dist-packages (from matplotlib->catboost) (2.8.1)\n",
            "Requirement already satisfied: pyparsing!=2.0.4,!=2.1.2,!=2.1.6,>=2.0.1 in /usr/local/lib/python3.6/dist-packages (from matplotlib->catboost) (2.4.7)\n",
            "Requirement already satisfied: cycler>=0.10 in /usr/local/lib/python3.6/dist-packages (from matplotlib->catboost) (0.10.0)\n",
            "Requirement already satisfied: retrying>=1.3.3 in /usr/local/lib/python3.6/dist-packages (from plotly->catboost) (1.3.3)\n",
            "Requirement already satisfied: pytz>=2017.2 in /usr/local/lib/python3.6/dist-packages (from pandas>=0.24.0->catboost) (2018.9)\n",
            "Installing collected packages: catboost\n",
            "Successfully installed catboost-0.24.3\n"
          ],
          "name": "stdout"
        }
      ]
    },
    {
      "cell_type": "code",
      "metadata": {
        "id": "2ZORJCrkUYp7"
      },
      "source": [
        "import numpy as np\n",
        "import pandas as pd\n",
        "import seaborn as sns \n",
        "from math import sqrt\n",
        "import matplotlib.pyplot as plt  \n",
        "from scipy.stats import *  \n",
        "import statsmodels.api as sm\n",
        "from statsmodels.formula.api import ols\n",
        "import statsmodels.stats.multicomp as multi\n",
        "from sklearn.model_selection import train_test_split, cross_validate\n",
        "from sklearn.preprocessing import StandardScaler\n",
        "from sklearn.metrics import *\n",
        "\n",
        "from sklearn.tree import DecisionTreeClassifier\n",
        "from sklearn.ensemble import RandomForestClassifier, GradientBoostingClassifier\n",
        "from catboost import CatBoostClassifier\n",
        "import xgboost as xgb"
      ],
      "execution_count": null,
      "outputs": []
    },
    {
      "cell_type": "code",
      "metadata": {
        "id": "OewkeMC1UrqW",
        "colab": {
          "base_uri": "https://localhost:8080/"
        },
        "outputId": "0193223e-5943-4072-c0c9-704ddf0b9a56"
      },
      "source": [
        "from google.colab import drive\n",
        "drive.mount('/content/drive')"
      ],
      "execution_count": null,
      "outputs": [
        {
          "output_type": "stream",
          "text": [
            "Mounted at /content/drive\n"
          ],
          "name": "stdout"
        }
      ]
    },
    {
      "cell_type": "code",
      "metadata": {
        "id": "FnkxCHfjUrtd"
      },
      "source": [
        "data = pd.read_csv(\"/content/drive/My Drive/Pregnancy Paper/Data/US_births_work_csv.csv\")"
      ],
      "execution_count": null,
      "outputs": []
    },
    {
      "cell_type": "code",
      "metadata": {
        "colab": {
          "base_uri": "https://localhost:8080/",
          "height": 215
        },
        "id": "N8D3zsMkUxpK",
        "outputId": "f853e5a7-0cfa-4884-c01c-3775223aad59"
      },
      "source": [
        "data.head()"
      ],
      "execution_count": null,
      "outputs": [
        {
          "output_type": "execute_result",
          "data": {
            "text/html": [
              "<div>\n",
              "<style scoped>\n",
              "    .dataframe tbody tr th:only-of-type {\n",
              "        vertical-align: middle;\n",
              "    }\n",
              "\n",
              "    .dataframe tbody tr th {\n",
              "        vertical-align: top;\n",
              "    }\n",
              "\n",
              "    .dataframe thead th {\n",
              "        text-align: right;\n",
              "    }\n",
              "</style>\n",
              "<table border=\"1\" class=\"dataframe\">\n",
              "  <thead>\n",
              "    <tr style=\"text-align: right;\">\n",
              "      <th></th>\n",
              "      <th>BMI</th>\n",
              "      <th>CIG_0</th>\n",
              "      <th>DBWT</th>\n",
              "      <th>DMAR</th>\n",
              "      <th>DWgt_R</th>\n",
              "      <th>FEDUC</th>\n",
              "      <th>FRACE6</th>\n",
              "      <th>ILP_R</th>\n",
              "      <th>IP_GON</th>\n",
              "      <th>LD_INDL</th>\n",
              "      <th>MAGER</th>\n",
              "      <th>MBSTATE_REC</th>\n",
              "      <th>MEDUC</th>\n",
              "      <th>MM_AICU</th>\n",
              "      <th>MRACE6</th>\n",
              "      <th>M_Ht_In</th>\n",
              "      <th>NO_INFEC</th>\n",
              "      <th>NO_MMORB</th>\n",
              "      <th>NO_RISKS</th>\n",
              "      <th>PRECARE</th>\n",
              "      <th>PREVIS</th>\n",
              "      <th>PRIORTERM</th>\n",
              "      <th>PWgt_R</th>\n",
              "      <th>RF_CESAR</th>\n",
              "      <th>SEX</th>\n",
              "      <th>WTGAIN</th>\n",
              "    </tr>\n",
              "  </thead>\n",
              "  <tbody>\n",
              "    <tr>\n",
              "      <th>0</th>\n",
              "      <td>30.7</td>\n",
              "      <td>0</td>\n",
              "      <td>3657</td>\n",
              "      <td>1</td>\n",
              "      <td>231</td>\n",
              "      <td>3.0</td>\n",
              "      <td>1</td>\n",
              "      <td>16</td>\n",
              "      <td>N</td>\n",
              "      <td>N</td>\n",
              "      <td>30</td>\n",
              "      <td>1</td>\n",
              "      <td>6</td>\n",
              "      <td>N</td>\n",
              "      <td>1</td>\n",
              "      <td>66</td>\n",
              "      <td>1</td>\n",
              "      <td>1</td>\n",
              "      <td>1</td>\n",
              "      <td>3</td>\n",
              "      <td>8</td>\n",
              "      <td>2</td>\n",
              "      <td>190</td>\n",
              "      <td>N</td>\n",
              "      <td>M</td>\n",
              "      <td>41</td>\n",
              "    </tr>\n",
              "    <tr>\n",
              "      <th>1</th>\n",
              "      <td>33.3</td>\n",
              "      <td>2</td>\n",
              "      <td>3242</td>\n",
              "      <td>2</td>\n",
              "      <td>185</td>\n",
              "      <td>4.0</td>\n",
              "      <td>3</td>\n",
              "      <td>180</td>\n",
              "      <td>N</td>\n",
              "      <td>N</td>\n",
              "      <td>35</td>\n",
              "      <td>1</td>\n",
              "      <td>9</td>\n",
              "      <td>N</td>\n",
              "      <td>3</td>\n",
              "      <td>63</td>\n",
              "      <td>1</td>\n",
              "      <td>1</td>\n",
              "      <td>0</td>\n",
              "      <td>3</td>\n",
              "      <td>9</td>\n",
              "      <td>0</td>\n",
              "      <td>188</td>\n",
              "      <td>Y</td>\n",
              "      <td>F</td>\n",
              "      <td>0</td>\n",
              "    </tr>\n",
              "    <tr>\n",
              "      <th>2</th>\n",
              "      <td>30.0</td>\n",
              "      <td>0</td>\n",
              "      <td>3470</td>\n",
              "      <td>1</td>\n",
              "      <td>273</td>\n",
              "      <td>4.0</td>\n",
              "      <td>1</td>\n",
              "      <td>999</td>\n",
              "      <td>N</td>\n",
              "      <td>N</td>\n",
              "      <td>28</td>\n",
              "      <td>1</td>\n",
              "      <td>6</td>\n",
              "      <td>N</td>\n",
              "      <td>1</td>\n",
              "      <td>71</td>\n",
              "      <td>1</td>\n",
              "      <td>1</td>\n",
              "      <td>0</td>\n",
              "      <td>5</td>\n",
              "      <td>17</td>\n",
              "      <td>0</td>\n",
              "      <td>215</td>\n",
              "      <td>N</td>\n",
              "      <td>M</td>\n",
              "      <td>58</td>\n",
              "    </tr>\n",
              "    <tr>\n",
              "      <th>3</th>\n",
              "      <td>23.7</td>\n",
              "      <td>0</td>\n",
              "      <td>3140</td>\n",
              "      <td>2</td>\n",
              "      <td>138</td>\n",
              "      <td>2.0</td>\n",
              "      <td>3</td>\n",
              "      <td>43</td>\n",
              "      <td>N</td>\n",
              "      <td>N</td>\n",
              "      <td>23</td>\n",
              "      <td>1</td>\n",
              "      <td>2</td>\n",
              "      <td>N</td>\n",
              "      <td>3</td>\n",
              "      <td>64</td>\n",
              "      <td>1</td>\n",
              "      <td>1</td>\n",
              "      <td>1</td>\n",
              "      <td>5</td>\n",
              "      <td>6</td>\n",
              "      <td>0</td>\n",
              "      <td>138</td>\n",
              "      <td>N</td>\n",
              "      <td>F</td>\n",
              "      <td>0</td>\n",
              "    </tr>\n",
              "    <tr>\n",
              "      <th>4</th>\n",
              "      <td>35.5</td>\n",
              "      <td>0</td>\n",
              "      <td>2125</td>\n",
              "      <td>1</td>\n",
              "      <td>219</td>\n",
              "      <td>3.0</td>\n",
              "      <td>2</td>\n",
              "      <td>999</td>\n",
              "      <td>N</td>\n",
              "      <td>N</td>\n",
              "      <td>37</td>\n",
              "      <td>1</td>\n",
              "      <td>4</td>\n",
              "      <td>N</td>\n",
              "      <td>1</td>\n",
              "      <td>66</td>\n",
              "      <td>1</td>\n",
              "      <td>1</td>\n",
              "      <td>1</td>\n",
              "      <td>5</td>\n",
              "      <td>15</td>\n",
              "      <td>4</td>\n",
              "      <td>220</td>\n",
              "      <td>N</td>\n",
              "      <td>M</td>\n",
              "      <td>0</td>\n",
              "    </tr>\n",
              "  </tbody>\n",
              "</table>\n",
              "</div>"
            ],
            "text/plain": [
              "    BMI  CIG_0  DBWT  DMAR  DWgt_R  ...  PRIORTERM  PWgt_R  RF_CESAR SEX WTGAIN\n",
              "0  30.7      0  3657     1     231  ...          2     190         N   M     41\n",
              "1  33.3      2  3242     2     185  ...          0     188         Y   F      0\n",
              "2  30.0      0  3470     1     273  ...          0     215         N   M     58\n",
              "3  23.7      0  3140     2     138  ...          0     138         N   F      0\n",
              "4  35.5      0  2125     1     219  ...          4     220         N   M      0\n",
              "\n",
              "[5 rows x 26 columns]"
            ]
          },
          "metadata": {
            "tags": []
          },
          "execution_count": 8
        }
      ]
    },
    {
      "cell_type": "code",
      "metadata": {
        "colab": {
          "base_uri": "https://localhost:8080/"
        },
        "id": "IIO0TQ8LUxjV",
        "outputId": "de5517fc-ca00-492b-8340-c91aeaddfc37"
      },
      "source": [
        "data.shape"
      ],
      "execution_count": null,
      "outputs": [
        {
          "output_type": "execute_result",
          "data": {
            "text/plain": [
              "(1048575, 26)"
            ]
          },
          "metadata": {
            "tags": []
          },
          "execution_count": 9
        }
      ]
    },
    {
      "cell_type": "code",
      "metadata": {
        "colab": {
          "base_uri": "https://localhost:8080/"
        },
        "id": "g7vL30NSU81Y",
        "outputId": "f46d8945-7ef3-4e79-f025-e8eb38a956db"
      },
      "source": [
        "data.columns"
      ],
      "execution_count": null,
      "outputs": [
        {
          "output_type": "execute_result",
          "data": {
            "text/plain": [
              "Index(['BMI', 'CIG_0', 'DBWT', 'DMAR', 'DWgt_R', 'FEDUC', 'FRACE6', 'ILP_R',\n",
              "       'IP_GON', 'LD_INDL', 'MAGER', 'MBSTATE_REC', 'MEDUC', 'MM_AICU',\n",
              "       'MRACE6', 'M_Ht_In', 'NO_INFEC', 'NO_MMORB', 'NO_RISKS', 'PRECARE',\n",
              "       'PREVIS', 'PRIORTERM', 'PWgt_R', 'RF_CESAR', 'SEX', 'WTGAIN'],\n",
              "      dtype='object')"
            ]
          },
          "metadata": {
            "tags": []
          },
          "execution_count": 10
        }
      ]
    },
    {
      "cell_type": "code",
      "metadata": {
        "colab": {
          "base_uri": "https://localhost:8080/"
        },
        "id": "_0LRyGDQU86Q",
        "outputId": "54949489-918e-4edf-aee0-11416d62f534"
      },
      "source": [
        "data.dtypes"
      ],
      "execution_count": null,
      "outputs": [
        {
          "output_type": "execute_result",
          "data": {
            "text/plain": [
              "BMI            float64\n",
              "CIG_0            int64\n",
              "DBWT             int64\n",
              "DMAR             int64\n",
              "DWgt_R           int64\n",
              "FEDUC          float64\n",
              "FRACE6           int64\n",
              "ILP_R            int64\n",
              "IP_GON          object\n",
              "LD_INDL         object\n",
              "MAGER            int64\n",
              "MBSTATE_REC      int64\n",
              "MEDUC            int64\n",
              "MM_AICU         object\n",
              "MRACE6           int64\n",
              "M_Ht_In          int64\n",
              "NO_INFEC         int64\n",
              "NO_MMORB         int64\n",
              "NO_RISKS         int64\n",
              "PRECARE          int64\n",
              "PREVIS           int64\n",
              "PRIORTERM        int64\n",
              "PWgt_R           int64\n",
              "RF_CESAR        object\n",
              "SEX             object\n",
              "WTGAIN           int64\n",
              "dtype: object"
            ]
          },
          "metadata": {
            "tags": []
          },
          "execution_count": 11
        }
      ]
    },
    {
      "cell_type": "code",
      "metadata": {
        "id": "n0wOKYjWU8_Z"
      },
      "source": [
        "#Dropping irrelevant features\r\n",
        "data.drop(['WTGAIN','DWgt_R','MM_AICU','LD_INDL'], axis=1, inplace=True)    "
      ],
      "execution_count": null,
      "outputs": []
    },
    {
      "cell_type": "code",
      "metadata": {
        "id": "-I36TuiBCJge"
      },
      "source": [
        "#Removing records of women who started prenatal care in their 10th month\r\n",
        "data.drop(data[data.PRECARE==10].index,axis=0,inplace=True)"
      ],
      "execution_count": null,
      "outputs": []
    },
    {
      "cell_type": "markdown",
      "metadata": {
        "id": "FUx2z69bVPCS"
      },
      "source": [
        "## Missing Values"
      ]
    },
    {
      "cell_type": "code",
      "metadata": {
        "id": "sONrGZpTWKFQ"
      },
      "source": [
        "#To calculate the percent of missing values in variables of type 'object'\n",
        "def missing_perc(dat, obj_cols):\n",
        "  for col in obj_cols:\n",
        "    perc = len(dat[col][dat[col]=='U'])/dat.shape[0]\n",
        "    print(col,\":\", perc)"
      ],
      "execution_count": null,
      "outputs": []
    },
    {
      "cell_type": "code",
      "metadata": {
        "colab": {
          "base_uri": "https://localhost:8080/"
        },
        "id": "uyjw9EkuDs_m",
        "outputId": "bb812b4e-7696-4423-ba78-39e9f86760e7"
      },
      "source": [
        "obj_cols = data.columns[data.dtypes=='object']\n",
        "obj_cols"
      ],
      "execution_count": null,
      "outputs": [
        {
          "output_type": "execute_result",
          "data": {
            "text/plain": [
              "Index(['IP_GON', 'RF_CESAR', 'SEX'], dtype='object')"
            ]
          },
          "metadata": {
            "tags": []
          },
          "execution_count": 14
        }
      ]
    },
    {
      "cell_type": "code",
      "metadata": {
        "colab": {
          "base_uri": "https://localhost:8080/"
        },
        "id": "Yp0p2e99VevH",
        "outputId": "28d2049e-b53b-479c-b3e4-270a3d3a7125"
      },
      "source": [
        "print(len(data.DBWT[data.DBWT==9999])/data.shape[0])"
      ],
      "execution_count": null,
      "outputs": [
        {
          "output_type": "stream",
          "text": [
            "0.00036433242758893\n"
          ],
          "name": "stdout"
        }
      ]
    },
    {
      "cell_type": "code",
      "metadata": {
        "colab": {
          "base_uri": "https://localhost:8080/"
        },
        "id": "z0dQzV16VU7s",
        "outputId": "b90c6254-00d8-4f94-cf68-2e83dcf8e589"
      },
      "source": [
        "print(len(data.BMI[data.BMI==99.9])/data.shape[0])"
      ],
      "execution_count": null,
      "outputs": [
        {
          "output_type": "stream",
          "text": [
            "0.027668282000928954\n"
          ],
          "name": "stdout"
        }
      ]
    },
    {
      "cell_type": "code",
      "metadata": {
        "colab": {
          "base_uri": "https://localhost:8080/"
        },
        "id": "bqSpWfi6VazA",
        "outputId": "0761eb26-2db2-468f-d6c7-312d05c50484"
      },
      "source": [
        "print(len(data.CIG_0[data.CIG_0==99])/data.shape[0])"
      ],
      "execution_count": null,
      "outputs": [
        {
          "output_type": "stream",
          "text": [
            "0.005093023987761482\n"
          ],
          "name": "stdout"
        }
      ]
    },
    {
      "cell_type": "code",
      "metadata": {
        "colab": {
          "base_uri": "https://localhost:8080/"
        },
        "id": "S55CaNjVWDlZ",
        "outputId": "d1f36569-15c2-43ae-fd3e-77c2105c8115"
      },
      "source": [
        "len(data.PWgt_R[data.PWgt_R==999])/data.shape[0]"
      ],
      "execution_count": null,
      "outputs": [
        {
          "output_type": "execute_result",
          "data": {
            "text/plain": [
              "0.02463249635429135"
            ]
          },
          "metadata": {
            "tags": []
          },
          "execution_count": 15
        }
      ]
    },
    {
      "cell_type": "code",
      "metadata": {
        "colab": {
          "base_uri": "https://localhost:8080/"
        },
        "id": "zC0EnJ4FVz--",
        "outputId": "4dab7f29-7268-4355-d35f-e6dedf32e629"
      },
      "source": [
        "len(data.M_Ht_In[data.M_Ht_In==99])/data.shape[0]"
      ],
      "execution_count": null,
      "outputs": [
        {
          "output_type": "execute_result",
          "data": {
            "text/plain": [
              "0.007244683560119142"
            ]
          },
          "metadata": {
            "tags": []
          },
          "execution_count": 16
        }
      ]
    },
    {
      "cell_type": "code",
      "metadata": {
        "colab": {
          "base_uri": "https://localhost:8080/"
        },
        "id": "_EDgID6IV5ma",
        "outputId": "62a000c9-5791-4d17-e1f1-6533f2e82686"
      },
      "source": [
        "len(data.PREVIS[data.PREVIS==99])/data.shape[0]"
      ],
      "execution_count": null,
      "outputs": [
        {
          "output_type": "execute_result",
          "data": {
            "text/plain": [
              "0.023704497788731065"
            ]
          },
          "metadata": {
            "tags": []
          },
          "execution_count": 17
        }
      ]
    },
    {
      "cell_type": "code",
      "metadata": {
        "colab": {
          "base_uri": "https://localhost:8080/"
        },
        "id": "yW-7BBiJWDft",
        "outputId": "7ccfd6c1-2a4f-46dd-880a-759271c62c19"
      },
      "source": [
        "len(data.PRIORTERM[data.PRIORTERM==99])/data.shape[0]"
      ],
      "execution_count": null,
      "outputs": [
        {
          "output_type": "execute_result",
          "data": {
            "text/plain": [
              "0.002544604494259857"
            ]
          },
          "metadata": {
            "tags": []
          },
          "execution_count": 18
        }
      ]
    },
    {
      "cell_type": "code",
      "metadata": {
        "colab": {
          "base_uri": "https://localhost:8080/"
        },
        "id": "UA6ow1xgVnSj",
        "outputId": "aebcf83f-ea09-48fe-928a-51abd44b0fc0"
      },
      "source": [
        "len(data.ILP_R[data.ILP_R==999])/data.shape[0]"
      ],
      "execution_count": null,
      "outputs": [
        {
          "output_type": "execute_result",
          "data": {
            "text/plain": [
              "0.09325956396466166"
            ]
          },
          "metadata": {
            "tags": []
          },
          "execution_count": 19
        }
      ]
    },
    {
      "cell_type": "code",
      "metadata": {
        "colab": {
          "base_uri": "https://localhost:8080/"
        },
        "id": "Negi-qTFVnWR",
        "outputId": "5f9d1972-46bc-4859-936d-cb7610ae3ac5"
      },
      "source": [
        "len(data.MBSTATE_REC[data.MBSTATE_REC==3])/data.shape[0]"
      ],
      "execution_count": null,
      "outputs": [
        {
          "output_type": "execute_result",
          "data": {
            "text/plain": [
              "0.0014659134586497001"
            ]
          },
          "metadata": {
            "tags": []
          },
          "execution_count": 20
        }
      ]
    },
    {
      "cell_type": "code",
      "metadata": {
        "colab": {
          "base_uri": "https://localhost:8080/"
        },
        "id": "agi81aGdVnN4",
        "outputId": "2ee54b11-b84c-454d-8bef-b3d4a3bdae85"
      },
      "source": [
        "len(data.MEDUC[data.MEDUC==9])/data.shape[0]"
      ],
      "execution_count": null,
      "outputs": [
        {
          "output_type": "execute_result",
          "data": {
            "text/plain": [
              "0.02815564815406493"
            ]
          },
          "metadata": {
            "tags": []
          },
          "execution_count": 21
        }
      ]
    },
    {
      "cell_type": "code",
      "metadata": {
        "colab": {
          "base_uri": "https://localhost:8080/"
        },
        "id": "l7aYIVEQVz6a",
        "outputId": "07608bcf-10df-4a16-a4dc-7866495fd4ae"
      },
      "source": [
        "len(data.MRACE6[data.MRACE6==9])/data.shape[0]"
      ],
      "execution_count": null,
      "outputs": [
        {
          "output_type": "execute_result",
          "data": {
            "text/plain": [
              "0.0"
            ]
          },
          "metadata": {
            "tags": []
          },
          "execution_count": 22
        }
      ]
    },
    {
      "cell_type": "code",
      "metadata": {
        "colab": {
          "base_uri": "https://localhost:8080/"
        },
        "id": "1W5UwWgAVz32",
        "outputId": "e0290318-a33d-4e10-8d55-f4192ac79dda"
      },
      "source": [
        "len(data.NO_INFEC[data.NO_INFEC==9])/data.shape[0]"
      ],
      "execution_count": null,
      "outputs": [
        {
          "output_type": "execute_result",
          "data": {
            "text/plain": [
              "0.002885093176587731"
            ]
          },
          "metadata": {
            "tags": []
          },
          "execution_count": 23
        }
      ]
    },
    {
      "cell_type": "code",
      "metadata": {
        "colab": {
          "base_uri": "https://localhost:8080/"
        },
        "id": "Ywz6DGBzV5jt",
        "outputId": "47f2a987-3078-4c95-8656-11d245700ed9"
      },
      "source": [
        "len(data.NO_MMORB[data.NO_MMORB==9])/data.shape[0]"
      ],
      "execution_count": null,
      "outputs": [
        {
          "output_type": "execute_result",
          "data": {
            "text/plain": [
              "0.0006905148627601711"
            ]
          },
          "metadata": {
            "tags": []
          },
          "execution_count": 24
        }
      ]
    },
    {
      "cell_type": "code",
      "metadata": {
        "colab": {
          "base_uri": "https://localhost:8080/"
        },
        "id": "PErKlk6IV5oB",
        "outputId": "c7175795-ae02-4296-e5f8-0d79b9f28be5"
      },
      "source": [
        "len(data.NO_RISKS[data.NO_RISKS==9])/data.shape[0]"
      ],
      "execution_count": null,
      "outputs": [
        {
          "output_type": "execute_result",
          "data": {
            "text/plain": [
              "0.0008621898286397716"
            ]
          },
          "metadata": {
            "tags": []
          },
          "execution_count": 25
        }
      ]
    },
    {
      "cell_type": "code",
      "metadata": {
        "colab": {
          "base_uri": "https://localhost:8080/"
        },
        "id": "0ERTmqENV5r8",
        "outputId": "f7ffc2ee-782b-44e3-9c26-cc885607aeaf"
      },
      "source": [
        "len(data.PRECARE[data.PRECARE==99])/data.shape[0]"
      ],
      "execution_count": null,
      "outputs": [
        {
          "output_type": "execute_result",
          "data": {
            "text/plain": [
              "0.021545208217889866"
            ]
          },
          "metadata": {
            "tags": []
          },
          "execution_count": 26
        }
      ]
    },
    {
      "cell_type": "code",
      "metadata": {
        "colab": {
          "base_uri": "https://localhost:8080/"
        },
        "id": "jM-hmrvEVa10",
        "outputId": "9e1d2dcb-c23e-4f0b-a4b4-f04dfe0d182d"
      },
      "source": [
        "print(len(data.DMAR[data.DMAR==9])/data.shape[0])"
      ],
      "execution_count": null,
      "outputs": [
        {
          "output_type": "stream",
          "text": [
            "0.0\n"
          ],
          "name": "stdout"
        }
      ]
    },
    {
      "cell_type": "code",
      "metadata": {
        "colab": {
          "base_uri": "https://localhost:8080/"
        },
        "id": "K5pcoyuSVa62",
        "outputId": "f4a31eb6-da25-49f7-aa4f-5252029e8d3d"
      },
      "source": [
        "print(len(data.FRACE6[data.FRACE6==9])/data.shape[0])"
      ],
      "execution_count": null,
      "outputs": [
        {
          "output_type": "stream",
          "text": [
            "0.166128910731879\n"
          ],
          "name": "stdout"
        }
      ]
    },
    {
      "cell_type": "code",
      "metadata": {
        "id": "qLJNPUEYVU3p",
        "colab": {
          "base_uri": "https://localhost:8080/"
        },
        "outputId": "8aca76db-85c0-4b53-9ee8-c30e7998c960"
      },
      "source": [
        "#Father's educ\n",
        "print(data.isnull().sum()[data.isnull().sum()>0]/data.shape[0])"
      ],
      "execution_count": null,
      "outputs": [
        {
          "output_type": "stream",
          "text": [
            "FEDUC    0.1353\n",
            "dtype: float64\n"
          ],
          "name": "stdout"
        }
      ]
    },
    {
      "cell_type": "code",
      "metadata": {
        "id": "QuchdzbXWKJW",
        "colab": {
          "base_uri": "https://localhost:8080/"
        },
        "outputId": "d534f15f-f45c-4120-8137-5964f9f8ccf0"
      },
      "source": [
        "missing_perc(data, obj_cols)"
      ],
      "execution_count": null,
      "outputs": [
        {
          "output_type": "stream",
          "text": [
            "IP_GON : 0.002885093176587731\n",
            "RF_CESAR : 0.0008621898286397716\n",
            "SEX : 0.0\n"
          ],
          "name": "stdout"
        }
      ]
    },
    {
      "cell_type": "markdown",
      "metadata": {
        "id": "I0oRV4e_C-GO"
      },
      "source": [
        "Since the features 'Father's Education' and 'Father's Race' had a huge proportion of missing values, these features were dropped. The rest of the records with missing values were dropped as it made up of only a small proportion of the entire dataset."
      ]
    },
    {
      "cell_type": "code",
      "metadata": {
        "id": "wKwC7lAADJrU"
      },
      "source": [
        "data.drop(['FRACE6', 'FEDUC'], axis=1, inplace=True)"
      ],
      "execution_count": null,
      "outputs": []
    },
    {
      "cell_type": "code",
      "metadata": {
        "id": "mQFcHGcLfXnL"
      },
      "source": [
        "#Dropping missing/unknown values from each column\n",
        "#Numerical\n",
        "data.drop(data.index[data.BMI==99.9], axis=0, inplace=True)\n",
        "data.drop(data.index[data.CIG_0==99], axis=0, inplace=True)\n",
        "data.drop(data.index[data.DBWT==9999], axis=0, inplace=True)\n",
        "data.drop(data.index[data.PWgt_R==999], axis=0, inplace=True)\n",
        "data.drop(data.index[data.M_Ht_In==99], axis=0, inplace=True)\n",
        "data.drop(data.index[data.PREVIS==99], axis=0, inplace=True)\n",
        "data.drop(data.index[data.PRIORTERM==99], axis=0, inplace=True)\n",
        "data.drop(data.index[data.ILP_R==999], axis=0, inplace=True)\n",
        "\n",
        "#Categorical (of int type)\n",
        "data.drop(data.index[data.MBSTATE_REC==3], axis=0, inplace=True)\n",
        "data.drop(data.index[data.MEDUC==9], axis=0, inplace=True)\n",
        "data.drop(data.index[data.NO_INFEC==9], axis=0, inplace=True)\n",
        "data.drop(data.index[data.NO_MMORB==9], axis=0, inplace=True)\n",
        "data.drop(data.index[data.NO_RISKS==9], axis=0, inplace=True)\n",
        "data.drop(data.index[data.PRECARE==99], axis=0, inplace=True)"
      ],
      "execution_count": null,
      "outputs": []
    },
    {
      "cell_type": "code",
      "metadata": {
        "id": "u4d81S4IfXqq"
      },
      "source": [
        "#To drop records with missing values in variables of type 'object'\n",
        "def drop_missing(dat, obj_cols):\n",
        "  for col in obj_cols:\n",
        "    dat.drop(data.index[dat[col]=='U'], axis=0, inplace=True)\n",
        "  return dat\n",
        "\n",
        "data = drop_missing(data,obj_cols)"
      ],
      "execution_count": null,
      "outputs": []
    },
    {
      "cell_type": "code",
      "metadata": {
        "id": "AvAO2fTFwZX9"
      },
      "source": [
        "data.ILP_R.replace(888,0, inplace=True)   #Here, 888 signifies 'no previous pregnancies'. Hence, 0 will be a better value for the same."
      ],
      "execution_count": null,
      "outputs": []
    },
    {
      "cell_type": "code",
      "metadata": {
        "colab": {
          "base_uri": "https://localhost:8080/"
        },
        "id": "q0hdawqNFLAa",
        "outputId": "3b1ffced-d5bb-49ab-bad1-e23258bba79d"
      },
      "source": [
        "data.columns"
      ],
      "execution_count": null,
      "outputs": [
        {
          "output_type": "execute_result",
          "data": {
            "text/plain": [
              "Index(['BMI', 'CIG_0', 'DBWT', 'DMAR', 'ILP_R', 'IP_GON', 'MAGER',\n",
              "       'MBSTATE_REC', 'MEDUC', 'MRACE6', 'M_Ht_In', 'NO_INFEC', 'NO_MMORB',\n",
              "       'NO_RISKS', 'PRECARE', 'PREVIS', 'PRIORTERM', 'PWgt_R', 'RF_CESAR',\n",
              "       'SEX'],\n",
              "      dtype='object')"
            ]
          },
          "metadata": {
            "tags": []
          },
          "execution_count": 20
        }
      ]
    },
    {
      "cell_type": "code",
      "metadata": {
        "colab": {
          "base_uri": "https://localhost:8080/",
          "height": 195
        },
        "id": "_9OpvC1T-Hg4",
        "outputId": "7d11162a-73c7-4d7c-9695-d2a92e5a90b5"
      },
      "source": [
        "data.head()"
      ],
      "execution_count": null,
      "outputs": [
        {
          "output_type": "execute_result",
          "data": {
            "text/html": [
              "<div>\n",
              "<style scoped>\n",
              "    .dataframe tbody tr th:only-of-type {\n",
              "        vertical-align: middle;\n",
              "    }\n",
              "\n",
              "    .dataframe tbody tr th {\n",
              "        vertical-align: top;\n",
              "    }\n",
              "\n",
              "    .dataframe thead th {\n",
              "        text-align: right;\n",
              "    }\n",
              "</style>\n",
              "<table border=\"1\" class=\"dataframe\">\n",
              "  <thead>\n",
              "    <tr style=\"text-align: right;\">\n",
              "      <th></th>\n",
              "      <th>BMI</th>\n",
              "      <th>CIG_0</th>\n",
              "      <th>DBWT</th>\n",
              "      <th>DMAR</th>\n",
              "      <th>ILP_R</th>\n",
              "      <th>IP_GON</th>\n",
              "      <th>MAGER</th>\n",
              "      <th>MBSTATE_REC</th>\n",
              "      <th>MEDUC</th>\n",
              "      <th>MRACE6</th>\n",
              "      <th>M_Ht_In</th>\n",
              "      <th>NO_INFEC</th>\n",
              "      <th>NO_MMORB</th>\n",
              "      <th>NO_RISKS</th>\n",
              "      <th>PRECARE</th>\n",
              "      <th>PREVIS</th>\n",
              "      <th>PRIORTERM</th>\n",
              "      <th>PWgt_R</th>\n",
              "      <th>RF_CESAR</th>\n",
              "      <th>SEX</th>\n",
              "    </tr>\n",
              "  </thead>\n",
              "  <tbody>\n",
              "    <tr>\n",
              "      <th>0</th>\n",
              "      <td>30.7</td>\n",
              "      <td>0</td>\n",
              "      <td>3657</td>\n",
              "      <td>1</td>\n",
              "      <td>16</td>\n",
              "      <td>N</td>\n",
              "      <td>30</td>\n",
              "      <td>1</td>\n",
              "      <td>6</td>\n",
              "      <td>1</td>\n",
              "      <td>66</td>\n",
              "      <td>1</td>\n",
              "      <td>1</td>\n",
              "      <td>1</td>\n",
              "      <td>3</td>\n",
              "      <td>8</td>\n",
              "      <td>2</td>\n",
              "      <td>190</td>\n",
              "      <td>N</td>\n",
              "      <td>M</td>\n",
              "    </tr>\n",
              "    <tr>\n",
              "      <th>3</th>\n",
              "      <td>23.7</td>\n",
              "      <td>0</td>\n",
              "      <td>3140</td>\n",
              "      <td>2</td>\n",
              "      <td>43</td>\n",
              "      <td>N</td>\n",
              "      <td>23</td>\n",
              "      <td>1</td>\n",
              "      <td>2</td>\n",
              "      <td>3</td>\n",
              "      <td>64</td>\n",
              "      <td>1</td>\n",
              "      <td>1</td>\n",
              "      <td>1</td>\n",
              "      <td>5</td>\n",
              "      <td>6</td>\n",
              "      <td>0</td>\n",
              "      <td>138</td>\n",
              "      <td>N</td>\n",
              "      <td>F</td>\n",
              "    </tr>\n",
              "    <tr>\n",
              "      <th>5</th>\n",
              "      <td>31.3</td>\n",
              "      <td>0</td>\n",
              "      <td>4082</td>\n",
              "      <td>1</td>\n",
              "      <td>39</td>\n",
              "      <td>N</td>\n",
              "      <td>26</td>\n",
              "      <td>1</td>\n",
              "      <td>6</td>\n",
              "      <td>1</td>\n",
              "      <td>67</td>\n",
              "      <td>1</td>\n",
              "      <td>1</td>\n",
              "      <td>1</td>\n",
              "      <td>2</td>\n",
              "      <td>13</td>\n",
              "      <td>0</td>\n",
              "      <td>200</td>\n",
              "      <td>N</td>\n",
              "      <td>F</td>\n",
              "    </tr>\n",
              "    <tr>\n",
              "      <th>6</th>\n",
              "      <td>23.0</td>\n",
              "      <td>0</td>\n",
              "      <td>3180</td>\n",
              "      <td>1</td>\n",
              "      <td>27</td>\n",
              "      <td>N</td>\n",
              "      <td>28</td>\n",
              "      <td>1</td>\n",
              "      <td>4</td>\n",
              "      <td>1</td>\n",
              "      <td>70</td>\n",
              "      <td>1</td>\n",
              "      <td>1</td>\n",
              "      <td>1</td>\n",
              "      <td>3</td>\n",
              "      <td>6</td>\n",
              "      <td>0</td>\n",
              "      <td>160</td>\n",
              "      <td>N</td>\n",
              "      <td>F</td>\n",
              "    </tr>\n",
              "    <tr>\n",
              "      <th>7</th>\n",
              "      <td>28.2</td>\n",
              "      <td>0</td>\n",
              "      <td>3230</td>\n",
              "      <td>1</td>\n",
              "      <td>0</td>\n",
              "      <td>N</td>\n",
              "      <td>31</td>\n",
              "      <td>1</td>\n",
              "      <td>3</td>\n",
              "      <td>1</td>\n",
              "      <td>67</td>\n",
              "      <td>1</td>\n",
              "      <td>1</td>\n",
              "      <td>1</td>\n",
              "      <td>3</td>\n",
              "      <td>18</td>\n",
              "      <td>0</td>\n",
              "      <td>180</td>\n",
              "      <td>N</td>\n",
              "      <td>F</td>\n",
              "    </tr>\n",
              "  </tbody>\n",
              "</table>\n",
              "</div>"
            ],
            "text/plain": [
              "    BMI  CIG_0  DBWT  DMAR  ILP_R  ... PREVIS  PRIORTERM  PWgt_R  RF_CESAR  SEX\n",
              "0  30.7      0  3657     1     16  ...      8          2     190         N    M\n",
              "3  23.7      0  3140     2     43  ...      6          0     138         N    F\n",
              "5  31.3      0  4082     1     39  ...     13          0     200         N    F\n",
              "6  23.0      0  3180     1     27  ...      6          0     160         N    F\n",
              "7  28.2      0  3230     1      0  ...     18          0     180         N    F\n",
              "\n",
              "[5 rows x 20 columns]"
            ]
          },
          "metadata": {
            "tags": []
          },
          "execution_count": 21
        }
      ]
    },
    {
      "cell_type": "code",
      "metadata": {
        "colab": {
          "base_uri": "https://localhost:8080/"
        },
        "id": "euFwH9hWfe-k",
        "outputId": "a94e344d-3201-4be2-bcfd-e785e4bd1e5f"
      },
      "source": [
        "data.shape"
      ],
      "execution_count": null,
      "outputs": [
        {
          "output_type": "execute_result",
          "data": {
            "text/plain": [
              "(878492, 20)"
            ]
          },
          "metadata": {
            "tags": []
          },
          "execution_count": 22
        }
      ]
    },
    {
      "cell_type": "markdown",
      "metadata": {
        "id": "6HoBIA_8EDHc"
      },
      "source": [
        "# Functions"
      ]
    },
    {
      "cell_type": "code",
      "metadata": {
        "id": "gy61ooZlGqLA"
      },
      "source": [
        "#Heatmap\r\n",
        "def heat_map(df):\r\n",
        "  corr = df.corr()\r\n",
        "  sns.heatmap(corr, annot = True, annot_kws={'size':12}, cmap=\"Blues\")\r\n",
        "  plt.gcf().set_size_inches(10,5)\r\n",
        "  plt.xticks(fontsize=10)\r\n",
        "  plt.yticks(fontsize=10)\r\n",
        "  plt.show()"
      ],
      "execution_count": null,
      "outputs": []
    },
    {
      "cell_type": "code",
      "metadata": {
        "id": "eqAz4oZLIrgn"
      },
      "source": [
        "#KDE Plots\r\n",
        "def kde(df,col):\r\n",
        "  df.groupby('DBWT')[col].plot.kde()\r\n",
        "  plt.ylabel('Probability')\r\n",
        "  plt.xlabel(col)\r\n",
        "  plt.title('KDE Plot for column '+ col)\r\n",
        "  plt.legend(labels=df['DBWT'].unique().tolist())\r\n",
        "  plt.show()"
      ],
      "execution_count": null,
      "outputs": []
    },
    {
      "cell_type": "code",
      "metadata": {
        "id": "FDAlsC4EHPgZ"
      },
      "source": [
        "#Kruskal-Wallis H Test\r\n",
        "def kruskal_wallis(df, col):\r\n",
        "  krusk_stats,p = kruskal(*[group[col].values for name, group in df.groupby('DBWT')])\r\n",
        "  print('H Statistic:',krusk_stats)\r\n",
        "  print('p-value:',p)"
      ],
      "execution_count": null,
      "outputs": []
    },
    {
      "cell_type": "code",
      "metadata": {
        "id": "1Gtcl99Wtj2I"
      },
      "source": [
        "#Chi-Sq Test of Independence and Cramer's V\r\n",
        "def chisq(df, col1, col2='DBWT'):\r\n",
        "  conting_tbl = pd.crosstab(df[col1], df[col2])\r\n",
        "  # stats, p, = chi2_contingency(conting_tbl)[:2]\r\n",
        "  chi2,p = chi2_contingency(conting_tbl, correction=True)[:2]\r\n",
        "  print(\"ChiSq Statistics:\", chi2)\r\n",
        "  print(\"p-value:\", p)\r\n",
        "\r\n",
        "  n = sum(conting_tbl.sum())\r\n",
        "  phi2 = chi2/n\r\n",
        "  nrows,ncols = conting_tbl.shape\r\n",
        "  phi2corr = max(0, phi2 - ((ncols-1)*(nrows-1))/(n-1))    \r\n",
        "  rowscorr = nrows - ((nrows-1)**2)/(n-1)\r\n",
        "  colscorr = ncols - ((ncols-1)**2)/(n-1)\r\n",
        "  result= sqrt(phi2corr / min((colscorr-1), (rowscorr-1)))\r\n",
        "  print(\"Cramer's V:\", round(result,5))"
      ],
      "execution_count": null,
      "outputs": []
    },
    {
      "cell_type": "markdown",
      "metadata": {
        "id": "n3WoJPQ2HbEf"
      },
      "source": [
        "# Classification Problem"
      ]
    },
    {
      "cell_type": "code",
      "metadata": {
        "id": "OXFCbSKqO5pf"
      },
      "source": [
        "num_cols = ['CIG_0', 'MAGER', 'M_Ht_In', 'PREVIS', 'PRIORTERM', 'PWgt_R','ILP_R', 'DBWT', \"BMI\"]"
      ],
      "execution_count": null,
      "outputs": []
    },
    {
      "cell_type": "code",
      "metadata": {
        "id": "xy0-5AcZOnYp"
      },
      "source": [
        "newdf = data.copy(deep=True)     #For Classification"
      ],
      "execution_count": null,
      "outputs": []
    },
    {
      "cell_type": "markdown",
      "metadata": {
        "id": "B3wMwua5HZmy"
      },
      "source": [
        "The regression models built performed poorly, given the huge variance within the dataset. It was decided to convert this into a classification problem with 2 classes, namely 'Class 0' indicating normal birth weights and 'Class 1' indicating birth weights outside the normal range."
      ]
    },
    {
      "cell_type": "code",
      "metadata": {
        "colab": {
          "base_uri": "https://localhost:8080/"
        },
        "id": "vJ7r-bsyPAH8",
        "outputId": "af8507f4-84ff-471e-c1bf-279311f35a9b"
      },
      "source": [
        "newdf.DBWT.loc[(newdf.DBWT>=2500)&(newdf.DBWT<=4500)] = 0     #Normal"
      ],
      "execution_count": null,
      "outputs": [
        {
          "output_type": "stream",
          "text": [
            "/usr/local/lib/python3.6/dist-packages/pandas/core/indexing.py:670: SettingWithCopyWarning: \n",
            "A value is trying to be set on a copy of a slice from a DataFrame\n",
            "\n",
            "See the caveats in the documentation: https://pandas.pydata.org/pandas-docs/stable/user_guide/indexing.html#returning-a-view-versus-a-copy\n",
            "  iloc._setitem_with_indexer(indexer, value)\n"
          ],
          "name": "stderr"
        }
      ]
    },
    {
      "cell_type": "code",
      "metadata": {
        "colab": {
          "base_uri": "https://localhost:8080/"
        },
        "id": "xHNVrtpUP9gN",
        "outputId": "d75cc748-c7d6-42ef-89dc-417d9815f750"
      },
      "source": [
        "newdf.DBWT.loc[newdf.DBWT!=0] = 1     #Not Normal"
      ],
      "execution_count": null,
      "outputs": [
        {
          "output_type": "stream",
          "text": [
            "/usr/local/lib/python3.6/dist-packages/pandas/core/indexing.py:670: SettingWithCopyWarning: \n",
            "A value is trying to be set on a copy of a slice from a DataFrame\n",
            "\n",
            "See the caveats in the documentation: https://pandas.pydata.org/pandas-docs/stable/user_guide/indexing.html#returning-a-view-versus-a-copy\n",
            "  iloc._setitem_with_indexer(indexer, value)\n"
          ],
          "name": "stderr"
        }
      ]
    },
    {
      "cell_type": "code",
      "metadata": {
        "colab": {
          "base_uri": "https://localhost:8080/"
        },
        "id": "eRYP2KSfrvDN",
        "outputId": "c9890ea8-e193-44df-877a-10900e8839d5"
      },
      "source": [
        "newdf.DBWT.value_counts()/newdf.shape[0]"
      ],
      "execution_count": null,
      "outputs": [
        {
          "output_type": "execute_result",
          "data": {
            "text/plain": [
              "0    0.914287\n",
              "1    0.085713\n",
              "Name: DBWT, dtype: float64"
            ]
          },
          "metadata": {
            "tags": []
          },
          "execution_count": 37
        }
      ]
    },
    {
      "cell_type": "code",
      "metadata": {
        "id": "vWUMLmUi4vb6"
      },
      "source": [
        "num_cols.remove('DBWT')"
      ],
      "execution_count": null,
      "outputs": []
    },
    {
      "cell_type": "markdown",
      "metadata": {
        "id": "vnVnagenp6I6"
      },
      "source": [
        "## Numerical Features"
      ]
    },
    {
      "cell_type": "code",
      "metadata": {
        "id": "bWiK4tykp_yt",
        "colab": {
          "base_uri": "https://localhost:8080/"
        },
        "outputId": "a3c00784-56ac-4652-9027-275591e63422"
      },
      "source": [
        "newdf['CIG_0'][newdf.CIG_0 != 0] = 1  #Smokers\r\n",
        "newdf.CIG_0.unique()"
      ],
      "execution_count": null,
      "outputs": [
        {
          "output_type": "stream",
          "text": [
            "/usr/local/lib/python3.6/dist-packages/ipykernel_launcher.py:1: SettingWithCopyWarning: \n",
            "A value is trying to be set on a copy of a slice from a DataFrame\n",
            "\n",
            "See the caveats in the documentation: https://pandas.pydata.org/pandas-docs/stable/user_guide/indexing.html#returning-a-view-versus-a-copy\n",
            "  \"\"\"Entry point for launching an IPython kernel.\n"
          ],
          "name": "stderr"
        },
        {
          "output_type": "execute_result",
          "data": {
            "text/plain": [
              "array([0, 1])"
            ]
          },
          "metadata": {
            "tags": []
          },
          "execution_count": 39
        }
      ]
    },
    {
      "cell_type": "code",
      "metadata": {
        "id": "gLlnofIWsd5N"
      },
      "source": [
        "num_cols.remove('CIG_0')"
      ],
      "execution_count": null,
      "outputs": []
    },
    {
      "cell_type": "code",
      "metadata": {
        "id": "51v2L5s-XsOJ",
        "colab": {
          "base_uri": "https://localhost:8080/"
        },
        "outputId": "2016415d-54d9-46bc-af96-9d29865f8c01"
      },
      "source": [
        "age_bins = pd.IntervalIndex.from_tuples([(10,15), (15,20),(20,25), (25,30),(30,35), (35,40),(40,45), (45,50)],closed='right')\r\n",
        "AGE = pd.cut(newdf.MAGER, bins=age_bins)\r\n",
        "AGE.value_counts()"
      ],
      "execution_count": null,
      "outputs": [
        {
          "output_type": "execute_result",
          "data": {
            "text/plain": [
              "(25, 30]    257300\n",
              "(30, 35]    241142\n",
              "(20, 25]    181485\n",
              "(35, 40]    111287\n",
              "(15, 20]     65401\n",
              "(40, 45]     19004\n",
              "(10, 15]      1471\n",
              "(45, 50]      1402\n",
              "Name: MAGER, dtype: int64"
            ]
          },
          "metadata": {
            "tags": []
          },
          "execution_count": 41
        }
      ]
    },
    {
      "cell_type": "code",
      "metadata": {
        "id": "GWAO_zNJXr-8"
      },
      "source": [
        "newdf = newdf[(newdf.MAGER>=15) & (newdf.MAGER<46)]      #Considering mothers aged 15 to 45"
      ],
      "execution_count": null,
      "outputs": []
    },
    {
      "cell_type": "code",
      "metadata": {
        "colab": {
          "base_uri": "https://localhost:8080/"
        },
        "id": "ke_ArCvXXr5Q",
        "outputId": "0a4a51b5-a3d2-4b9e-bb01-9d8de582efb3"
      },
      "source": [
        "newdf['Age'] = pd.cut(newdf.MAGER, bins=5, precision=0)    # MAGER - [15-40]\r\n",
        "newdf['Age'].value_counts()          "
      ],
      "execution_count": null,
      "outputs": [
        {
          "output_type": "execute_result",
          "data": {
            "text/plain": [
              "(27.0, 33.0]    316842\n",
              "(21.0, 27.0]    248620\n",
              "(33.0, 39.0]    185051\n",
              "(15.0, 21.0]     95552\n",
              "(39.0, 45.0]     30676\n",
              "Name: Age, dtype: int64"
            ]
          },
          "metadata": {
            "tags": []
          },
          "execution_count": 43
        }
      ]
    },
    {
      "cell_type": "code",
      "metadata": {
        "id": "l_01Svv9Xrxs"
      },
      "source": [
        "newdf.drop('MAGER', axis=1, inplace=True)\r\n",
        "num_cols.remove('MAGER')"
      ],
      "execution_count": null,
      "outputs": []
    },
    {
      "cell_type": "code",
      "metadata": {
        "id": "fdj43QFazOdo",
        "colab": {
          "base_uri": "https://localhost:8080/"
        },
        "outputId": "5c759c01-044f-4f5b-914d-e3c50e0d6eca"
      },
      "source": [
        "chisq(newdf, 'Age', 'DBWT')"
      ],
      "execution_count": null,
      "outputs": [
        {
          "output_type": "stream",
          "text": [
            "ChiSq Statistics: 481.8819788156493\n",
            "p-value: 5.550949651844501e-103\n",
            "Cramer's V: 0.02335\n"
          ],
          "name": "stdout"
        }
      ]
    },
    {
      "cell_type": "code",
      "metadata": {
        "id": "YM0E1frg4fEx"
      },
      "source": [
        "newdf = newdf[newdf.PREVIS<26]    "
      ],
      "execution_count": null,
      "outputs": []
    },
    {
      "cell_type": "code",
      "metadata": {
        "colab": {
          "base_uri": "https://localhost:8080/"
        },
        "id": "ldASKm1y20iz",
        "outputId": "9b01da31-c8c7-473b-9bb4-f1cadb74edb2"
      },
      "source": [
        "newdf[\"Visits\"] = pd.cut(newdf.PREVIS, bins=5, precision=0)\r\n",
        "newdf[\"Visits\"].value_counts()"
      ],
      "execution_count": null,
      "outputs": [
        {
          "output_type": "execute_result",
          "data": {
            "text/plain": [
              "(10.0, 15.0]    433008\n",
              "(5.0, 10.0]     296409\n",
              "(15.0, 20.0]     74221\n",
              "(-0.0, 5.0]      57063\n",
              "(20.0, 25.0]     10020\n",
              "Name: Visits, dtype: int64"
            ]
          },
          "metadata": {
            "tags": []
          },
          "execution_count": 47
        }
      ]
    },
    {
      "cell_type": "code",
      "metadata": {
        "id": "HmZ5_Y6a20f_"
      },
      "source": [
        "newdf.drop('PREVIS', axis=1,inplace=True)\r\n",
        "num_cols.remove('PREVIS')"
      ],
      "execution_count": null,
      "outputs": []
    },
    {
      "cell_type": "code",
      "metadata": {
        "id": "Poqa5VFC5rQ2",
        "colab": {
          "base_uri": "https://localhost:8080/"
        },
        "outputId": "3bcfa9a8-2ddd-441e-ef65-05b8c4709193"
      },
      "source": [
        "newdf.PRIORTERM[newdf.PRIORTERM!=0] = 1  #Prior terminations"
      ],
      "execution_count": null,
      "outputs": [
        {
          "output_type": "stream",
          "text": [
            "/usr/local/lib/python3.6/dist-packages/ipykernel_launcher.py:1: SettingWithCopyWarning: \n",
            "A value is trying to be set on a copy of a slice from a DataFrame\n",
            "\n",
            "See the caveats in the documentation: https://pandas.pydata.org/pandas-docs/stable/user_guide/indexing.html#returning-a-view-versus-a-copy\n",
            "  \"\"\"Entry point for launching an IPython kernel.\n"
          ],
          "name": "stderr"
        }
      ]
    },
    {
      "cell_type": "code",
      "metadata": {
        "colab": {
          "base_uri": "https://localhost:8080/"
        },
        "id": "qm34FmlW506g",
        "outputId": "4dfbb4b3-395b-4ee8-bf97-cb0137f96b39"
      },
      "source": [
        "newdf.PRIORTERM.value_counts()"
      ],
      "execution_count": null,
      "outputs": [
        {
          "output_type": "execute_result",
          "data": {
            "text/plain": [
              "0    719455\n",
              "1    151266\n",
              "Name: PRIORTERM, dtype: int64"
            ]
          },
          "metadata": {
            "tags": []
          },
          "execution_count": 50
        }
      ]
    },
    {
      "cell_type": "code",
      "metadata": {
        "id": "5nfvtOgH6La3"
      },
      "source": [
        "num_cols.remove('PRIORTERM')"
      ],
      "execution_count": null,
      "outputs": []
    },
    {
      "cell_type": "code",
      "metadata": {
        "id": "V4SYYcvF20dc"
      },
      "source": [
        "newdf[\"PWgt_R\"] = StandardScaler().fit_transform(np.array(newdf.PWgt_R).reshape(-1, 1))\r\n",
        "newdf[\"M_Ht_In\"] = StandardScaler().fit_transform(np.array(newdf.M_Ht_In).reshape(-1, 1))    #Use if 'Height' variable is not binned\r\n",
        "newdf[\"ILP_R\"] = StandardScaler().fit_transform(np.array(newdf.ILP_R).reshape(-1, 1))\r\n",
        "newdf[\"BMI\"] = StandardScaler().fit_transform(np.array(newdf.BMI).reshape(-1, 1))"
      ],
      "execution_count": null,
      "outputs": []
    },
    {
      "cell_type": "code",
      "metadata": {
        "colab": {
          "base_uri": "https://localhost:8080/",
          "height": 325
        },
        "id": "35NS43qM6QYE",
        "outputId": "aafa6cc2-a289-47a2-d4c0-bb15f23eb432"
      },
      "source": [
        "heat_map(newdf[num_cols])"
      ],
      "execution_count": null,
      "outputs": [
        {
          "output_type": "display_data",
          "data": {
            "image/png": "[encoded data removed]",
            "text/plain": [
              "<Figure size 720x360 with 2 Axes>"
            ]
          },
          "metadata": {
            "tags": [],
            "needs_background": "light"
          }
        }
      ]
    },
    {
      "cell_type": "code",
      "metadata": {
        "colab": {
          "base_uri": "https://localhost:8080/",
          "height": 1000
        },
        "id": "Tvk0kqrD51wJ",
        "outputId": "0a93340a-6139-46ea-b00a-23bb20b1171f"
      },
      "source": [
        "for col in num_cols:\r\n",
        "  sns.distplot(newdf[col])\r\n",
        "  plt.show()"
      ],
      "execution_count": null,
      "outputs": [
        {
          "output_type": "stream",
          "text": [
            "/usr/local/lib/python3.6/dist-packages/seaborn/distributions.py:2551: FutureWarning: `distplot` is a deprecated function and will be removed in a future version. Please adapt your code to use either `displot` (a figure-level function with similar flexibility) or `histplot` (an axes-level function for histograms).\n",
            "  warnings.warn(msg, FutureWarning)\n"
          ],
          "name": "stderr"
        },
        {
          "output_type": "display_data",
          "data": {
            "image/png": "[encoded data removed]",
            "text/plain": [
              "<Figure size 432x288 with 1 Axes>"
            ]
          },
          "metadata": {
            "tags": [],
            "needs_background": "light"
          }
        },
        {
          "output_type": "stream",
          "text": [
            "/usr/local/lib/python3.6/dist-packages/seaborn/distributions.py:2551: FutureWarning: `distplot` is a deprecated function and will be removed in a future version. Please adapt your code to use either `displot` (a figure-level function with similar flexibility) or `histplot` (an axes-level function for histograms).\n",
            "  warnings.warn(msg, FutureWarning)\n"
          ],
          "name": "stderr"
        },
        {
          "output_type": "display_data",
          "data": {
            "image/png": "[encoded data removed]",
            "text/plain": [
              "<Figure size 432x288 with 1 Axes>"
            ]
          },
          "metadata": {
            "tags": [],
            "needs_background": "light"
          }
        },
        {
          "output_type": "stream",
          "text": [
            "/usr/local/lib/python3.6/dist-packages/seaborn/distributions.py:2551: FutureWarning: `distplot` is a deprecated function and will be removed in a future version. Please adapt your code to use either `displot` (a figure-level function with similar flexibility) or `histplot` (an axes-level function for histograms).\n",
            "  warnings.warn(msg, FutureWarning)\n"
          ],
          "name": "stderr"
        },
        {
          "output_type": "display_data",
          "data": {
            "image/png": "[encoded data removed]",
            "text/plain": [
              "<Figure size 432x288 with 1 Axes>"
            ]
          },
          "metadata": {
            "tags": [],
            "needs_background": "light"
          }
        },
        {
          "output_type": "stream",
          "text": [
            "/usr/local/lib/python3.6/dist-packages/seaborn/distributions.py:2551: FutureWarning: `distplot` is a deprecated function and will be removed in a future version. Please adapt your code to use either `displot` (a figure-level function with similar flexibility) or `histplot` (an axes-level function for histograms).\n",
            "  warnings.warn(msg, FutureWarning)\n"
          ],
          "name": "stderr"
        },
        {
          "output_type": "display_data",
          "data": {
            "image/png": "[encoded data removed]",
            "text/plain": [
              "<Figure size 432x288 with 1 Axes>"
            ]
          },
          "metadata": {
            "tags": [],
            "needs_background": "light"
          }
        }
      ]
    },
    {
      "cell_type": "markdown",
      "metadata": {
        "id": "jrHYuZe6IZJI"
      },
      "source": [
        "Since none of the numerical features followed Normal distribution, ANOVA test could not be used to analyse the effect of these features on Birth Weight. Hence, Kriskal-Wallis H Test was used."
      ]
    },
    {
      "cell_type": "code",
      "metadata": {
        "colab": {
          "base_uri": "https://localhost:8080/",
          "height": 1000
        },
        "id": "BaFe4D97YmpF",
        "outputId": "c95d5a92-027d-4d71-f126-9f47c588fb59"
      },
      "source": [
        "for col in num_cols: \r\n",
        "  print(\"\\n\",col.upper())\r\n",
        "  kde(newdf, col)\r\n",
        "  kruskal_wallis(newdf,col)"
      ],
      "execution_count": null,
      "outputs": [
        {
          "output_type": "stream",
          "text": [
            "\n",
            " M_HT_IN\n"
          ],
          "name": "stdout"
        },
        {
          "output_type": "display_data",
          "data": {
            "image/png": "[encoded data removed]",
            "text/plain": [
              "<Figure size 432x288 with 1 Axes>"
            ]
          },
          "metadata": {
            "tags": [],
            "needs_background": "light"
          }
        },
        {
          "output_type": "stream",
          "text": [
            "H Statistic: 474.6737811585029\n",
            "p-value: 3.0812741873981918e-105\n",
            "\n",
            " PWGT_R\n"
          ],
          "name": "stdout"
        },
        {
          "output_type": "display_data",
          "data": {
            "image/png": "[encoded data removed]",
            "text/plain": [
              "<Figure size 432x288 with 1 Axes>"
            ]
          },
          "metadata": {
            "tags": [],
            "needs_background": "light"
          }
        },
        {
          "output_type": "stream",
          "text": [
            "H Statistic: 29.435500943904806\n",
            "p-value: 5.780891275842571e-08\n",
            "\n",
            " ILP_R\n"
          ],
          "name": "stdout"
        },
        {
          "output_type": "display_data",
          "data": {
            "image/png": "[encoded data removed]",
            "text/plain": [
              "<Figure size 432x288 with 1 Axes>"
            ]
          },
          "metadata": {
            "tags": [],
            "needs_background": "light"
          }
        },
        {
          "output_type": "stream",
          "text": [
            "H Statistic: 538.015929047936\n",
            "p-value: 5.094064219764478e-119\n",
            "\n",
            " BMI\n"
          ],
          "name": "stdout"
        },
        {
          "output_type": "display_data",
          "data": {
            "image/png": "[encoded data removed]",
            "text/plain": [
              "<Figure size 432x288 with 1 Axes>"
            ]
          },
          "metadata": {
            "tags": [],
            "needs_background": "light"
          }
        },
        {
          "output_type": "stream",
          "text": [
            "H Statistic: 208.13502986382775\n",
            "p-value: 3.5055638380450067e-47\n"
          ],
          "name": "stdout"
        }
      ]
    },
    {
      "cell_type": "code",
      "metadata": {
        "id": "UPagHFjqI1EW",
        "colab": {
          "base_uri": "https://localhost:8080/",
          "height": 166
        },
        "outputId": "4d849e3c-aa01-473f-af8f-0c8abe14a813"
      },
      "source": [
        "newdf[num_cols].corr()"
      ],
      "execution_count": null,
      "outputs": [
        {
          "output_type": "execute_result",
          "data": {
            "text/html": [
              "<div>\n",
              "<style scoped>\n",
              "    .dataframe tbody tr th:only-of-type {\n",
              "        vertical-align: middle;\n",
              "    }\n",
              "\n",
              "    .dataframe tbody tr th {\n",
              "        vertical-align: top;\n",
              "    }\n",
              "\n",
              "    .dataframe thead th {\n",
              "        text-align: right;\n",
              "    }\n",
              "</style>\n",
              "<table border=\"1\" class=\"dataframe\">\n",
              "  <thead>\n",
              "    <tr style=\"text-align: right;\">\n",
              "      <th></th>\n",
              "      <th>M_Ht_In</th>\n",
              "      <th>PWgt_R</th>\n",
              "      <th>ILP_R</th>\n",
              "      <th>BMI</th>\n",
              "    </tr>\n",
              "  </thead>\n",
              "  <tbody>\n",
              "    <tr>\n",
              "      <th>M_Ht_In</th>\n",
              "      <td>1.000000</td>\n",
              "      <td>0.304765</td>\n",
              "      <td>-0.053670</td>\n",
              "      <td>-0.043586</td>\n",
              "    </tr>\n",
              "    <tr>\n",
              "      <th>PWgt_R</th>\n",
              "      <td>0.304765</td>\n",
              "      <td>1.000000</td>\n",
              "      <td>0.078158</td>\n",
              "      <td>0.934420</td>\n",
              "    </tr>\n",
              "    <tr>\n",
              "      <th>ILP_R</th>\n",
              "      <td>-0.053670</td>\n",
              "      <td>0.078158</td>\n",
              "      <td>1.000000</td>\n",
              "      <td>0.102974</td>\n",
              "    </tr>\n",
              "    <tr>\n",
              "      <th>BMI</th>\n",
              "      <td>-0.043586</td>\n",
              "      <td>0.934420</td>\n",
              "      <td>0.102974</td>\n",
              "      <td>1.000000</td>\n",
              "    </tr>\n",
              "  </tbody>\n",
              "</table>\n",
              "</div>"
            ],
            "text/plain": [
              "          M_Ht_In    PWgt_R     ILP_R       BMI\n",
              "M_Ht_In  1.000000  0.304765 -0.053670 -0.043586\n",
              "PWgt_R   0.304765  1.000000  0.078158  0.934420\n",
              "ILP_R   -0.053670  0.078158  1.000000  0.102974\n",
              "BMI     -0.043586  0.934420  0.102974  1.000000"
            ]
          },
          "metadata": {
            "tags": []
          },
          "execution_count": 56
        }
      ]
    },
    {
      "cell_type": "markdown",
      "metadata": {
        "id": "-te7373JI47c"
      },
      "source": [
        "Since 'Mother's Weight (PWgt_R)' and 'Mother's Height (M_Ht_In)' were highly correlated, they were dropped and 'Mother's BMI (BMI)' was used instead."
      ]
    },
    {
      "cell_type": "code",
      "metadata": {
        "id": "ZJHshL5o-pTr"
      },
      "source": [
        "num_cols.remove('PWgt_R')\r\n",
        "num_cols.remove('M_Ht_In')"
      ],
      "execution_count": null,
      "outputs": []
    },
    {
      "cell_type": "code",
      "metadata": {
        "id": "pMDHDeJN_GmH"
      },
      "source": [
        "newdf.drop(['M_Ht_In', 'PWgt_R'], axis=1, inplace=True)"
      ],
      "execution_count": null,
      "outputs": []
    },
    {
      "cell_type": "code",
      "metadata": {
        "colab": {
          "base_uri": "https://localhost:8080/"
        },
        "id": "AeKpFC9_53LH",
        "outputId": "759f86ec-a274-4b5e-dbc8-dbb7c4b50034"
      },
      "source": [
        "newdf.shape"
      ],
      "execution_count": null,
      "outputs": [
        {
          "output_type": "execute_result",
          "data": {
            "text/plain": [
              "(870721, 18)"
            ]
          },
          "metadata": {
            "tags": []
          },
          "execution_count": 59
        }
      ]
    },
    {
      "cell_type": "code",
      "metadata": {
        "id": "KGBy1tvELrf5"
      },
      "source": [
        "num_cols = ['BMI', 'ILP_R']"
      ],
      "execution_count": null,
      "outputs": []
    },
    {
      "cell_type": "markdown",
      "metadata": {
        "id": "WkfhNFKTH4rX"
      },
      "source": [
        "## Categorical Features"
      ]
    },
    {
      "cell_type": "code",
      "metadata": {
        "id": "xpYRoRXiJUkh"
      },
      "source": [
        "cat_cols = [col for col in newdf.columns if col not in num_cols+['DBWT']]"
      ],
      "execution_count": null,
      "outputs": []
    },
    {
      "cell_type": "code",
      "metadata": {
        "colab": {
          "base_uri": "https://localhost:8080/"
        },
        "id": "e4LN3qpH7JJx",
        "outputId": "c8e2eaca-8081-4a4e-a3d0-6e158b1d32f7"
      },
      "source": [
        "for col in cat_cols:\r\n",
        "  print(\"\\n\",col.upper())\r\n",
        "  chisq(newdf, col)"
      ],
      "execution_count": null,
      "outputs": [
        {
          "output_type": "stream",
          "text": [
            "\n",
            " CIG_0\n",
            "ChiSq Statistics: 1227.990928702534\n",
            "p-value: 5.03671590554871e-269\n",
            "Cramer's V: 0.03754\n",
            "\n",
            " DMAR\n",
            "ChiSq Statistics: 1907.6979935435713\n",
            "p-value: 0.0\n",
            "Cramer's V: 0.04678\n",
            "\n",
            " IP_GON\n",
            "ChiSq Statistics: 36.132538627326106\n",
            "p-value: 1.8434289528009407e-09\n",
            "Cramer's V: 0.00635\n",
            "\n",
            " MBSTATE_REC\n",
            "ChiSq Statistics: 288.39159124008097\n",
            "p-value: 1.1143390004770593e-64\n",
            "Cramer's V: 0.01817\n",
            "\n",
            " MEDUC\n",
            "ChiSq Statistics: 963.1286943990433\n",
            "p-value: 1.1132089807017874e-203\n",
            "Cramer's V: 0.03314\n",
            "\n",
            " MRACE6\n",
            "ChiSq Statistics: 4812.100363966\n",
            "p-value: 0.0\n",
            "Cramer's V: 0.0743\n",
            "\n",
            " NO_INFEC\n",
            "ChiSq Statistics: 130.5865974074617\n",
            "p-value: 3.0493487212616664e-30\n",
            "Cramer's V: 0.0122\n",
            "\n",
            " NO_MMORB\n",
            "ChiSq Statistics: 80.32085025885105\n",
            "p-value: 3.182926993354889e-19\n",
            "Cramer's V: 0.00954\n",
            "\n",
            " NO_RISKS\n",
            "ChiSq Statistics: 6015.782434804285\n",
            "p-value: 0.0\n",
            "Cramer's V: 0.08311\n",
            "\n",
            " PRECARE\n",
            "ChiSq Statistics: 2538.950843775361\n",
            "p-value: 0.0\n",
            "Cramer's V: 0.0539\n",
            "\n",
            " PRIORTERM\n",
            "ChiSq Statistics: 267.90497561328533\n",
            "p-value: 3.24726072217254e-60\n",
            "Cramer's V: 0.01751\n",
            "\n",
            " RF_CESAR\n",
            "ChiSq Statistics: 36.54981144343601\n",
            "p-value: 1.4881436085129893e-09\n",
            "Cramer's V: 0.00639\n",
            "\n",
            " SEX\n",
            "ChiSq Statistics: 74.04901016160389\n",
            "p-value: 7.620143933229278e-18\n",
            "Cramer's V: 0.00916\n",
            "\n",
            " AGE\n",
            "ChiSq Statistics: 477.00192173406856\n",
            "p-value: 6.304578069365764e-102\n",
            "Cramer's V: 0.02331\n",
            "\n",
            " VISITS\n",
            "ChiSq Statistics: 14284.298543425086\n",
            "p-value: 0.0\n",
            "Cramer's V: 0.12806\n"
          ],
          "name": "stdout"
        }
      ]
    },
    {
      "cell_type": "markdown",
      "metadata": {
        "id": "Fg3Y6M_vJfe_"
      },
      "source": [
        "Using Chi-Square Test of Independence and Cramer's V, the association between the nominal features and Birth Weight were studied. The irrelevant features were removed."
      ]
    },
    {
      "cell_type": "code",
      "metadata": {
        "id": "0U-qxOW9Y1A6"
      },
      "source": [
        "cat_cols.remove(\"IP_GON\")\r\n",
        "cat_cols.remove(\"NO_MMORB\")\r\n",
        "cat_cols.remove(\"MEDUC\")\r\n",
        "cat_cols.remove(\"NO_INFEC\")"
      ],
      "execution_count": null,
      "outputs": []
    },
    {
      "cell_type": "code",
      "metadata": {
        "id": "lHQehwG2YBnA"
      },
      "source": [
        "newdf.drop(['IP_GON', 'NO_MMORB', 'MEDUC', 'NO_INFEC'],axis=1,inplace=True)"
      ],
      "execution_count": null,
      "outputs": []
    },
    {
      "cell_type": "code",
      "metadata": {
        "colab": {
          "base_uri": "https://localhost:8080/"
        },
        "id": "ZWgzIYe9COiK",
        "outputId": "1c8ebe9b-aca5-4418-f1b0-535afd41ecfc"
      },
      "source": [
        "newdf.shape"
      ],
      "execution_count": null,
      "outputs": [
        {
          "output_type": "execute_result",
          "data": {
            "text/plain": [
              "(870721, 14)"
            ]
          },
          "metadata": {
            "tags": []
          },
          "execution_count": 65
        }
      ]
    },
    {
      "cell_type": "markdown",
      "metadata": {
        "id": "JLw4Df7-QBfh"
      },
      "source": [
        "## Modelling using Imbalanced Dataset"
      ]
    },
    {
      "cell_type": "code",
      "metadata": {
        "id": "fZfgN7fj9T3P"
      },
      "source": [
        "X = newdf.drop('DBWT', axis=1)\r\n",
        "y = newdf['DBWT'].copy(deep=True)"
      ],
      "execution_count": null,
      "outputs": []
    },
    {
      "cell_type": "code",
      "metadata": {
        "colab": {
          "base_uri": "https://localhost:8080/"
        },
        "id": "mQiHMY4l5fxh",
        "outputId": "03cb635d-7f90-4d46-db5d-5915485c407e"
      },
      "source": [
        "X.columns"
      ],
      "execution_count": null,
      "outputs": [
        {
          "output_type": "execute_result",
          "data": {
            "text/plain": [
              "Index(['BMI', 'CIG_0', 'DMAR', 'ILP_R', 'MBSTATE_REC', 'MRACE6', 'NO_RISKS',\n",
              "       'PRECARE', 'PRIORTERM', 'RF_CESAR', 'SEX', 'Age', 'Visits'],\n",
              "      dtype='object')"
            ]
          },
          "metadata": {
            "tags": []
          },
          "execution_count": 67
        }
      ]
    },
    {
      "cell_type": "code",
      "metadata": {
        "id": "7-2d027g9Tu7"
      },
      "source": [
        "Xdumm = pd.get_dummies(X, columns=cat_cols, drop_first=True)"
      ],
      "execution_count": null,
      "outputs": []
    },
    {
      "cell_type": "code",
      "metadata": {
        "id": "vL31Ou92YhVm"
      },
      "source": [
        "Xdumm.rename(columns = {'Age_(21.0, 27.0]':'Age_21_27','Age_(27.0, 33.0]':'Age_28_33','Age_(33.0, 39.0]':'Age_34_39','Age_(39.0, 45.0]':'Age_40_45', 'Visits_(5.0, 10.0]':'Visits_6_10','Visits_(10.0, 15.0]':'Visits_11_15','Visits_(15.0, 20.0]':'Visits_16_20','Visits_(20.0, 25.0]':'Visits_21_25'}, inplace=True)"
      ],
      "execution_count": null,
      "outputs": []
    },
    {
      "cell_type": "code",
      "metadata": {
        "colab": {
          "base_uri": "https://localhost:8080/"
        },
        "id": "ALQS0PSoV9Lc",
        "outputId": "91b95350-d87b-4f53-ef83-d95c157b4aec"
      },
      "source": [
        "Xdumm.columns"
      ],
      "execution_count": null,
      "outputs": [
        {
          "output_type": "execute_result",
          "data": {
            "text/plain": [
              "Index(['BMI', 'ILP_R', 'CIG_0_1', 'DMAR_2', 'DMAR_3', 'MBSTATE_REC_2',\n",
              "       'MRACE6_2', 'MRACE6_3', 'MRACE6_4', 'MRACE6_5', 'MRACE6_6',\n",
              "       'NO_RISKS_1', 'PRECARE_1', 'PRECARE_2', 'PRECARE_3', 'PRECARE_4',\n",
              "       'PRECARE_5', 'PRECARE_6', 'PRECARE_7', 'PRECARE_8', 'PRECARE_9',\n",
              "       'PRIORTERM_1', 'RF_CESAR_Y', 'SEX_M', 'Age_21_27', 'Age_28_33',\n",
              "       'Age_34_39', 'Age_40_45', 'Visits_6_10', 'Visits_11_15', 'Visits_16_20',\n",
              "       'Visits_21_25'],\n",
              "      dtype='object')"
            ]
          },
          "metadata": {
            "tags": []
          },
          "execution_count": 83
        }
      ]
    },
    {
      "cell_type": "code",
      "metadata": {
        "colab": {
          "base_uri": "https://localhost:8080/"
        },
        "id": "oqHbTzG_-mHl",
        "outputId": "9b21af94-c654-4ac9-e0bb-72de5deeb841"
      },
      "source": [
        "Xdumm.shape"
      ],
      "execution_count": null,
      "outputs": [
        {
          "output_type": "execute_result",
          "data": {
            "text/plain": [
              "(870721, 32)"
            ]
          },
          "metadata": {
            "tags": []
          },
          "execution_count": 84
        }
      ]
    },
    {
      "cell_type": "code",
      "metadata": {
        "colab": {
          "base_uri": "https://localhost:8080/"
        },
        "id": "TxByrOdeVhpZ",
        "outputId": "36481066-89e9-4a35-ecdb-804857c1e093"
      },
      "source": [
        "y.value_counts()/y.shape[0]"
      ],
      "execution_count": null,
      "outputs": [
        {
          "output_type": "execute_result",
          "data": {
            "text/plain": [
              "0    0.914865\n",
              "1    0.085135\n",
              "Name: DBWT, dtype: float64"
            ]
          },
          "metadata": {
            "tags": []
          },
          "execution_count": 85
        }
      ]
    },
    {
      "cell_type": "code",
      "metadata": {
        "id": "eayfBvg89mmo"
      },
      "source": [
        "cats = [col for col in Xdumm.columns if col not in num_cols+['DBWT']]"
      ],
      "execution_count": null,
      "outputs": []
    },
    {
      "cell_type": "code",
      "metadata": {
        "id": "VQQxyfjoVn-v"
      },
      "source": [
        "X_train, X_test, y_train, y_test = train_test_split(Xdumm, y, test_size=0.3, random_state=24)"
      ],
      "execution_count": null,
      "outputs": []
    },
    {
      "cell_type": "code",
      "metadata": {
        "colab": {
          "base_uri": "https://localhost:8080/"
        },
        "id": "f0FWh--1gwa3",
        "outputId": "e799eadf-d761-4e94-96fc-18dcd917153e"
      },
      "source": [
        "y_train.unique()"
      ],
      "execution_count": null,
      "outputs": [
        {
          "output_type": "execute_result",
          "data": {
            "text/plain": [
              "array([0, 1])"
            ]
          },
          "metadata": {
            "tags": []
          },
          "execution_count": 88
        }
      ]
    },
    {
      "cell_type": "markdown",
      "metadata": {
        "id": "IvWJ7nFmxaLs"
      },
      "source": [
        "### Decision Tree Classifier"
      ]
    },
    {
      "cell_type": "code",
      "metadata": {
        "id": "BLWVvrOGO9Zi"
      },
      "source": [
        "dtc =  DecisionTreeClassifier(random_state=0, max_depth=10, class_weight='balanced')   #With weights"
      ],
      "execution_count": null,
      "outputs": []
    },
    {
      "cell_type": "code",
      "metadata": {
        "colab": {
          "base_uri": "https://localhost:8080/"
        },
        "id": "o-XX23KlPCP2",
        "outputId": "05620dca-b3d3-40ab-d214-9b00628a2037"
      },
      "source": [
        "dtc.fit(X_train, y_train)  #With weights"
      ],
      "execution_count": null,
      "outputs": [
        {
          "output_type": "execute_result",
          "data": {
            "text/plain": [
              "DecisionTreeClassifier(ccp_alpha=0.0, class_weight='balanced', criterion='gini',\n",
              "                       max_depth=10, max_features=None, max_leaf_nodes=None,\n",
              "                       min_impurity_decrease=0.0, min_impurity_split=None,\n",
              "                       min_samples_leaf=1, min_samples_split=2,\n",
              "                       min_weight_fraction_leaf=0.0, presort='deprecated',\n",
              "                       random_state=0, splitter='best')"
            ]
          },
          "metadata": {
            "tags": []
          },
          "execution_count": 90
        }
      ]
    },
    {
      "cell_type": "code",
      "metadata": {
        "id": "7zx_ufeuxbum"
      },
      "source": [
        "dtc_pred = dtc.predict(X_test)"
      ],
      "execution_count": null,
      "outputs": []
    },
    {
      "cell_type": "code",
      "metadata": {
        "colab": {
          "base_uri": "https://localhost:8080/"
        },
        "id": "oh1s-Mv018CJ",
        "outputId": "dee24821-006c-47ab-fd5b-46eae64fa09a"
      },
      "source": [
        "dtc_pred"
      ],
      "execution_count": null,
      "outputs": [
        {
          "output_type": "execute_result",
          "data": {
            "text/plain": [
              "array([0, 1, 1, ..., 1, 1, 1])"
            ]
          },
          "metadata": {
            "tags": []
          },
          "execution_count": 92
        }
      ]
    },
    {
      "cell_type": "code",
      "metadata": {
        "id": "6CbmzyZIl-VQ"
      },
      "source": [
        "dtc_prob = dtc.predict_proba(X_test)[:,1]"
      ],
      "execution_count": null,
      "outputs": []
    },
    {
      "cell_type": "code",
      "metadata": {
        "colab": {
          "base_uri": "https://localhost:8080/"
        },
        "id": "GUWsrHSf19uL",
        "outputId": "e84da9f1-04bf-4145-efda-48e091064fee"
      },
      "source": [
        "dtc_prob"
      ],
      "execution_count": null,
      "outputs": [
        {
          "output_type": "execute_result",
          "data": {
            "text/plain": [
              "array([0.29966516, 0.77743877, 0.58889028, ..., 0.54353698, 0.74170553,\n",
              "       0.54353698])"
            ]
          },
          "metadata": {
            "tags": []
          },
          "execution_count": 94
        }
      ]
    },
    {
      "cell_type": "code",
      "metadata": {
        "colab": {
          "base_uri": "https://localhost:8080/"
        },
        "id": "VGqtn8Jx3vup",
        "outputId": "f103b5a8-7e40-4fad-ed6c-05d5d35600c1"
      },
      "source": [
        "confusion_matrix(y_test, dtc_pred)"
      ],
      "execution_count": null,
      "outputs": [
        {
          "output_type": "execute_result",
          "data": {
            "text/plain": [
              "array([[170046,  68993],\n",
              "       [  9247,  12931]])"
            ]
          },
          "metadata": {
            "tags": []
          },
          "execution_count": 95
        }
      ]
    },
    {
      "cell_type": "code",
      "metadata": {
        "colab": {
          "base_uri": "https://localhost:8080/"
        },
        "id": "KjqMCNQkPIf5",
        "outputId": "71c1fb89-3433-4722-9442-23dcc5a791e7"
      },
      "source": [
        "#Weights\r\n",
        "print(\"Precision Score:\", round(precision_score(y_test, dtc_pred),5))\r\n",
        "print(\"Recall Score:\", round(recall_score(y_test, dtc_pred),5))\r\n",
        "print(\"Accuracy Score:\", round(accuracy_score(y_test, dtc_pred),5))\r\n",
        "print(\"F1 Score:\", round(f1_score(y_test, dtc_pred, average='weighted'),5))\r\n",
        "print(\"ROC: \", round(roc_auc_score(y_test, dtc_prob),5))"
      ],
      "execution_count": null,
      "outputs": [
        {
          "output_type": "stream",
          "text": [
            "Precision Score: 0.15784\n",
            "Recall Score: 0.58306\n",
            "Accuracy Score: 0.70048\n",
            "F1 Score: 0.76504\n",
            "ROC:  0.69734\n"
          ],
          "name": "stdout"
        }
      ]
    },
    {
      "cell_type": "markdown",
      "metadata": {
        "id": "AHPZT5dkQO3D"
      },
      "source": [
        "### Random Forest Classifier"
      ]
    },
    {
      "cell_type": "code",
      "metadata": {
        "id": "zj4_MkTsQSI1"
      },
      "source": [
        "rfc = RandomForestClassifier(class_weight='balanced')"
      ],
      "execution_count": null,
      "outputs": []
    },
    {
      "cell_type": "code",
      "metadata": {
        "colab": {
          "base_uri": "https://localhost:8080/"
        },
        "id": "rgTKHmWxQSGt",
        "outputId": "b63874cc-2e04-412c-ce01-5ee28f104b28"
      },
      "source": [
        "rfc.fit(X_train, y_train)"
      ],
      "execution_count": null,
      "outputs": [
        {
          "output_type": "execute_result",
          "data": {
            "text/plain": [
              "RandomForestClassifier(bootstrap=True, ccp_alpha=0.0, class_weight='balanced',\n",
              "                       criterion='gini', max_depth=None, max_features='auto',\n",
              "                       max_leaf_nodes=None, max_samples=None,\n",
              "                       min_impurity_decrease=0.0, min_impurity_split=None,\n",
              "                       min_samples_leaf=1, min_samples_split=2,\n",
              "                       min_weight_fraction_leaf=0.0, n_estimators=100,\n",
              "                       n_jobs=None, oob_score=False, random_state=None,\n",
              "                       verbose=0, warm_start=False)"
            ]
          },
          "metadata": {
            "tags": []
          },
          "execution_count": 98
        }
      ]
    },
    {
      "cell_type": "code",
      "metadata": {
        "colab": {
          "base_uri": "https://localhost:8080/"
        },
        "id": "pGj0f5-Syl3Y",
        "outputId": "5e92757d-c2ea-416f-fc24-cfb9608e1f73"
      },
      "source": [
        "#Obtaining the importance of all the features in the Random Forest Classifier model\r\n",
        "feature_imp = pd.Series(rfc.feature_importances_,index=X_train.columns).sort_values(ascending=False)\r\n",
        "print(\"Important Features are :\\n\",feature_imp)"
      ],
      "execution_count": null,
      "outputs": [
        {
          "output_type": "stream",
          "text": [
            "Important Features are :\n",
            " BMI              0.443105\n",
            "ILP_R            0.236479\n",
            "Visits_11_15     0.027396\n",
            "SEX_M            0.027300\n",
            "NO_RISKS_1       0.022813\n",
            "MBSTATE_REC_2    0.020062\n",
            "DMAR_3           0.017461\n",
            "PRIORTERM_1      0.015209\n",
            "MRACE6_2         0.014874\n",
            "Age_21_27        0.014393\n",
            "Age_28_33        0.013989\n",
            "DMAR_2           0.012211\n",
            "Visits_6_10      0.011190\n",
            "Age_34_39        0.011180\n",
            "MRACE6_4         0.010476\n",
            "PRECARE_2        0.009702\n",
            "PRECARE_3        0.009498\n",
            "RF_CESAR_Y       0.009181\n",
            "Visits_16_20     0.009089\n",
            "CIG_0_1          0.008589\n",
            "MRACE6_6         0.007809\n",
            "PRECARE_4        0.007258\n",
            "PRECARE_1        0.006743\n",
            "Age_40_45        0.005517\n",
            "PRECARE_5        0.005501\n",
            "PRECARE_6        0.004221\n",
            "PRECARE_7        0.004148\n",
            "MRACE6_3         0.003935\n",
            "PRECARE_8        0.003613\n",
            "Visits_21_25     0.003180\n",
            "PRECARE_9        0.002131\n",
            "MRACE6_5         0.001746\n",
            "dtype: float64\n"
          ],
          "name": "stdout"
        }
      ]
    },
    {
      "cell_type": "code",
      "metadata": {
        "id": "KCzpJKXsSSRk"
      },
      "source": [
        "rfc_pred = rfc.predict(X_test)"
      ],
      "execution_count": null,
      "outputs": []
    },
    {
      "cell_type": "code",
      "metadata": {
        "colab": {
          "base_uri": "https://localhost:8080/"
        },
        "id": "NANqvKYf3QoJ",
        "outputId": "bfa0a14c-0e08-4155-992c-c020bc18d949"
      },
      "source": [
        "rfc_pred"
      ],
      "execution_count": null,
      "outputs": [
        {
          "output_type": "execute_result",
          "data": {
            "text/plain": [
              "array([0, 1, 0, ..., 0, 0, 0])"
            ]
          },
          "metadata": {
            "tags": []
          },
          "execution_count": 101
        }
      ]
    },
    {
      "cell_type": "code",
      "metadata": {
        "id": "h5W_vLlmKAOi"
      },
      "source": [
        "rfc_prob = rfc.predict_proba(X_test)[:,1]"
      ],
      "execution_count": null,
      "outputs": []
    },
    {
      "cell_type": "code",
      "metadata": {
        "colab": {
          "base_uri": "https://localhost:8080/"
        },
        "id": "yoLrX4gI3PUN",
        "outputId": "ba4e798e-0e5f-48b3-a667-dba2a012f4e7"
      },
      "source": [
        "rfc_prob"
      ],
      "execution_count": null,
      "outputs": [
        {
          "output_type": "execute_result",
          "data": {
            "text/plain": [
              "array([0.        , 0.9       , 0.49      , ..., 0.43633009, 0.02      ,\n",
              "       0.06      ])"
            ]
          },
          "metadata": {
            "tags": []
          },
          "execution_count": 103
        }
      ]
    },
    {
      "cell_type": "code",
      "metadata": {
        "colab": {
          "base_uri": "https://localhost:8080/"
        },
        "id": "Dgc4HFzn3bmQ",
        "outputId": "b4113f9f-72b4-4b0d-b897-80ecef68e540"
      },
      "source": [
        "confusion_matrix(y_test, rfc_pred)"
      ],
      "execution_count": null,
      "outputs": [
        {
          "output_type": "execute_result",
          "data": {
            "text/plain": [
              "array([[229270,   9769],\n",
              "       [ 19617,   2561]])"
            ]
          },
          "metadata": {
            "tags": []
          },
          "execution_count": 104
        }
      ]
    },
    {
      "cell_type": "code",
      "metadata": {
        "colab": {
          "base_uri": "https://localhost:8080/"
        },
        "id": "ytCOo3yGOyx5",
        "outputId": "4201b3d4-9f11-4256-96c6-fa4cf1c20ee6"
      },
      "source": [
        "#With Weights\r\n",
        "print(\"Precision Score:\", round(precision_score(y_test, rfc_pred),5))\r\n",
        "print(\"Recall Score:\", round(recall_score(y_test, rfc_pred),5))\r\n",
        "print(\"Accuracy Score:\", round(accuracy_score(y_test, rfc_pred),5))\r\n",
        "print(\"F1 Score:\", round(f1_score(y_test, rfc_pred, average='weighted'),5))\r\n",
        "print(\"ROC: \", round(roc_auc_score(y_test, rfc_prob),5))"
      ],
      "execution_count": null,
      "outputs": [
        {
          "output_type": "stream",
          "text": [
            "Precision Score: 0.2077\n",
            "Recall Score: 0.11547\n",
            "Accuracy Score: 0.8875\n",
            "F1 Score: 0.87259\n",
            "ROC:  0.63686\n"
          ],
          "name": "stdout"
        }
      ]
    },
    {
      "cell_type": "markdown",
      "metadata": {
        "id": "VIZA6tVKr1T5"
      },
      "source": [
        "### Gradient Boosting Classifier"
      ]
    },
    {
      "cell_type": "code",
      "metadata": {
        "id": "QxvxzUiTtb65"
      },
      "source": [
        "gbc = GradientBoostingClassifier()"
      ],
      "execution_count": null,
      "outputs": []
    },
    {
      "cell_type": "code",
      "metadata": {
        "colab": {
          "base_uri": "https://localhost:8080/"
        },
        "id": "IQ9SUwHwtb3U",
        "outputId": "6e649d73-eb7a-4ca3-8a75-82dcd766d1e2"
      },
      "source": [
        "gbc.fit(X_train, y_train)"
      ],
      "execution_count": null,
      "outputs": [
        {
          "output_type": "execute_result",
          "data": {
            "text/plain": [
              "GradientBoostingClassifier(ccp_alpha=0.0, criterion='friedman_mse', init=None,\n",
              "                           learning_rate=0.1, loss='deviance', max_depth=3,\n",
              "                           max_features=None, max_leaf_nodes=None,\n",
              "                           min_impurity_decrease=0.0, min_impurity_split=None,\n",
              "                           min_samples_leaf=1, min_samples_split=2,\n",
              "                           min_weight_fraction_leaf=0.0, n_estimators=100,\n",
              "                           n_iter_no_change=None, presort='deprecated',\n",
              "                           random_state=None, subsample=1.0, tol=0.0001,\n",
              "                           validation_fraction=0.1, verbose=0,\n",
              "                           warm_start=False)"
            ]
          },
          "metadata": {
            "tags": []
          },
          "execution_count": 107
        }
      ]
    },
    {
      "cell_type": "code",
      "metadata": {
        "colab": {
          "base_uri": "https://localhost:8080/"
        },
        "id": "zq-oGMeKuDb8",
        "outputId": "56ff1133-b389-4f79-e337-1cd6af82afc1"
      },
      "source": [
        "#Loss Function used\r\n",
        "gbc.loss_\r\n",
        "#Deviance"
      ],
      "execution_count": null,
      "outputs": [
        {
          "output_type": "execute_result",
          "data": {
            "text/plain": [
              "<sklearn.ensemble._gb_losses.BinomialDeviance at 0x7f61c3ba36a0>"
            ]
          },
          "metadata": {
            "tags": []
          },
          "execution_count": 108
        }
      ]
    },
    {
      "cell_type": "code",
      "metadata": {
        "colab": {
          "base_uri": "https://localhost:8080/"
        },
        "id": "KI6YtjCLuT1E",
        "outputId": "5ecb28bc-bdf9-48c6-a254-d55173fb570f"
      },
      "source": [
        "#Obtaining the importance of all the features in the Gradient Boosting Classifier model\r\n",
        "feature_imp = pd.Series(gbc.feature_importances_,index=X_train.columns).sort_values(ascending=False)\r\n",
        "print(\"Important Features are :\\n\",feature_imp)"
      ],
      "execution_count": null,
      "outputs": [
        {
          "output_type": "stream",
          "text": [
            "Important Features are :\n",
            " ILP_R            0.503409\n",
            "Visits_11_15     0.132908\n",
            "NO_RISKS_1       0.085520\n",
            "Visits_6_10      0.066851\n",
            "MRACE6_2         0.058647\n",
            "RF_CESAR_Y       0.037174\n",
            "Visits_16_20     0.026961\n",
            "BMI              0.015256\n",
            "CIG_0_1          0.013367\n",
            "PRECARE_1        0.011458\n",
            "PRECARE_8        0.009578\n",
            "PRECARE_9        0.007073\n",
            "Visits_21_25     0.006628\n",
            "PRECARE_7        0.004700\n",
            "DMAR_2           0.003917\n",
            "PRECARE_2        0.003093\n",
            "Age_40_45        0.002352\n",
            "MBSTATE_REC_2    0.002020\n",
            "SEX_M            0.002012\n",
            "PRIORTERM_1      0.001953\n",
            "Age_34_39        0.001651\n",
            "PRECARE_6        0.001649\n",
            "DMAR_3           0.000831\n",
            "PRECARE_5        0.000555\n",
            "MRACE6_5         0.000138\n",
            "MRACE6_4         0.000108\n",
            "Age_21_27        0.000086\n",
            "MRACE6_3         0.000068\n",
            "Age_28_33        0.000037\n",
            "MRACE6_6         0.000000\n",
            "PRECARE_3        0.000000\n",
            "PRECARE_4        0.000000\n",
            "dtype: float64\n"
          ],
          "name": "stdout"
        }
      ]
    },
    {
      "cell_type": "code",
      "metadata": {
        "id": "H4n8qn5XuDfT"
      },
      "source": [
        "gbc_pred = gbc.predict(X_test)"
      ],
      "execution_count": null,
      "outputs": []
    },
    {
      "cell_type": "code",
      "metadata": {
        "colab": {
          "base_uri": "https://localhost:8080/"
        },
        "id": "-9Yec9Dm4svp",
        "outputId": "56384951-c266-4462-d0c4-f26fc6ecda71"
      },
      "source": [
        "gbc_pred"
      ],
      "execution_count": null,
      "outputs": [
        {
          "output_type": "execute_result",
          "data": {
            "text/plain": [
              "array([0, 0, 0, ..., 0, 0, 0])"
            ]
          },
          "metadata": {
            "tags": []
          },
          "execution_count": 111
        }
      ]
    },
    {
      "cell_type": "code",
      "metadata": {
        "id": "tEyPYlEezLZZ"
      },
      "source": [
        "gbc_prob = gbc.predict_proba(X_test)[:,1]"
      ],
      "execution_count": null,
      "outputs": []
    },
    {
      "cell_type": "code",
      "metadata": {
        "colab": {
          "base_uri": "https://localhost:8080/"
        },
        "id": "Rcscbf6X4uyu",
        "outputId": "4f7422e8-eab2-44f1-d369-89f1cd843d07"
      },
      "source": [
        "gbc_prob"
      ],
      "execution_count": null,
      "outputs": [
        {
          "output_type": "execute_result",
          "data": {
            "text/plain": [
              "array([0.04403201, 0.22704698, 0.07645521, ..., 0.09420722, 0.2004879 ,\n",
              "       0.09961025])"
            ]
          },
          "metadata": {
            "tags": []
          },
          "execution_count": 113
        }
      ]
    },
    {
      "cell_type": "code",
      "metadata": {
        "colab": {
          "base_uri": "https://localhost:8080/"
        },
        "id": "5vSjqRLt4xy0",
        "outputId": "ce12e40c-4b9c-450c-c07e-85ada671d2c6"
      },
      "source": [
        "confusion_matrix(y_test, gbc_pred)"
      ],
      "execution_count": null,
      "outputs": [
        {
          "output_type": "execute_result",
          "data": {
            "text/plain": [
              "array([[238494,    545],\n",
              "       [ 21180,    998]])"
            ]
          },
          "metadata": {
            "tags": []
          },
          "execution_count": 114
        }
      ]
    },
    {
      "cell_type": "code",
      "metadata": {
        "colab": {
          "base_uri": "https://localhost:8080/"
        },
        "id": "cXr76Sm8zS8b",
        "outputId": "46535c0b-c8d4-45ca-94c8-912fd10255fd"
      },
      "source": [
        "print(\"Precision Score:\", round(precision_score(y_test, gbc_pred),5))\r\n",
        "print(\"Recall Score:\", round(recall_score(y_test, gbc_pred),5))\r\n",
        "print(\"Accuracy Score:\", round(accuracy_score(y_test, gbc_pred),5))\r\n",
        "print(\"F1 Score:\", round(f1_score(y_test, gbc_pred, average='weighted'),5))\r\n",
        "print(\"ROC: \", round(roc_auc_score(y_test, gbc_prob),5))"
      ],
      "execution_count": null,
      "outputs": [
        {
          "output_type": "stream",
          "text": [
            "Precision Score: 0.64679\n",
            "Recall Score: 0.045\n",
            "Accuracy Score: 0.91683\n",
            "F1 Score: 0.88238\n",
            "ROC:  0.71179\n"
          ],
          "name": "stdout"
        }
      ]
    },
    {
      "cell_type": "markdown",
      "metadata": {
        "id": "S8s74AellUa1"
      },
      "source": [
        "### XGBoost"
      ]
    },
    {
      "cell_type": "code",
      "metadata": {
        "id": "TxqIf5rbxSJ9"
      },
      "source": [
        "xbgc = xgb.XGBClassifier()"
      ],
      "execution_count": null,
      "outputs": []
    },
    {
      "cell_type": "code",
      "metadata": {
        "colab": {
          "base_uri": "https://localhost:8080/"
        },
        "id": "xIoILjsixSGM",
        "outputId": "9650c4bb-cae8-4798-f132-66619d332791"
      },
      "source": [
        "xbgc.fit(X_train,y_train)"
      ],
      "execution_count": null,
      "outputs": [
        {
          "output_type": "execute_result",
          "data": {
            "text/plain": [
              "XGBClassifier(base_score=0.5, booster='gbtree', colsample_bylevel=1,\n",
              "              colsample_bynode=1, colsample_bytree=1, gamma=0,\n",
              "              learning_rate=0.1, max_delta_step=0, max_depth=3,\n",
              "              min_child_weight=1, missing=None, n_estimators=100, n_jobs=1,\n",
              "              nthread=None, objective='binary:logistic', random_state=0,\n",
              "              reg_alpha=0, reg_lambda=1, scale_pos_weight=1, seed=None,\n",
              "              silent=None, subsample=1, verbosity=1)"
            ]
          },
          "metadata": {
            "tags": []
          },
          "execution_count": 117
        }
      ]
    },
    {
      "cell_type": "code",
      "metadata": {
        "id": "G-ktzO37xSDR"
      },
      "source": [
        "xbgc_pred = xbgc.predict(X_test)"
      ],
      "execution_count": null,
      "outputs": []
    },
    {
      "cell_type": "code",
      "metadata": {
        "id": "TsNQoqRexryr"
      },
      "source": [
        "xbgc_prob = xbgc.predict_proba(X_test)[:,1]"
      ],
      "execution_count": null,
      "outputs": []
    },
    {
      "cell_type": "code",
      "metadata": {
        "colab": {
          "base_uri": "https://localhost:8080/"
        },
        "id": "i8REnLYrMbfO",
        "outputId": "c4ba1fb0-abc4-43e4-86b4-a1d24b0ac9cf"
      },
      "source": [
        "confusion_matrix(y_test, xbgc_pred)"
      ],
      "execution_count": null,
      "outputs": [
        {
          "output_type": "execute_result",
          "data": {
            "text/plain": [
              "array([[238644,    395],\n",
              "       [ 21333,    845]])"
            ]
          },
          "metadata": {
            "tags": []
          },
          "execution_count": 120
        }
      ]
    },
    {
      "cell_type": "code",
      "metadata": {
        "colab": {
          "base_uri": "https://localhost:8080/"
        },
        "id": "0gvKFzVZ0_oX",
        "outputId": "323e083e-dbc7-40d9-8c7f-9dc3ee87fcc5"
      },
      "source": [
        "print(\"Precision Score:\", round(precision_score(y_test, xbgc_pred),5))\r\n",
        "print(\"Recall Score:\", round(recall_score(y_test, xbgc_pred),5))\r\n",
        "print(\"Accuracy Score:\", round(accuracy_score(y_test, xbgc_pred),5))\r\n",
        "print(\"F1 Score:\", round(f1_score(y_test, xbgc_pred, average='weighted'),5))\r\n",
        "print(\"ROC: \", round(roc_auc_score(y_test, xbgc_prob),5))"
      ],
      "execution_count": null,
      "outputs": [
        {
          "output_type": "stream",
          "text": [
            "Precision Score: 0.68145\n",
            "Recall Score: 0.0381\n",
            "Accuracy Score: 0.91682\n",
            "F1 Score: 0.88138\n",
            "ROC:  0.71097\n"
          ],
          "name": "stdout"
        }
      ]
    },
    {
      "cell_type": "markdown",
      "metadata": {
        "id": "F8HkZlhd4A69"
      },
      "source": [
        "### CatBoost"
      ]
    },
    {
      "cell_type": "code",
      "metadata": {
        "id": "HMYrk3Y04DHD"
      },
      "source": [
        "CBC = CatBoostClassifier()"
      ],
      "execution_count": null,
      "outputs": []
    },
    {
      "cell_type": "code",
      "metadata": {
        "colab": {
          "base_uri": "https://localhost:8080/"
        },
        "id": "uCAqzDsq4DE3",
        "outputId": "ce8e02ed-c20f-4a86-eb78-3e707c506fcd"
      },
      "source": [
        "CBC.fit(X_train,y_train, cat_features=cats)"
      ],
      "execution_count": null,
      "outputs": [
        {
          "output_type": "stream",
          "text": [
            "Learning rate set to 0.159265\n",
            "0:\tlearn: 0.5477672\ttotal: 288ms\tremaining: 4m 47s\n",
            "1:\tlearn: 0.4526626\ttotal: 518ms\tremaining: 4m 18s\n",
            "2:\tlearn: 0.3951976\ttotal: 743ms\tremaining: 4m 6s\n",
            "3:\tlearn: 0.3546373\ttotal: 998ms\tremaining: 4m 8s\n",
            "4:\tlearn: 0.3274896\ttotal: 1.21s\tremaining: 4m 1s\n",
            "5:\tlearn: 0.3098252\ttotal: 1.43s\tremaining: 3m 56s\n",
            "6:\tlearn: 0.2964486\ttotal: 1.64s\tremaining: 3m 52s\n",
            "7:\tlearn: 0.2876220\ttotal: 1.87s\tremaining: 3m 51s\n",
            "8:\tlearn: 0.2829497\ttotal: 2.08s\tremaining: 3m 49s\n",
            "9:\tlearn: 0.2787833\ttotal: 2.27s\tremaining: 3m 45s\n",
            "10:\tlearn: 0.2753284\ttotal: 2.48s\tremaining: 3m 43s\n",
            "11:\tlearn: 0.2734378\ttotal: 2.71s\tremaining: 3m 43s\n",
            "12:\tlearn: 0.2716429\ttotal: 2.9s\tremaining: 3m 40s\n",
            "13:\tlearn: 0.2701951\ttotal: 3.15s\tremaining: 3m 42s\n",
            "14:\tlearn: 0.2692038\ttotal: 3.38s\tremaining: 3m 42s\n",
            "15:\tlearn: 0.2684083\ttotal: 3.61s\tremaining: 3m 42s\n",
            "16:\tlearn: 0.2677052\ttotal: 3.81s\tremaining: 3m 40s\n",
            "17:\tlearn: 0.2670551\ttotal: 4.02s\tremaining: 3m 39s\n",
            "18:\tlearn: 0.2666482\ttotal: 4.24s\tremaining: 3m 39s\n",
            "19:\tlearn: 0.2661468\ttotal: 4.48s\tremaining: 3m 39s\n",
            "20:\tlearn: 0.2658364\ttotal: 4.69s\tremaining: 3m 38s\n",
            "21:\tlearn: 0.2656493\ttotal: 4.92s\tremaining: 3m 38s\n",
            "22:\tlearn: 0.2654589\ttotal: 5.17s\tremaining: 3m 39s\n",
            "23:\tlearn: 0.2651484\ttotal: 5.4s\tremaining: 3m 39s\n",
            "24:\tlearn: 0.2648172\ttotal: 5.62s\tremaining: 3m 39s\n",
            "25:\tlearn: 0.2646524\ttotal: 5.86s\tremaining: 3m 39s\n",
            "26:\tlearn: 0.2644132\ttotal: 6.11s\tremaining: 3m 40s\n",
            "27:\tlearn: 0.2642852\ttotal: 6.35s\tremaining: 3m 40s\n",
            "28:\tlearn: 0.2641604\ttotal: 6.58s\tremaining: 3m 40s\n",
            "29:\tlearn: 0.2639634\ttotal: 6.82s\tremaining: 3m 40s\n",
            "30:\tlearn: 0.2637995\ttotal: 7.07s\tremaining: 3m 41s\n",
            "31:\tlearn: 0.2636967\ttotal: 7.3s\tremaining: 3m 40s\n",
            "32:\tlearn: 0.2635223\ttotal: 7.54s\tremaining: 3m 41s\n",
            "33:\tlearn: 0.2634151\ttotal: 7.78s\tremaining: 3m 41s\n",
            "34:\tlearn: 0.2632627\ttotal: 7.98s\tremaining: 3m 40s\n",
            "35:\tlearn: 0.2631941\ttotal: 8.21s\tremaining: 3m 39s\n",
            "36:\tlearn: 0.2630874\ttotal: 8.45s\tremaining: 3m 39s\n",
            "37:\tlearn: 0.2629495\ttotal: 8.65s\tremaining: 3m 39s\n",
            "38:\tlearn: 0.2628712\ttotal: 8.86s\tremaining: 3m 38s\n",
            "39:\tlearn: 0.2627908\ttotal: 9.11s\tremaining: 3m 38s\n",
            "40:\tlearn: 0.2627073\ttotal: 9.34s\tremaining: 3m 38s\n",
            "41:\tlearn: 0.2626185\ttotal: 9.55s\tremaining: 3m 37s\n",
            "42:\tlearn: 0.2624989\ttotal: 9.76s\tremaining: 3m 37s\n",
            "43:\tlearn: 0.2624438\ttotal: 10s\tremaining: 3m 37s\n",
            "44:\tlearn: 0.2622810\ttotal: 10.2s\tremaining: 3m 37s\n",
            "45:\tlearn: 0.2622088\ttotal: 10.5s\tremaining: 3m 37s\n",
            "46:\tlearn: 0.2621573\ttotal: 10.7s\tremaining: 3m 36s\n",
            "47:\tlearn: 0.2620825\ttotal: 10.9s\tremaining: 3m 36s\n",
            "48:\tlearn: 0.2620190\ttotal: 11.1s\tremaining: 3m 35s\n",
            "49:\tlearn: 0.2619757\ttotal: 11.4s\tremaining: 3m 35s\n",
            "50:\tlearn: 0.2619066\ttotal: 11.6s\tremaining: 3m 35s\n",
            "51:\tlearn: 0.2618402\ttotal: 11.8s\tremaining: 3m 34s\n",
            "52:\tlearn: 0.2617767\ttotal: 12s\tremaining: 3m 34s\n",
            "53:\tlearn: 0.2617162\ttotal: 12.3s\tremaining: 3m 35s\n",
            "54:\tlearn: 0.2616783\ttotal: 12.5s\tremaining: 3m 34s\n",
            "55:\tlearn: 0.2616320\ttotal: 12.7s\tremaining: 3m 34s\n",
            "56:\tlearn: 0.2616030\ttotal: 13s\tremaining: 3m 34s\n",
            "57:\tlearn: 0.2615747\ttotal: 13.2s\tremaining: 3m 34s\n",
            "58:\tlearn: 0.2615354\ttotal: 13.4s\tremaining: 3m 33s\n",
            "59:\tlearn: 0.2614965\ttotal: 13.6s\tremaining: 3m 33s\n",
            "60:\tlearn: 0.2614459\ttotal: 13.9s\tremaining: 3m 34s\n",
            "61:\tlearn: 0.2614071\ttotal: 14.1s\tremaining: 3m 33s\n",
            "62:\tlearn: 0.2613691\ttotal: 14.4s\tremaining: 3m 33s\n",
            "63:\tlearn: 0.2613422\ttotal: 14.6s\tremaining: 3m 33s\n",
            "64:\tlearn: 0.2613097\ttotal: 14.8s\tremaining: 3m 33s\n",
            "65:\tlearn: 0.2612676\ttotal: 15.1s\tremaining: 3m 33s\n",
            "66:\tlearn: 0.2612363\ttotal: 15.3s\tremaining: 3m 33s\n",
            "67:\tlearn: 0.2611917\ttotal: 15.6s\tremaining: 3m 33s\n",
            "68:\tlearn: 0.2611529\ttotal: 15.8s\tremaining: 3m 33s\n",
            "69:\tlearn: 0.2611091\ttotal: 16s\tremaining: 3m 32s\n",
            "70:\tlearn: 0.2610709\ttotal: 16.2s\tremaining: 3m 32s\n",
            "71:\tlearn: 0.2610298\ttotal: 16.5s\tremaining: 3m 32s\n",
            "72:\tlearn: 0.2609984\ttotal: 16.7s\tremaining: 3m 31s\n",
            "73:\tlearn: 0.2609814\ttotal: 16.9s\tremaining: 3m 31s\n",
            "74:\tlearn: 0.2609542\ttotal: 17.2s\tremaining: 3m 31s\n",
            "75:\tlearn: 0.2609227\ttotal: 17.4s\tremaining: 3m 31s\n",
            "76:\tlearn: 0.2608705\ttotal: 17.6s\tremaining: 3m 31s\n",
            "77:\tlearn: 0.2608435\ttotal: 17.9s\tremaining: 3m 31s\n",
            "78:\tlearn: 0.2608243\ttotal: 18.1s\tremaining: 3m 30s\n",
            "79:\tlearn: 0.2607928\ttotal: 18.3s\tremaining: 3m 30s\n",
            "80:\tlearn: 0.2607707\ttotal: 18.5s\tremaining: 3m 30s\n",
            "81:\tlearn: 0.2607402\ttotal: 18.8s\tremaining: 3m 29s\n",
            "82:\tlearn: 0.2607054\ttotal: 19s\tremaining: 3m 29s\n",
            "83:\tlearn: 0.2606837\ttotal: 19.2s\tremaining: 3m 29s\n",
            "84:\tlearn: 0.2606545\ttotal: 19.5s\tremaining: 3m 29s\n",
            "85:\tlearn: 0.2606280\ttotal: 19.7s\tremaining: 3m 29s\n",
            "86:\tlearn: 0.2606040\ttotal: 19.9s\tremaining: 3m 29s\n",
            "87:\tlearn: 0.2605754\ttotal: 20.1s\tremaining: 3m 28s\n",
            "88:\tlearn: 0.2605445\ttotal: 20.4s\tremaining: 3m 28s\n",
            "89:\tlearn: 0.2605099\ttotal: 20.6s\tremaining: 3m 27s\n",
            "90:\tlearn: 0.2604850\ttotal: 20.8s\tremaining: 3m 27s\n",
            "91:\tlearn: 0.2604497\ttotal: 21s\tremaining: 3m 26s\n",
            "92:\tlearn: 0.2604322\ttotal: 21.2s\tremaining: 3m 26s\n",
            "93:\tlearn: 0.2603914\ttotal: 21.4s\tremaining: 3m 26s\n",
            "94:\tlearn: 0.2603680\ttotal: 21.6s\tremaining: 3m 26s\n",
            "95:\tlearn: 0.2603541\ttotal: 21.9s\tremaining: 3m 25s\n",
            "96:\tlearn: 0.2603319\ttotal: 22.1s\tremaining: 3m 25s\n",
            "97:\tlearn: 0.2603084\ttotal: 22.3s\tremaining: 3m 25s\n",
            "98:\tlearn: 0.2602795\ttotal: 22.6s\tremaining: 3m 25s\n",
            "99:\tlearn: 0.2602626\ttotal: 22.8s\tremaining: 3m 25s\n",
            "100:\tlearn: 0.2602384\ttotal: 23s\tremaining: 3m 25s\n",
            "101:\tlearn: 0.2602197\ttotal: 23.3s\tremaining: 3m 24s\n",
            "102:\tlearn: 0.2601942\ttotal: 23.5s\tremaining: 3m 24s\n",
            "103:\tlearn: 0.2601737\ttotal: 23.7s\tremaining: 3m 24s\n",
            "104:\tlearn: 0.2601519\ttotal: 24s\tremaining: 3m 24s\n",
            "105:\tlearn: 0.2601244\ttotal: 24.2s\tremaining: 3m 24s\n",
            "106:\tlearn: 0.2600947\ttotal: 24.5s\tremaining: 3m 24s\n",
            "107:\tlearn: 0.2600708\ttotal: 24.7s\tremaining: 3m 23s\n",
            "108:\tlearn: 0.2600513\ttotal: 24.9s\tremaining: 3m 23s\n",
            "109:\tlearn: 0.2600309\ttotal: 25.1s\tremaining: 3m 23s\n",
            "110:\tlearn: 0.2600171\ttotal: 25.4s\tremaining: 3m 23s\n",
            "111:\tlearn: 0.2599989\ttotal: 25.6s\tremaining: 3m 22s\n",
            "112:\tlearn: 0.2599770\ttotal: 25.8s\tremaining: 3m 22s\n",
            "113:\tlearn: 0.2599504\ttotal: 26.1s\tremaining: 3m 22s\n",
            "114:\tlearn: 0.2599291\ttotal: 26.3s\tremaining: 3m 22s\n",
            "115:\tlearn: 0.2599094\ttotal: 26.5s\tremaining: 3m 22s\n",
            "116:\tlearn: 0.2598889\ttotal: 26.7s\tremaining: 3m 21s\n",
            "117:\tlearn: 0.2598730\ttotal: 27s\tremaining: 3m 21s\n",
            "118:\tlearn: 0.2598472\ttotal: 27.2s\tremaining: 3m 21s\n",
            "119:\tlearn: 0.2598337\ttotal: 27.4s\tremaining: 3m 21s\n",
            "120:\tlearn: 0.2598114\ttotal: 27.6s\tremaining: 3m 20s\n",
            "121:\tlearn: 0.2597964\ttotal: 27.9s\tremaining: 3m 20s\n",
            "122:\tlearn: 0.2597837\ttotal: 28.1s\tremaining: 3m 20s\n",
            "123:\tlearn: 0.2597602\ttotal: 28.4s\tremaining: 3m 20s\n",
            "124:\tlearn: 0.2597428\ttotal: 28.6s\tremaining: 3m 20s\n",
            "125:\tlearn: 0.2597277\ttotal: 28.9s\tremaining: 3m 20s\n",
            "126:\tlearn: 0.2597060\ttotal: 29.1s\tremaining: 3m 19s\n",
            "127:\tlearn: 0.2596857\ttotal: 29.3s\tremaining: 3m 19s\n",
            "128:\tlearn: 0.2596706\ttotal: 29.5s\tremaining: 3m 19s\n",
            "129:\tlearn: 0.2596525\ttotal: 29.7s\tremaining: 3m 19s\n",
            "130:\tlearn: 0.2596286\ttotal: 29.9s\tremaining: 3m 18s\n",
            "131:\tlearn: 0.2596088\ttotal: 30.2s\tremaining: 3m 18s\n",
            "132:\tlearn: 0.2595913\ttotal: 30.4s\tremaining: 3m 18s\n",
            "133:\tlearn: 0.2595770\ttotal: 30.6s\tremaining: 3m 17s\n",
            "134:\tlearn: 0.2595627\ttotal: 30.8s\tremaining: 3m 17s\n",
            "135:\tlearn: 0.2595486\ttotal: 31s\tremaining: 3m 17s\n",
            "136:\tlearn: 0.2595322\ttotal: 31.3s\tremaining: 3m 16s\n",
            "137:\tlearn: 0.2595206\ttotal: 31.5s\tremaining: 3m 16s\n",
            "138:\tlearn: 0.2595040\ttotal: 31.7s\tremaining: 3m 16s\n",
            "139:\tlearn: 0.2594899\ttotal: 31.9s\tremaining: 3m 16s\n",
            "140:\tlearn: 0.2594747\ttotal: 32.2s\tremaining: 3m 15s\n",
            "141:\tlearn: 0.2594558\ttotal: 32.4s\tremaining: 3m 15s\n",
            "142:\tlearn: 0.2594387\ttotal: 32.7s\tremaining: 3m 15s\n",
            "143:\tlearn: 0.2594252\ttotal: 32.9s\tremaining: 3m 15s\n",
            "144:\tlearn: 0.2594116\ttotal: 33.1s\tremaining: 3m 15s\n",
            "145:\tlearn: 0.2593988\ttotal: 33.3s\tremaining: 3m 14s\n",
            "146:\tlearn: 0.2593815\ttotal: 33.6s\tremaining: 3m 14s\n",
            "147:\tlearn: 0.2593663\ttotal: 33.8s\tremaining: 3m 14s\n",
            "148:\tlearn: 0.2593551\ttotal: 34s\tremaining: 3m 14s\n",
            "149:\tlearn: 0.2593443\ttotal: 34.2s\tremaining: 3m 13s\n",
            "150:\tlearn: 0.2593268\ttotal: 34.5s\tremaining: 3m 13s\n",
            "151:\tlearn: 0.2593099\ttotal: 34.7s\tremaining: 3m 13s\n",
            "152:\tlearn: 0.2592978\ttotal: 35s\tremaining: 3m 13s\n",
            "153:\tlearn: 0.2592812\ttotal: 35.2s\tremaining: 3m 13s\n",
            "154:\tlearn: 0.2592631\ttotal: 35.4s\tremaining: 3m 13s\n",
            "155:\tlearn: 0.2592420\ttotal: 35.7s\tremaining: 3m 12s\n",
            "156:\tlearn: 0.2592311\ttotal: 35.9s\tremaining: 3m 12s\n",
            "157:\tlearn: 0.2592159\ttotal: 36.1s\tremaining: 3m 12s\n",
            "158:\tlearn: 0.2591981\ttotal: 36.3s\tremaining: 3m 12s\n",
            "159:\tlearn: 0.2591816\ttotal: 36.6s\tremaining: 3m 12s\n",
            "160:\tlearn: 0.2591581\ttotal: 36.8s\tremaining: 3m 11s\n",
            "161:\tlearn: 0.2591401\ttotal: 37s\tremaining: 3m 11s\n",
            "162:\tlearn: 0.2591253\ttotal: 37.3s\tremaining: 3m 11s\n",
            "163:\tlearn: 0.2591098\ttotal: 37.5s\tremaining: 3m 11s\n",
            "164:\tlearn: 0.2590938\ttotal: 37.7s\tremaining: 3m 10s\n",
            "165:\tlearn: 0.2590806\ttotal: 37.9s\tremaining: 3m 10s\n",
            "166:\tlearn: 0.2590666\ttotal: 38.2s\tremaining: 3m 10s\n",
            "167:\tlearn: 0.2590562\ttotal: 38.4s\tremaining: 3m 10s\n",
            "168:\tlearn: 0.2590456\ttotal: 38.6s\tremaining: 3m 9s\n",
            "169:\tlearn: 0.2590309\ttotal: 38.9s\tremaining: 3m 9s\n",
            "170:\tlearn: 0.2590112\ttotal: 39.1s\tremaining: 3m 9s\n",
            "171:\tlearn: 0.2589944\ttotal: 39.3s\tremaining: 3m 9s\n",
            "172:\tlearn: 0.2589883\ttotal: 39.5s\tremaining: 3m 8s\n",
            "173:\tlearn: 0.2589777\ttotal: 39.8s\tremaining: 3m 8s\n",
            "174:\tlearn: 0.2589660\ttotal: 40s\tremaining: 3m 8s\n",
            "175:\tlearn: 0.2589579\ttotal: 40.2s\tremaining: 3m 8s\n",
            "176:\tlearn: 0.2589493\ttotal: 40.4s\tremaining: 3m 7s\n",
            "177:\tlearn: 0.2589361\ttotal: 40.7s\tremaining: 3m 7s\n",
            "178:\tlearn: 0.2589145\ttotal: 40.9s\tremaining: 3m 7s\n",
            "179:\tlearn: 0.2589002\ttotal: 41.1s\tremaining: 3m 7s\n",
            "180:\tlearn: 0.2588831\ttotal: 41.4s\tremaining: 3m 7s\n",
            "181:\tlearn: 0.2588655\ttotal: 41.6s\tremaining: 3m 6s\n",
            "182:\tlearn: 0.2588525\ttotal: 41.8s\tremaining: 3m 6s\n",
            "183:\tlearn: 0.2588357\ttotal: 42.1s\tremaining: 3m 6s\n",
            "184:\tlearn: 0.2588275\ttotal: 42.3s\tremaining: 3m 6s\n",
            "185:\tlearn: 0.2588026\ttotal: 42.5s\tremaining: 3m 6s\n",
            "186:\tlearn: 0.2587909\ttotal: 42.8s\tremaining: 3m 5s\n",
            "187:\tlearn: 0.2587791\ttotal: 43s\tremaining: 3m 5s\n",
            "188:\tlearn: 0.2587680\ttotal: 43.2s\tremaining: 3m 5s\n",
            "189:\tlearn: 0.2587557\ttotal: 43.5s\tremaining: 3m 5s\n",
            "190:\tlearn: 0.2587411\ttotal: 43.7s\tremaining: 3m 5s\n",
            "191:\tlearn: 0.2587261\ttotal: 43.9s\tremaining: 3m 4s\n",
            "192:\tlearn: 0.2587114\ttotal: 44.2s\tremaining: 3m 4s\n",
            "193:\tlearn: 0.2586993\ttotal: 44.4s\tremaining: 3m 4s\n",
            "194:\tlearn: 0.2586889\ttotal: 44.6s\tremaining: 3m 4s\n",
            "195:\tlearn: 0.2586739\ttotal: 44.8s\tremaining: 3m 3s\n",
            "196:\tlearn: 0.2586638\ttotal: 45.1s\tremaining: 3m 3s\n",
            "197:\tlearn: 0.2586484\ttotal: 45.3s\tremaining: 3m 3s\n",
            "198:\tlearn: 0.2586365\ttotal: 45.5s\tremaining: 3m 3s\n",
            "199:\tlearn: 0.2586209\ttotal: 45.8s\tremaining: 3m 3s\n",
            "200:\tlearn: 0.2586039\ttotal: 46s\tremaining: 3m 2s\n",
            "201:\tlearn: 0.2585848\ttotal: 46.3s\tremaining: 3m 2s\n",
            "202:\tlearn: 0.2585723\ttotal: 46.5s\tremaining: 3m 2s\n",
            "203:\tlearn: 0.2585625\ttotal: 46.7s\tremaining: 3m 2s\n",
            "204:\tlearn: 0.2585468\ttotal: 47s\tremaining: 3m 2s\n",
            "205:\tlearn: 0.2585359\ttotal: 47.2s\tremaining: 3m 1s\n",
            "206:\tlearn: 0.2585261\ttotal: 47.4s\tremaining: 3m 1s\n",
            "207:\tlearn: 0.2585131\ttotal: 47.6s\tremaining: 3m 1s\n",
            "208:\tlearn: 0.2585037\ttotal: 47.9s\tremaining: 3m 1s\n",
            "209:\tlearn: 0.2584927\ttotal: 48.1s\tremaining: 3m\n",
            "210:\tlearn: 0.2584775\ttotal: 48.3s\tremaining: 3m\n",
            "211:\tlearn: 0.2584650\ttotal: 48.6s\tremaining: 3m\n",
            "212:\tlearn: 0.2584511\ttotal: 48.8s\tremaining: 3m\n",
            "213:\tlearn: 0.2584421\ttotal: 49s\tremaining: 3m\n",
            "214:\tlearn: 0.2584231\ttotal: 49.3s\tremaining: 2m 59s\n",
            "215:\tlearn: 0.2584054\ttotal: 49.5s\tremaining: 2m 59s\n",
            "216:\tlearn: 0.2583932\ttotal: 49.8s\tremaining: 2m 59s\n",
            "217:\tlearn: 0.2583824\ttotal: 50s\tremaining: 2m 59s\n",
            "218:\tlearn: 0.2583719\ttotal: 50.2s\tremaining: 2m 59s\n",
            "219:\tlearn: 0.2583607\ttotal: 50.5s\tremaining: 2m 58s\n",
            "220:\tlearn: 0.2583425\ttotal: 50.7s\tremaining: 2m 58s\n",
            "221:\tlearn: 0.2583260\ttotal: 50.9s\tremaining: 2m 58s\n",
            "222:\tlearn: 0.2583174\ttotal: 51.2s\tremaining: 2m 58s\n",
            "223:\tlearn: 0.2583114\ttotal: 51.4s\tremaining: 2m 58s\n",
            "224:\tlearn: 0.2583019\ttotal: 51.6s\tremaining: 2m 57s\n",
            "225:\tlearn: 0.2582850\ttotal: 51.9s\tremaining: 2m 57s\n",
            "226:\tlearn: 0.2582717\ttotal: 52.1s\tremaining: 2m 57s\n",
            "227:\tlearn: 0.2582581\ttotal: 52.4s\tremaining: 2m 57s\n",
            "228:\tlearn: 0.2582435\ttotal: 52.6s\tremaining: 2m 57s\n",
            "229:\tlearn: 0.2582335\ttotal: 52.8s\tremaining: 2m 56s\n",
            "230:\tlearn: 0.2582215\ttotal: 53.1s\tremaining: 2m 56s\n",
            "231:\tlearn: 0.2582088\ttotal: 53.3s\tremaining: 2m 56s\n",
            "232:\tlearn: 0.2581971\ttotal: 53.5s\tremaining: 2m 56s\n",
            "233:\tlearn: 0.2581802\ttotal: 53.7s\tremaining: 2m 55s\n",
            "234:\tlearn: 0.2581672\ttotal: 54s\tremaining: 2m 55s\n",
            "235:\tlearn: 0.2581519\ttotal: 54.2s\tremaining: 2m 55s\n",
            "236:\tlearn: 0.2581418\ttotal: 54.4s\tremaining: 2m 55s\n",
            "237:\tlearn: 0.2581246\ttotal: 54.7s\tremaining: 2m 55s\n",
            "238:\tlearn: 0.2581047\ttotal: 54.9s\tremaining: 2m 54s\n",
            "239:\tlearn: 0.2580932\ttotal: 55.1s\tremaining: 2m 54s\n",
            "240:\tlearn: 0.2580777\ttotal: 55.4s\tremaining: 2m 54s\n",
            "241:\tlearn: 0.2580668\ttotal: 55.6s\tremaining: 2m 54s\n",
            "242:\tlearn: 0.2580537\ttotal: 55.9s\tremaining: 2m 54s\n",
            "243:\tlearn: 0.2580369\ttotal: 56.1s\tremaining: 2m 53s\n",
            "244:\tlearn: 0.2580243\ttotal: 56.4s\tremaining: 2m 53s\n",
            "245:\tlearn: 0.2580128\ttotal: 56.6s\tremaining: 2m 53s\n",
            "246:\tlearn: 0.2579989\ttotal: 56.8s\tremaining: 2m 53s\n",
            "247:\tlearn: 0.2579857\ttotal: 57.1s\tremaining: 2m 53s\n",
            "248:\tlearn: 0.2579669\ttotal: 57.3s\tremaining: 2m 52s\n",
            "249:\tlearn: 0.2579545\ttotal: 57.6s\tremaining: 2m 52s\n",
            "250:\tlearn: 0.2579436\ttotal: 57.8s\tremaining: 2m 52s\n",
            "251:\tlearn: 0.2579323\ttotal: 58.1s\tremaining: 2m 52s\n",
            "252:\tlearn: 0.2579233\ttotal: 58.3s\tremaining: 2m 52s\n",
            "253:\tlearn: 0.2579158\ttotal: 58.6s\tremaining: 2m 52s\n",
            "254:\tlearn: 0.2579067\ttotal: 58.8s\tremaining: 2m 51s\n",
            "255:\tlearn: 0.2578974\ttotal: 59.1s\tremaining: 2m 51s\n",
            "256:\tlearn: 0.2578829\ttotal: 59.3s\tremaining: 2m 51s\n",
            "257:\tlearn: 0.2578754\ttotal: 59.6s\tremaining: 2m 51s\n",
            "258:\tlearn: 0.2578632\ttotal: 59.8s\tremaining: 2m 51s\n",
            "259:\tlearn: 0.2578548\ttotal: 1m\tremaining: 2m 50s\n",
            "260:\tlearn: 0.2578424\ttotal: 1m\tremaining: 2m 50s\n",
            "261:\tlearn: 0.2578309\ttotal: 1m\tremaining: 2m 50s\n",
            "262:\tlearn: 0.2578196\ttotal: 1m\tremaining: 2m 50s\n",
            "263:\tlearn: 0.2578076\ttotal: 1m 1s\tremaining: 2m 50s\n",
            "264:\tlearn: 0.2577916\ttotal: 1m 1s\tremaining: 2m 50s\n",
            "265:\tlearn: 0.2577806\ttotal: 1m 1s\tremaining: 2m 49s\n",
            "266:\tlearn: 0.2577703\ttotal: 1m 1s\tremaining: 2m 49s\n",
            "267:\tlearn: 0.2577557\ttotal: 1m 2s\tremaining: 2m 49s\n",
            "268:\tlearn: 0.2577463\ttotal: 1m 2s\tremaining: 2m 49s\n",
            "269:\tlearn: 0.2577359\ttotal: 1m 2s\tremaining: 2m 48s\n",
            "270:\tlearn: 0.2577226\ttotal: 1m 2s\tremaining: 2m 48s\n",
            "271:\tlearn: 0.2577114\ttotal: 1m 2s\tremaining: 2m 48s\n",
            "272:\tlearn: 0.2576968\ttotal: 1m 3s\tremaining: 2m 48s\n",
            "273:\tlearn: 0.2576878\ttotal: 1m 3s\tremaining: 2m 48s\n",
            "274:\tlearn: 0.2576733\ttotal: 1m 3s\tremaining: 2m 47s\n",
            "275:\tlearn: 0.2576626\ttotal: 1m 3s\tremaining: 2m 47s\n",
            "276:\tlearn: 0.2576533\ttotal: 1m 4s\tremaining: 2m 47s\n",
            "277:\tlearn: 0.2576432\ttotal: 1m 4s\tremaining: 2m 47s\n",
            "278:\tlearn: 0.2576264\ttotal: 1m 4s\tremaining: 2m 46s\n",
            "279:\tlearn: 0.2576134\ttotal: 1m 4s\tremaining: 2m 46s\n",
            "280:\tlearn: 0.2576032\ttotal: 1m 5s\tremaining: 2m 46s\n",
            "281:\tlearn: 0.2575934\ttotal: 1m 5s\tremaining: 2m 46s\n",
            "282:\tlearn: 0.2575821\ttotal: 1m 5s\tremaining: 2m 46s\n",
            "283:\tlearn: 0.2575636\ttotal: 1m 5s\tremaining: 2m 46s\n",
            "284:\tlearn: 0.2575512\ttotal: 1m 6s\tremaining: 2m 46s\n",
            "285:\tlearn: 0.2575330\ttotal: 1m 6s\tremaining: 2m 45s\n",
            "286:\tlearn: 0.2575207\ttotal: 1m 6s\tremaining: 2m 45s\n",
            "287:\tlearn: 0.2575111\ttotal: 1m 6s\tremaining: 2m 45s\n",
            "288:\tlearn: 0.2575050\ttotal: 1m 7s\tremaining: 2m 45s\n",
            "289:\tlearn: 0.2574894\ttotal: 1m 7s\tremaining: 2m 44s\n",
            "290:\tlearn: 0.2574780\ttotal: 1m 7s\tremaining: 2m 44s\n",
            "291:\tlearn: 0.2574652\ttotal: 1m 7s\tremaining: 2m 44s\n",
            "292:\tlearn: 0.2574530\ttotal: 1m 8s\tremaining: 2m 44s\n",
            "293:\tlearn: 0.2574419\ttotal: 1m 8s\tremaining: 2m 44s\n",
            "294:\tlearn: 0.2574236\ttotal: 1m 8s\tremaining: 2m 43s\n",
            "295:\tlearn: 0.2574147\ttotal: 1m 8s\tremaining: 2m 43s\n",
            "296:\tlearn: 0.2574044\ttotal: 1m 8s\tremaining: 2m 43s\n",
            "297:\tlearn: 0.2573928\ttotal: 1m 9s\tremaining: 2m 43s\n",
            "298:\tlearn: 0.2573847\ttotal: 1m 9s\tremaining: 2m 42s\n",
            "299:\tlearn: 0.2573730\ttotal: 1m 9s\tremaining: 2m 42s\n",
            "300:\tlearn: 0.2573632\ttotal: 1m 9s\tremaining: 2m 42s\n",
            "301:\tlearn: 0.2573471\ttotal: 1m 10s\tremaining: 2m 42s\n",
            "302:\tlearn: 0.2573350\ttotal: 1m 10s\tremaining: 2m 41s\n",
            "303:\tlearn: 0.2573223\ttotal: 1m 10s\tremaining: 2m 41s\n",
            "304:\tlearn: 0.2573081\ttotal: 1m 10s\tremaining: 2m 41s\n",
            "305:\tlearn: 0.2572928\ttotal: 1m 11s\tremaining: 2m 41s\n",
            "306:\tlearn: 0.2572809\ttotal: 1m 11s\tremaining: 2m 40s\n",
            "307:\tlearn: 0.2572722\ttotal: 1m 11s\tremaining: 2m 40s\n",
            "308:\tlearn: 0.2572594\ttotal: 1m 11s\tremaining: 2m 40s\n",
            "309:\tlearn: 0.2572519\ttotal: 1m 11s\tremaining: 2m 40s\n",
            "310:\tlearn: 0.2572450\ttotal: 1m 12s\tremaining: 2m 39s\n",
            "311:\tlearn: 0.2572369\ttotal: 1m 12s\tremaining: 2m 39s\n",
            "312:\tlearn: 0.2572207\ttotal: 1m 12s\tremaining: 2m 39s\n",
            "313:\tlearn: 0.2572115\ttotal: 1m 12s\tremaining: 2m 39s\n",
            "314:\tlearn: 0.2571910\ttotal: 1m 13s\tremaining: 2m 39s\n",
            "315:\tlearn: 0.2571764\ttotal: 1m 13s\tremaining: 2m 38s\n",
            "316:\tlearn: 0.2571663\ttotal: 1m 13s\tremaining: 2m 38s\n",
            "317:\tlearn: 0.2571560\ttotal: 1m 13s\tremaining: 2m 38s\n",
            "318:\tlearn: 0.2571475\ttotal: 1m 14s\tremaining: 2m 38s\n",
            "319:\tlearn: 0.2571363\ttotal: 1m 14s\tremaining: 2m 37s\n",
            "320:\tlearn: 0.2571255\ttotal: 1m 14s\tremaining: 2m 37s\n",
            "321:\tlearn: 0.2571139\ttotal: 1m 14s\tremaining: 2m 37s\n",
            "322:\tlearn: 0.2571022\ttotal: 1m 15s\tremaining: 2m 37s\n",
            "323:\tlearn: 0.2570945\ttotal: 1m 15s\tremaining: 2m 37s\n",
            "324:\tlearn: 0.2570841\ttotal: 1m 15s\tremaining: 2m 36s\n",
            "325:\tlearn: 0.2570734\ttotal: 1m 15s\tremaining: 2m 36s\n",
            "326:\tlearn: 0.2570675\ttotal: 1m 15s\tremaining: 2m 36s\n",
            "327:\tlearn: 0.2570620\ttotal: 1m 16s\tremaining: 2m 36s\n",
            "328:\tlearn: 0.2570501\ttotal: 1m 16s\tremaining: 2m 35s\n",
            "329:\tlearn: 0.2570358\ttotal: 1m 16s\tremaining: 2m 35s\n",
            "330:\tlearn: 0.2570266\ttotal: 1m 16s\tremaining: 2m 35s\n",
            "331:\tlearn: 0.2570152\ttotal: 1m 17s\tremaining: 2m 35s\n",
            "332:\tlearn: 0.2570041\ttotal: 1m 17s\tremaining: 2m 34s\n",
            "333:\tlearn: 0.2569930\ttotal: 1m 17s\tremaining: 2m 34s\n",
            "334:\tlearn: 0.2569783\ttotal: 1m 17s\tremaining: 2m 34s\n",
            "335:\tlearn: 0.2569698\ttotal: 1m 18s\tremaining: 2m 34s\n",
            "336:\tlearn: 0.2569622\ttotal: 1m 18s\tremaining: 2m 34s\n",
            "337:\tlearn: 0.2569522\ttotal: 1m 18s\tremaining: 2m 33s\n",
            "338:\tlearn: 0.2569417\ttotal: 1m 18s\tremaining: 2m 33s\n",
            "339:\tlearn: 0.2569287\ttotal: 1m 19s\tremaining: 2m 33s\n",
            "340:\tlearn: 0.2569257\ttotal: 1m 19s\tremaining: 2m 33s\n",
            "341:\tlearn: 0.2569113\ttotal: 1m 19s\tremaining: 2m 33s\n",
            "342:\tlearn: 0.2569030\ttotal: 1m 19s\tremaining: 2m 32s\n",
            "343:\tlearn: 0.2568902\ttotal: 1m 20s\tremaining: 2m 32s\n",
            "344:\tlearn: 0.2568766\ttotal: 1m 20s\tremaining: 2m 32s\n",
            "345:\tlearn: 0.2568655\ttotal: 1m 20s\tremaining: 2m 32s\n",
            "346:\tlearn: 0.2568551\ttotal: 1m 20s\tremaining: 2m 31s\n",
            "347:\tlearn: 0.2568469\ttotal: 1m 20s\tremaining: 2m 31s\n",
            "348:\tlearn: 0.2568362\ttotal: 1m 21s\tremaining: 2m 31s\n",
            "349:\tlearn: 0.2568302\ttotal: 1m 21s\tremaining: 2m 31s\n",
            "350:\tlearn: 0.2568161\ttotal: 1m 21s\tremaining: 2m 31s\n",
            "351:\tlearn: 0.2568055\ttotal: 1m 21s\tremaining: 2m 30s\n",
            "352:\tlearn: 0.2567974\ttotal: 1m 22s\tremaining: 2m 30s\n",
            "353:\tlearn: 0.2567853\ttotal: 1m 22s\tremaining: 2m 30s\n",
            "354:\tlearn: 0.2567695\ttotal: 1m 22s\tremaining: 2m 30s\n",
            "355:\tlearn: 0.2567596\ttotal: 1m 22s\tremaining: 2m 30s\n",
            "356:\tlearn: 0.2567503\ttotal: 1m 23s\tremaining: 2m 29s\n",
            "357:\tlearn: 0.2567403\ttotal: 1m 23s\tremaining: 2m 29s\n",
            "358:\tlearn: 0.2567273\ttotal: 1m 23s\tremaining: 2m 29s\n",
            "359:\tlearn: 0.2567131\ttotal: 1m 24s\tremaining: 2m 29s\n",
            "360:\tlearn: 0.2567053\ttotal: 1m 24s\tremaining: 2m 29s\n",
            "361:\tlearn: 0.2566951\ttotal: 1m 24s\tremaining: 2m 28s\n",
            "362:\tlearn: 0.2566905\ttotal: 1m 24s\tremaining: 2m 28s\n",
            "363:\tlearn: 0.2566784\ttotal: 1m 25s\tremaining: 2m 28s\n",
            "364:\tlearn: 0.2566684\ttotal: 1m 25s\tremaining: 2m 28s\n",
            "365:\tlearn: 0.2566562\ttotal: 1m 25s\tremaining: 2m 28s\n",
            "366:\tlearn: 0.2566484\ttotal: 1m 25s\tremaining: 2m 27s\n",
            "367:\tlearn: 0.2566397\ttotal: 1m 25s\tremaining: 2m 27s\n",
            "368:\tlearn: 0.2566246\ttotal: 1m 26s\tremaining: 2m 27s\n",
            "369:\tlearn: 0.2566122\ttotal: 1m 26s\tremaining: 2m 27s\n",
            "370:\tlearn: 0.2565980\ttotal: 1m 26s\tremaining: 2m 27s\n",
            "371:\tlearn: 0.2565887\ttotal: 1m 26s\tremaining: 2m 26s\n",
            "372:\tlearn: 0.2565779\ttotal: 1m 27s\tremaining: 2m 26s\n",
            "373:\tlearn: 0.2565705\ttotal: 1m 27s\tremaining: 2m 26s\n",
            "374:\tlearn: 0.2565629\ttotal: 1m 27s\tremaining: 2m 26s\n",
            "375:\tlearn: 0.2565557\ttotal: 1m 27s\tremaining: 2m 25s\n",
            "376:\tlearn: 0.2565506\ttotal: 1m 28s\tremaining: 2m 25s\n",
            "377:\tlearn: 0.2565404\ttotal: 1m 28s\tremaining: 2m 25s\n",
            "378:\tlearn: 0.2565287\ttotal: 1m 28s\tremaining: 2m 25s\n",
            "379:\tlearn: 0.2565148\ttotal: 1m 29s\tremaining: 2m 25s\n",
            "380:\tlearn: 0.2565021\ttotal: 1m 29s\tremaining: 2m 25s\n",
            "381:\tlearn: 0.2564905\ttotal: 1m 29s\tremaining: 2m 24s\n",
            "382:\tlearn: 0.2564811\ttotal: 1m 29s\tremaining: 2m 24s\n",
            "383:\tlearn: 0.2564745\ttotal: 1m 30s\tremaining: 2m 24s\n",
            "384:\tlearn: 0.2564681\ttotal: 1m 30s\tremaining: 2m 24s\n",
            "385:\tlearn: 0.2564562\ttotal: 1m 30s\tremaining: 2m 24s\n",
            "386:\tlearn: 0.2564416\ttotal: 1m 30s\tremaining: 2m 23s\n",
            "387:\tlearn: 0.2564325\ttotal: 1m 31s\tremaining: 2m 23s\n",
            "388:\tlearn: 0.2564162\ttotal: 1m 31s\tremaining: 2m 23s\n",
            "389:\tlearn: 0.2564033\ttotal: 1m 31s\tremaining: 2m 23s\n",
            "390:\tlearn: 0.2563917\ttotal: 1m 31s\tremaining: 2m 23s\n",
            "391:\tlearn: 0.2563850\ttotal: 1m 32s\tremaining: 2m 22s\n",
            "392:\tlearn: 0.2563766\ttotal: 1m 32s\tremaining: 2m 22s\n",
            "393:\tlearn: 0.2563640\ttotal: 1m 32s\tremaining: 2m 22s\n",
            "394:\tlearn: 0.2563502\ttotal: 1m 32s\tremaining: 2m 22s\n",
            "395:\tlearn: 0.2563418\ttotal: 1m 33s\tremaining: 2m 22s\n",
            "396:\tlearn: 0.2563277\ttotal: 1m 33s\tremaining: 2m 21s\n",
            "397:\tlearn: 0.2563148\ttotal: 1m 33s\tremaining: 2m 21s\n",
            "398:\tlearn: 0.2563081\ttotal: 1m 33s\tremaining: 2m 21s\n",
            "399:\tlearn: 0.2562980\ttotal: 1m 34s\tremaining: 2m 21s\n",
            "400:\tlearn: 0.2562894\ttotal: 1m 34s\tremaining: 2m 21s\n",
            "401:\tlearn: 0.2562793\ttotal: 1m 34s\tremaining: 2m 20s\n",
            "402:\tlearn: 0.2562706\ttotal: 1m 34s\tremaining: 2m 20s\n",
            "403:\tlearn: 0.2562604\ttotal: 1m 35s\tremaining: 2m 20s\n",
            "404:\tlearn: 0.2562502\ttotal: 1m 35s\tremaining: 2m 20s\n",
            "405:\tlearn: 0.2562361\ttotal: 1m 35s\tremaining: 2m 20s\n",
            "406:\tlearn: 0.2562219\ttotal: 1m 35s\tremaining: 2m 19s\n",
            "407:\tlearn: 0.2562087\ttotal: 1m 36s\tremaining: 2m 19s\n",
            "408:\tlearn: 0.2561998\ttotal: 1m 36s\tremaining: 2m 19s\n",
            "409:\tlearn: 0.2561867\ttotal: 1m 36s\tremaining: 2m 19s\n",
            "410:\tlearn: 0.2561764\ttotal: 1m 37s\tremaining: 2m 19s\n",
            "411:\tlearn: 0.2561644\ttotal: 1m 37s\tremaining: 2m 18s\n",
            "412:\tlearn: 0.2561551\ttotal: 1m 37s\tremaining: 2m 18s\n",
            "413:\tlearn: 0.2561471\ttotal: 1m 37s\tremaining: 2m 18s\n",
            "414:\tlearn: 0.2561381\ttotal: 1m 38s\tremaining: 2m 18s\n",
            "415:\tlearn: 0.2561284\ttotal: 1m 38s\tremaining: 2m 18s\n",
            "416:\tlearn: 0.2561165\ttotal: 1m 38s\tremaining: 2m 17s\n",
            "417:\tlearn: 0.2561049\ttotal: 1m 38s\tremaining: 2m 17s\n",
            "418:\tlearn: 0.2560966\ttotal: 1m 39s\tremaining: 2m 17s\n",
            "419:\tlearn: 0.2560845\ttotal: 1m 39s\tremaining: 2m 17s\n",
            "420:\tlearn: 0.2560735\ttotal: 1m 39s\tremaining: 2m 16s\n",
            "421:\tlearn: 0.2560688\ttotal: 1m 39s\tremaining: 2m 16s\n",
            "422:\tlearn: 0.2560645\ttotal: 1m 40s\tremaining: 2m 16s\n",
            "423:\tlearn: 0.2560542\ttotal: 1m 40s\tremaining: 2m 16s\n",
            "424:\tlearn: 0.2560459\ttotal: 1m 40s\tremaining: 2m 15s\n",
            "425:\tlearn: 0.2560305\ttotal: 1m 40s\tremaining: 2m 15s\n",
            "426:\tlearn: 0.2560237\ttotal: 1m 41s\tremaining: 2m 15s\n",
            "427:\tlearn: 0.2560168\ttotal: 1m 41s\tremaining: 2m 15s\n",
            "428:\tlearn: 0.2560122\ttotal: 1m 41s\tremaining: 2m 15s\n",
            "429:\tlearn: 0.2560018\ttotal: 1m 41s\tremaining: 2m 14s\n",
            "430:\tlearn: 0.2559911\ttotal: 1m 42s\tremaining: 2m 14s\n",
            "431:\tlearn: 0.2559844\ttotal: 1m 42s\tremaining: 2m 14s\n",
            "432:\tlearn: 0.2559738\ttotal: 1m 42s\tremaining: 2m 14s\n",
            "433:\tlearn: 0.2559571\ttotal: 1m 42s\tremaining: 2m 13s\n",
            "434:\tlearn: 0.2559483\ttotal: 1m 42s\tremaining: 2m 13s\n",
            "435:\tlearn: 0.2559390\ttotal: 1m 43s\tremaining: 2m 13s\n",
            "436:\tlearn: 0.2559289\ttotal: 1m 43s\tremaining: 2m 13s\n",
            "437:\tlearn: 0.2559208\ttotal: 1m 43s\tremaining: 2m 12s\n",
            "438:\tlearn: 0.2559074\ttotal: 1m 43s\tremaining: 2m 12s\n",
            "439:\tlearn: 0.2558969\ttotal: 1m 44s\tremaining: 2m 12s\n",
            "440:\tlearn: 0.2558875\ttotal: 1m 44s\tremaining: 2m 12s\n",
            "441:\tlearn: 0.2558778\ttotal: 1m 44s\tremaining: 2m 12s\n",
            "442:\tlearn: 0.2558697\ttotal: 1m 44s\tremaining: 2m 11s\n",
            "443:\tlearn: 0.2558588\ttotal: 1m 45s\tremaining: 2m 11s\n",
            "444:\tlearn: 0.2558486\ttotal: 1m 45s\tremaining: 2m 11s\n",
            "445:\tlearn: 0.2558414\ttotal: 1m 45s\tremaining: 2m 11s\n",
            "446:\tlearn: 0.2558322\ttotal: 1m 45s\tremaining: 2m 10s\n",
            "447:\tlearn: 0.2558217\ttotal: 1m 45s\tremaining: 2m 10s\n",
            "448:\tlearn: 0.2558128\ttotal: 1m 46s\tremaining: 2m 10s\n",
            "449:\tlearn: 0.2558037\ttotal: 1m 46s\tremaining: 2m 10s\n",
            "450:\tlearn: 0.2557930\ttotal: 1m 46s\tremaining: 2m 9s\n",
            "451:\tlearn: 0.2557866\ttotal: 1m 46s\tremaining: 2m 9s\n",
            "452:\tlearn: 0.2557788\ttotal: 1m 47s\tremaining: 2m 9s\n",
            "453:\tlearn: 0.2557711\ttotal: 1m 47s\tremaining: 2m 9s\n",
            "454:\tlearn: 0.2557680\ttotal: 1m 47s\tremaining: 2m 8s\n",
            "455:\tlearn: 0.2557580\ttotal: 1m 47s\tremaining: 2m 8s\n",
            "456:\tlearn: 0.2557507\ttotal: 1m 48s\tremaining: 2m 8s\n",
            "457:\tlearn: 0.2557411\ttotal: 1m 48s\tremaining: 2m 8s\n",
            "458:\tlearn: 0.2557274\ttotal: 1m 48s\tremaining: 2m 7s\n",
            "459:\tlearn: 0.2557187\ttotal: 1m 48s\tremaining: 2m 7s\n",
            "460:\tlearn: 0.2557086\ttotal: 1m 49s\tremaining: 2m 7s\n",
            "461:\tlearn: 0.2556977\ttotal: 1m 49s\tremaining: 2m 7s\n",
            "462:\tlearn: 0.2556877\ttotal: 1m 49s\tremaining: 2m 7s\n",
            "463:\tlearn: 0.2556790\ttotal: 1m 49s\tremaining: 2m 6s\n",
            "464:\tlearn: 0.2556688\ttotal: 1m 49s\tremaining: 2m 6s\n",
            "465:\tlearn: 0.2556542\ttotal: 1m 50s\tremaining: 2m 6s\n",
            "466:\tlearn: 0.2556431\ttotal: 1m 50s\tremaining: 2m 6s\n",
            "467:\tlearn: 0.2556400\ttotal: 1m 50s\tremaining: 2m 5s\n",
            "468:\tlearn: 0.2556300\ttotal: 1m 50s\tremaining: 2m 5s\n",
            "469:\tlearn: 0.2556206\ttotal: 1m 51s\tremaining: 2m 5s\n",
            "470:\tlearn: 0.2556097\ttotal: 1m 51s\tremaining: 2m 5s\n",
            "471:\tlearn: 0.2556017\ttotal: 1m 51s\tremaining: 2m 4s\n",
            "472:\tlearn: 0.2555956\ttotal: 1m 51s\tremaining: 2m 4s\n",
            "473:\tlearn: 0.2555826\ttotal: 1m 52s\tremaining: 2m 4s\n",
            "474:\tlearn: 0.2555763\ttotal: 1m 52s\tremaining: 2m 4s\n",
            "475:\tlearn: 0.2555670\ttotal: 1m 52s\tremaining: 2m 4s\n",
            "476:\tlearn: 0.2555615\ttotal: 1m 52s\tremaining: 2m 3s\n",
            "477:\tlearn: 0.2555554\ttotal: 1m 53s\tremaining: 2m 3s\n",
            "478:\tlearn: 0.2555447\ttotal: 1m 53s\tremaining: 2m 3s\n",
            "479:\tlearn: 0.2555387\ttotal: 1m 53s\tremaining: 2m 3s\n",
            "480:\tlearn: 0.2555278\ttotal: 1m 53s\tremaining: 2m 2s\n",
            "481:\tlearn: 0.2555124\ttotal: 1m 54s\tremaining: 2m 2s\n",
            "482:\tlearn: 0.2555049\ttotal: 1m 54s\tremaining: 2m 2s\n",
            "483:\tlearn: 0.2554954\ttotal: 1m 54s\tremaining: 2m 2s\n",
            "484:\tlearn: 0.2554859\ttotal: 1m 54s\tremaining: 2m 1s\n",
            "485:\tlearn: 0.2554769\ttotal: 1m 55s\tremaining: 2m 1s\n",
            "486:\tlearn: 0.2554635\ttotal: 1m 55s\tremaining: 2m 1s\n",
            "487:\tlearn: 0.2554533\ttotal: 1m 55s\tremaining: 2m 1s\n",
            "488:\tlearn: 0.2554407\ttotal: 1m 55s\tremaining: 2m\n",
            "489:\tlearn: 0.2554329\ttotal: 1m 56s\tremaining: 2m\n",
            "490:\tlearn: 0.2554193\ttotal: 1m 56s\tremaining: 2m\n",
            "491:\tlearn: 0.2554060\ttotal: 1m 56s\tremaining: 2m\n",
            "492:\tlearn: 0.2553964\ttotal: 1m 56s\tremaining: 2m\n",
            "493:\tlearn: 0.2553859\ttotal: 1m 56s\tremaining: 1m 59s\n",
            "494:\tlearn: 0.2553709\ttotal: 1m 57s\tremaining: 1m 59s\n",
            "495:\tlearn: 0.2553573\ttotal: 1m 57s\tremaining: 1m 59s\n",
            "496:\tlearn: 0.2553462\ttotal: 1m 57s\tremaining: 1m 59s\n",
            "497:\tlearn: 0.2553365\ttotal: 1m 57s\tremaining: 1m 58s\n",
            "498:\tlearn: 0.2553262\ttotal: 1m 58s\tremaining: 1m 58s\n",
            "499:\tlearn: 0.2553150\ttotal: 1m 58s\tremaining: 1m 58s\n",
            "500:\tlearn: 0.2553095\ttotal: 1m 58s\tremaining: 1m 58s\n",
            "501:\tlearn: 0.2552964\ttotal: 1m 58s\tremaining: 1m 57s\n",
            "502:\tlearn: 0.2552909\ttotal: 1m 59s\tremaining: 1m 57s\n",
            "503:\tlearn: 0.2552781\ttotal: 1m 59s\tremaining: 1m 57s\n",
            "504:\tlearn: 0.2552683\ttotal: 1m 59s\tremaining: 1m 57s\n",
            "505:\tlearn: 0.2552596\ttotal: 1m 59s\tremaining: 1m 57s\n",
            "506:\tlearn: 0.2552453\ttotal: 2m\tremaining: 1m 56s\n",
            "507:\tlearn: 0.2552338\ttotal: 2m\tremaining: 1m 56s\n",
            "508:\tlearn: 0.2552215\ttotal: 2m\tremaining: 1m 56s\n",
            "509:\tlearn: 0.2552076\ttotal: 2m\tremaining: 1m 56s\n",
            "510:\tlearn: 0.2551961\ttotal: 2m 1s\tremaining: 1m 55s\n",
            "511:\tlearn: 0.2551902\ttotal: 2m 1s\tremaining: 1m 55s\n",
            "512:\tlearn: 0.2551834\ttotal: 2m 1s\tremaining: 1m 55s\n",
            "513:\tlearn: 0.2551723\ttotal: 2m 1s\tremaining: 1m 55s\n",
            "514:\tlearn: 0.2551611\ttotal: 2m 1s\tremaining: 1m 54s\n",
            "515:\tlearn: 0.2551511\ttotal: 2m 2s\tremaining: 1m 54s\n",
            "516:\tlearn: 0.2551448\ttotal: 2m 2s\tremaining: 1m 54s\n",
            "517:\tlearn: 0.2551306\ttotal: 2m 2s\tremaining: 1m 54s\n",
            "518:\tlearn: 0.2551253\ttotal: 2m 2s\tremaining: 1m 53s\n",
            "519:\tlearn: 0.2551115\ttotal: 2m 3s\tremaining: 1m 53s\n",
            "520:\tlearn: 0.2551032\ttotal: 2m 3s\tremaining: 1m 53s\n",
            "521:\tlearn: 0.2550889\ttotal: 2m 3s\tremaining: 1m 53s\n",
            "522:\tlearn: 0.2550816\ttotal: 2m 3s\tremaining: 1m 52s\n",
            "523:\tlearn: 0.2550727\ttotal: 2m 4s\tremaining: 1m 52s\n",
            "524:\tlearn: 0.2550562\ttotal: 2m 4s\tremaining: 1m 52s\n",
            "525:\tlearn: 0.2550418\ttotal: 2m 4s\tremaining: 1m 52s\n",
            "526:\tlearn: 0.2550309\ttotal: 2m 4s\tremaining: 1m 52s\n",
            "527:\tlearn: 0.2550223\ttotal: 2m 5s\tremaining: 1m 51s\n",
            "528:\tlearn: 0.2550125\ttotal: 2m 5s\tremaining: 1m 51s\n",
            "529:\tlearn: 0.2550010\ttotal: 2m 5s\tremaining: 1m 51s\n",
            "530:\tlearn: 0.2549893\ttotal: 2m 5s\tremaining: 1m 51s\n",
            "531:\tlearn: 0.2549819\ttotal: 2m 5s\tremaining: 1m 50s\n",
            "532:\tlearn: 0.2549703\ttotal: 2m 6s\tremaining: 1m 50s\n",
            "533:\tlearn: 0.2549616\ttotal: 2m 6s\tremaining: 1m 50s\n",
            "534:\tlearn: 0.2549536\ttotal: 2m 6s\tremaining: 1m 50s\n",
            "535:\tlearn: 0.2549413\ttotal: 2m 6s\tremaining: 1m 49s\n",
            "536:\tlearn: 0.2549298\ttotal: 2m 7s\tremaining: 1m 49s\n",
            "537:\tlearn: 0.2549209\ttotal: 2m 7s\tremaining: 1m 49s\n",
            "538:\tlearn: 0.2549095\ttotal: 2m 7s\tremaining: 1m 49s\n",
            "539:\tlearn: 0.2548960\ttotal: 2m 7s\tremaining: 1m 48s\n",
            "540:\tlearn: 0.2548873\ttotal: 2m 8s\tremaining: 1m 48s\n",
            "541:\tlearn: 0.2548768\ttotal: 2m 8s\tremaining: 1m 48s\n",
            "542:\tlearn: 0.2548665\ttotal: 2m 8s\tremaining: 1m 48s\n",
            "543:\tlearn: 0.2548615\ttotal: 2m 8s\tremaining: 1m 47s\n",
            "544:\tlearn: 0.2548526\ttotal: 2m 9s\tremaining: 1m 47s\n",
            "545:\tlearn: 0.2548401\ttotal: 2m 9s\tremaining: 1m 47s\n",
            "546:\tlearn: 0.2548267\ttotal: 2m 9s\tremaining: 1m 47s\n",
            "547:\tlearn: 0.2548198\ttotal: 2m 9s\tremaining: 1m 47s\n",
            "548:\tlearn: 0.2548132\ttotal: 2m 9s\tremaining: 1m 46s\n",
            "549:\tlearn: 0.2548029\ttotal: 2m 10s\tremaining: 1m 46s\n",
            "550:\tlearn: 0.2547940\ttotal: 2m 10s\tremaining: 1m 46s\n",
            "551:\tlearn: 0.2547868\ttotal: 2m 10s\tremaining: 1m 46s\n",
            "552:\tlearn: 0.2547819\ttotal: 2m 10s\tremaining: 1m 45s\n",
            "553:\tlearn: 0.2547714\ttotal: 2m 11s\tremaining: 1m 45s\n",
            "554:\tlearn: 0.2547664\ttotal: 2m 11s\tremaining: 1m 45s\n",
            "555:\tlearn: 0.2547589\ttotal: 2m 11s\tremaining: 1m 45s\n",
            "556:\tlearn: 0.2547484\ttotal: 2m 11s\tremaining: 1m 44s\n",
            "557:\tlearn: 0.2547414\ttotal: 2m 12s\tremaining: 1m 44s\n",
            "558:\tlearn: 0.2547370\ttotal: 2m 12s\tremaining: 1m 44s\n",
            "559:\tlearn: 0.2547304\ttotal: 2m 12s\tremaining: 1m 44s\n",
            "560:\tlearn: 0.2547212\ttotal: 2m 12s\tremaining: 1m 43s\n",
            "561:\tlearn: 0.2547119\ttotal: 2m 12s\tremaining: 1m 43s\n",
            "562:\tlearn: 0.2547046\ttotal: 2m 13s\tremaining: 1m 43s\n",
            "563:\tlearn: 0.2546962\ttotal: 2m 13s\tremaining: 1m 43s\n",
            "564:\tlearn: 0.2546833\ttotal: 2m 13s\tremaining: 1m 42s\n",
            "565:\tlearn: 0.2546773\ttotal: 2m 13s\tremaining: 1m 42s\n",
            "566:\tlearn: 0.2546701\ttotal: 2m 14s\tremaining: 1m 42s\n",
            "567:\tlearn: 0.2546619\ttotal: 2m 14s\tremaining: 1m 42s\n",
            "568:\tlearn: 0.2546516\ttotal: 2m 14s\tremaining: 1m 41s\n",
            "569:\tlearn: 0.2546401\ttotal: 2m 14s\tremaining: 1m 41s\n",
            "570:\tlearn: 0.2546328\ttotal: 2m 15s\tremaining: 1m 41s\n",
            "571:\tlearn: 0.2546210\ttotal: 2m 15s\tremaining: 1m 41s\n",
            "572:\tlearn: 0.2546090\ttotal: 2m 15s\tremaining: 1m 41s\n",
            "573:\tlearn: 0.2546025\ttotal: 2m 15s\tremaining: 1m 40s\n",
            "574:\tlearn: 0.2545964\ttotal: 2m 16s\tremaining: 1m 40s\n",
            "575:\tlearn: 0.2545860\ttotal: 2m 16s\tremaining: 1m 40s\n",
            "576:\tlearn: 0.2545810\ttotal: 2m 16s\tremaining: 1m 40s\n",
            "577:\tlearn: 0.2545684\ttotal: 2m 16s\tremaining: 1m 39s\n",
            "578:\tlearn: 0.2545558\ttotal: 2m 16s\tremaining: 1m 39s\n",
            "579:\tlearn: 0.2545469\ttotal: 2m 17s\tremaining: 1m 39s\n",
            "580:\tlearn: 0.2545365\ttotal: 2m 17s\tremaining: 1m 39s\n",
            "581:\tlearn: 0.2545231\ttotal: 2m 17s\tremaining: 1m 38s\n",
            "582:\tlearn: 0.2545149\ttotal: 2m 17s\tremaining: 1m 38s\n",
            "583:\tlearn: 0.2545044\ttotal: 2m 18s\tremaining: 1m 38s\n",
            "584:\tlearn: 0.2544942\ttotal: 2m 18s\tremaining: 1m 38s\n",
            "585:\tlearn: 0.2544840\ttotal: 2m 18s\tremaining: 1m 37s\n",
            "586:\tlearn: 0.2544765\ttotal: 2m 18s\tremaining: 1m 37s\n",
            "587:\tlearn: 0.2544710\ttotal: 2m 19s\tremaining: 1m 37s\n",
            "588:\tlearn: 0.2544624\ttotal: 2m 19s\tremaining: 1m 37s\n",
            "589:\tlearn: 0.2544548\ttotal: 2m 19s\tremaining: 1m 36s\n",
            "590:\tlearn: 0.2544424\ttotal: 2m 19s\tremaining: 1m 36s\n",
            "591:\tlearn: 0.2544393\ttotal: 2m 20s\tremaining: 1m 36s\n",
            "592:\tlearn: 0.2544350\ttotal: 2m 20s\tremaining: 1m 36s\n",
            "593:\tlearn: 0.2544258\ttotal: 2m 20s\tremaining: 1m 36s\n",
            "594:\tlearn: 0.2544192\ttotal: 2m 20s\tremaining: 1m 35s\n",
            "595:\tlearn: 0.2544086\ttotal: 2m 20s\tremaining: 1m 35s\n",
            "596:\tlearn: 0.2544006\ttotal: 2m 21s\tremaining: 1m 35s\n",
            "597:\tlearn: 0.2543850\ttotal: 2m 21s\tremaining: 1m 35s\n",
            "598:\tlearn: 0.2543731\ttotal: 2m 21s\tremaining: 1m 34s\n",
            "599:\tlearn: 0.2543629\ttotal: 2m 21s\tremaining: 1m 34s\n",
            "600:\tlearn: 0.2543494\ttotal: 2m 22s\tremaining: 1m 34s\n",
            "601:\tlearn: 0.2543398\ttotal: 2m 22s\tremaining: 1m 34s\n",
            "602:\tlearn: 0.2543332\ttotal: 2m 22s\tremaining: 1m 33s\n",
            "603:\tlearn: 0.2543199\ttotal: 2m 22s\tremaining: 1m 33s\n",
            "604:\tlearn: 0.2543102\ttotal: 2m 23s\tremaining: 1m 33s\n",
            "605:\tlearn: 0.2543025\ttotal: 2m 23s\tremaining: 1m 33s\n",
            "606:\tlearn: 0.2542901\ttotal: 2m 23s\tremaining: 1m 32s\n",
            "607:\tlearn: 0.2542835\ttotal: 2m 23s\tremaining: 1m 32s\n",
            "608:\tlearn: 0.2542736\ttotal: 2m 23s\tremaining: 1m 32s\n",
            "609:\tlearn: 0.2542654\ttotal: 2m 24s\tremaining: 1m 32s\n",
            "610:\tlearn: 0.2542559\ttotal: 2m 24s\tremaining: 1m 31s\n",
            "611:\tlearn: 0.2542468\ttotal: 2m 24s\tremaining: 1m 31s\n",
            "612:\tlearn: 0.2542373\ttotal: 2m 24s\tremaining: 1m 31s\n",
            "613:\tlearn: 0.2542294\ttotal: 2m 25s\tremaining: 1m 31s\n",
            "614:\tlearn: 0.2542173\ttotal: 2m 25s\tremaining: 1m 30s\n",
            "615:\tlearn: 0.2542070\ttotal: 2m 25s\tremaining: 1m 30s\n",
            "616:\tlearn: 0.2541965\ttotal: 2m 25s\tremaining: 1m 30s\n",
            "617:\tlearn: 0.2541861\ttotal: 2m 26s\tremaining: 1m 30s\n",
            "618:\tlearn: 0.2541772\ttotal: 2m 26s\tremaining: 1m 30s\n",
            "619:\tlearn: 0.2541636\ttotal: 2m 26s\tremaining: 1m 29s\n",
            "620:\tlearn: 0.2541515\ttotal: 2m 26s\tremaining: 1m 29s\n",
            "621:\tlearn: 0.2541375\ttotal: 2m 26s\tremaining: 1m 29s\n",
            "622:\tlearn: 0.2541292\ttotal: 2m 27s\tremaining: 1m 29s\n",
            "623:\tlearn: 0.2541204\ttotal: 2m 27s\tremaining: 1m 28s\n",
            "624:\tlearn: 0.2541104\ttotal: 2m 27s\tremaining: 1m 28s\n",
            "625:\tlearn: 0.2540999\ttotal: 2m 27s\tremaining: 1m 28s\n",
            "626:\tlearn: 0.2540927\ttotal: 2m 28s\tremaining: 1m 28s\n",
            "627:\tlearn: 0.2540836\ttotal: 2m 28s\tremaining: 1m 27s\n",
            "628:\tlearn: 0.2540752\ttotal: 2m 28s\tremaining: 1m 27s\n",
            "629:\tlearn: 0.2540603\ttotal: 2m 28s\tremaining: 1m 27s\n",
            "630:\tlearn: 0.2540531\ttotal: 2m 29s\tremaining: 1m 27s\n",
            "631:\tlearn: 0.2540438\ttotal: 2m 29s\tremaining: 1m 26s\n",
            "632:\tlearn: 0.2540322\ttotal: 2m 29s\tremaining: 1m 26s\n",
            "633:\tlearn: 0.2540205\ttotal: 2m 29s\tremaining: 1m 26s\n",
            "634:\tlearn: 0.2540131\ttotal: 2m 30s\tremaining: 1m 26s\n",
            "635:\tlearn: 0.2540092\ttotal: 2m 30s\tremaining: 1m 26s\n",
            "636:\tlearn: 0.2540005\ttotal: 2m 30s\tremaining: 1m 25s\n",
            "637:\tlearn: 0.2539943\ttotal: 2m 30s\tremaining: 1m 25s\n",
            "638:\tlearn: 0.2539868\ttotal: 2m 30s\tremaining: 1m 25s\n",
            "639:\tlearn: 0.2539791\ttotal: 2m 31s\tremaining: 1m 25s\n",
            "640:\tlearn: 0.2539687\ttotal: 2m 31s\tremaining: 1m 24s\n",
            "641:\tlearn: 0.2539576\ttotal: 2m 31s\tremaining: 1m 24s\n",
            "642:\tlearn: 0.2539498\ttotal: 2m 31s\tremaining: 1m 24s\n",
            "643:\tlearn: 0.2539404\ttotal: 2m 32s\tremaining: 1m 24s\n",
            "644:\tlearn: 0.2539317\ttotal: 2m 32s\tremaining: 1m 23s\n",
            "645:\tlearn: 0.2539271\ttotal: 2m 32s\tremaining: 1m 23s\n",
            "646:\tlearn: 0.2539207\ttotal: 2m 32s\tremaining: 1m 23s\n",
            "647:\tlearn: 0.2539158\ttotal: 2m 33s\tremaining: 1m 23s\n",
            "648:\tlearn: 0.2539084\ttotal: 2m 33s\tremaining: 1m 22s\n",
            "649:\tlearn: 0.2539054\ttotal: 2m 33s\tremaining: 1m 22s\n",
            "650:\tlearn: 0.2538962\ttotal: 2m 33s\tremaining: 1m 22s\n",
            "651:\tlearn: 0.2538863\ttotal: 2m 33s\tremaining: 1m 22s\n",
            "652:\tlearn: 0.2538787\ttotal: 2m 34s\tremaining: 1m 21s\n",
            "653:\tlearn: 0.2538708\ttotal: 2m 34s\tremaining: 1m 21s\n",
            "654:\tlearn: 0.2538605\ttotal: 2m 34s\tremaining: 1m 21s\n",
            "655:\tlearn: 0.2538559\ttotal: 2m 34s\tremaining: 1m 21s\n",
            "656:\tlearn: 0.2538500\ttotal: 2m 35s\tremaining: 1m 21s\n",
            "657:\tlearn: 0.2538389\ttotal: 2m 35s\tremaining: 1m 20s\n",
            "658:\tlearn: 0.2538287\ttotal: 2m 35s\tremaining: 1m 20s\n",
            "659:\tlearn: 0.2538215\ttotal: 2m 35s\tremaining: 1m 20s\n",
            "660:\tlearn: 0.2538137\ttotal: 2m 36s\tremaining: 1m 20s\n",
            "661:\tlearn: 0.2538033\ttotal: 2m 36s\tremaining: 1m 19s\n",
            "662:\tlearn: 0.2537903\ttotal: 2m 36s\tremaining: 1m 19s\n",
            "663:\tlearn: 0.2537826\ttotal: 2m 36s\tremaining: 1m 19s\n",
            "664:\tlearn: 0.2537769\ttotal: 2m 36s\tremaining: 1m 19s\n",
            "665:\tlearn: 0.2537687\ttotal: 2m 37s\tremaining: 1m 18s\n",
            "666:\tlearn: 0.2537602\ttotal: 2m 37s\tremaining: 1m 18s\n",
            "667:\tlearn: 0.2537518\ttotal: 2m 37s\tremaining: 1m 18s\n",
            "668:\tlearn: 0.2537443\ttotal: 2m 37s\tremaining: 1m 18s\n",
            "669:\tlearn: 0.2537336\ttotal: 2m 38s\tremaining: 1m 17s\n",
            "670:\tlearn: 0.2537225\ttotal: 2m 38s\tremaining: 1m 17s\n",
            "671:\tlearn: 0.2537158\ttotal: 2m 38s\tremaining: 1m 17s\n",
            "672:\tlearn: 0.2537055\ttotal: 2m 38s\tremaining: 1m 17s\n",
            "673:\tlearn: 0.2536969\ttotal: 2m 39s\tremaining: 1m 16s\n",
            "674:\tlearn: 0.2536840\ttotal: 2m 39s\tremaining: 1m 16s\n",
            "675:\tlearn: 0.2536727\ttotal: 2m 39s\tremaining: 1m 16s\n",
            "676:\tlearn: 0.2536669\ttotal: 2m 39s\tremaining: 1m 16s\n",
            "677:\tlearn: 0.2536590\ttotal: 2m 39s\tremaining: 1m 15s\n",
            "678:\tlearn: 0.2536517\ttotal: 2m 40s\tremaining: 1m 15s\n",
            "679:\tlearn: 0.2536462\ttotal: 2m 40s\tremaining: 1m 15s\n",
            "680:\tlearn: 0.2536394\ttotal: 2m 40s\tremaining: 1m 15s\n",
            "681:\tlearn: 0.2536354\ttotal: 2m 40s\tremaining: 1m 15s\n",
            "682:\tlearn: 0.2536244\ttotal: 2m 41s\tremaining: 1m 14s\n",
            "683:\tlearn: 0.2536132\ttotal: 2m 41s\tremaining: 1m 14s\n",
            "684:\tlearn: 0.2536033\ttotal: 2m 41s\tremaining: 1m 14s\n",
            "685:\tlearn: 0.2535917\ttotal: 2m 41s\tremaining: 1m 14s\n",
            "686:\tlearn: 0.2535810\ttotal: 2m 42s\tremaining: 1m 13s\n",
            "687:\tlearn: 0.2535721\ttotal: 2m 42s\tremaining: 1m 13s\n",
            "688:\tlearn: 0.2535660\ttotal: 2m 42s\tremaining: 1m 13s\n",
            "689:\tlearn: 0.2535549\ttotal: 2m 42s\tremaining: 1m 13s\n",
            "690:\tlearn: 0.2535460\ttotal: 2m 42s\tremaining: 1m 12s\n",
            "691:\tlearn: 0.2535395\ttotal: 2m 43s\tremaining: 1m 12s\n",
            "692:\tlearn: 0.2535320\ttotal: 2m 43s\tremaining: 1m 12s\n",
            "693:\tlearn: 0.2535245\ttotal: 2m 43s\tremaining: 1m 12s\n",
            "694:\tlearn: 0.2535091\ttotal: 2m 43s\tremaining: 1m 11s\n",
            "695:\tlearn: 0.2534995\ttotal: 2m 44s\tremaining: 1m 11s\n",
            "696:\tlearn: 0.2534939\ttotal: 2m 44s\tremaining: 1m 11s\n",
            "697:\tlearn: 0.2534851\ttotal: 2m 44s\tremaining: 1m 11s\n",
            "698:\tlearn: 0.2534754\ttotal: 2m 44s\tremaining: 1m 10s\n",
            "699:\tlearn: 0.2534698\ttotal: 2m 45s\tremaining: 1m 10s\n",
            "700:\tlearn: 0.2534602\ttotal: 2m 45s\tremaining: 1m 10s\n",
            "701:\tlearn: 0.2534444\ttotal: 2m 45s\tremaining: 1m 10s\n",
            "702:\tlearn: 0.2534348\ttotal: 2m 45s\tremaining: 1m 10s\n",
            "703:\tlearn: 0.2534273\ttotal: 2m 46s\tremaining: 1m 9s\n",
            "704:\tlearn: 0.2534224\ttotal: 2m 46s\tremaining: 1m 9s\n",
            "705:\tlearn: 0.2534147\ttotal: 2m 46s\tremaining: 1m 9s\n",
            "706:\tlearn: 0.2534088\ttotal: 2m 46s\tremaining: 1m 9s\n",
            "707:\tlearn: 0.2533995\ttotal: 2m 46s\tremaining: 1m 8s\n",
            "708:\tlearn: 0.2533906\ttotal: 2m 47s\tremaining: 1m 8s\n",
            "709:\tlearn: 0.2533825\ttotal: 2m 47s\tremaining: 1m 8s\n",
            "710:\tlearn: 0.2533749\ttotal: 2m 47s\tremaining: 1m 8s\n",
            "711:\tlearn: 0.2533682\ttotal: 2m 47s\tremaining: 1m 7s\n",
            "712:\tlearn: 0.2533565\ttotal: 2m 48s\tremaining: 1m 7s\n",
            "713:\tlearn: 0.2533483\ttotal: 2m 48s\tremaining: 1m 7s\n",
            "714:\tlearn: 0.2533407\ttotal: 2m 48s\tremaining: 1m 7s\n",
            "715:\tlearn: 0.2533329\ttotal: 2m 48s\tremaining: 1m 6s\n",
            "716:\tlearn: 0.2533284\ttotal: 2m 48s\tremaining: 1m 6s\n",
            "717:\tlearn: 0.2533196\ttotal: 2m 49s\tremaining: 1m 6s\n",
            "718:\tlearn: 0.2533131\ttotal: 2m 49s\tremaining: 1m 6s\n",
            "719:\tlearn: 0.2533030\ttotal: 2m 49s\tremaining: 1m 5s\n",
            "720:\tlearn: 0.2532923\ttotal: 2m 49s\tremaining: 1m 5s\n",
            "721:\tlearn: 0.2532848\ttotal: 2m 50s\tremaining: 1m 5s\n",
            "722:\tlearn: 0.2532780\ttotal: 2m 50s\tremaining: 1m 5s\n",
            "723:\tlearn: 0.2532741\ttotal: 2m 50s\tremaining: 1m 5s\n",
            "724:\tlearn: 0.2532634\ttotal: 2m 50s\tremaining: 1m 4s\n",
            "725:\tlearn: 0.2532559\ttotal: 2m 51s\tremaining: 1m 4s\n",
            "726:\tlearn: 0.2532481\ttotal: 2m 51s\tremaining: 1m 4s\n",
            "727:\tlearn: 0.2532404\ttotal: 2m 51s\tremaining: 1m 4s\n",
            "728:\tlearn: 0.2532285\ttotal: 2m 51s\tremaining: 1m 3s\n",
            "729:\tlearn: 0.2532210\ttotal: 2m 51s\tremaining: 1m 3s\n",
            "730:\tlearn: 0.2532132\ttotal: 2m 52s\tremaining: 1m 3s\n",
            "731:\tlearn: 0.2532062\ttotal: 2m 52s\tremaining: 1m 3s\n",
            "732:\tlearn: 0.2531918\ttotal: 2m 52s\tremaining: 1m 2s\n",
            "733:\tlearn: 0.2531833\ttotal: 2m 52s\tremaining: 1m 2s\n",
            "734:\tlearn: 0.2531731\ttotal: 2m 53s\tremaining: 1m 2s\n",
            "735:\tlearn: 0.2531589\ttotal: 2m 53s\tremaining: 1m 2s\n",
            "736:\tlearn: 0.2531542\ttotal: 2m 53s\tremaining: 1m 1s\n",
            "737:\tlearn: 0.2531468\ttotal: 2m 53s\tremaining: 1m 1s\n",
            "738:\tlearn: 0.2531362\ttotal: 2m 54s\tremaining: 1m 1s\n",
            "739:\tlearn: 0.2531239\ttotal: 2m 54s\tremaining: 1m 1s\n",
            "740:\tlearn: 0.2531136\ttotal: 2m 54s\tremaining: 1m 1s\n",
            "741:\tlearn: 0.2531068\ttotal: 2m 54s\tremaining: 1m\n",
            "742:\tlearn: 0.2530966\ttotal: 2m 55s\tremaining: 1m\n",
            "743:\tlearn: 0.2530856\ttotal: 2m 55s\tremaining: 1m\n",
            "744:\tlearn: 0.2530793\ttotal: 2m 55s\tremaining: 1m\n",
            "745:\tlearn: 0.2530728\ttotal: 2m 55s\tremaining: 59.8s\n",
            "746:\tlearn: 0.2530600\ttotal: 2m 55s\tremaining: 59.6s\n",
            "747:\tlearn: 0.2530497\ttotal: 2m 56s\tremaining: 59.3s\n",
            "748:\tlearn: 0.2530434\ttotal: 2m 56s\tremaining: 59.1s\n",
            "749:\tlearn: 0.2530384\ttotal: 2m 56s\tremaining: 58.9s\n",
            "750:\tlearn: 0.2530275\ttotal: 2m 56s\tremaining: 58.6s\n",
            "751:\tlearn: 0.2530184\ttotal: 2m 57s\tremaining: 58.4s\n",
            "752:\tlearn: 0.2530108\ttotal: 2m 57s\tremaining: 58.2s\n",
            "753:\tlearn: 0.2530048\ttotal: 2m 57s\tremaining: 57.9s\n",
            "754:\tlearn: 0.2529964\ttotal: 2m 57s\tremaining: 57.7s\n",
            "755:\tlearn: 0.2529887\ttotal: 2m 58s\tremaining: 57.5s\n",
            "756:\tlearn: 0.2529763\ttotal: 2m 58s\tremaining: 57.2s\n",
            "757:\tlearn: 0.2529669\ttotal: 2m 58s\tremaining: 57s\n",
            "758:\tlearn: 0.2529567\ttotal: 2m 58s\tremaining: 56.7s\n",
            "759:\tlearn: 0.2529445\ttotal: 2m 58s\tremaining: 56.5s\n",
            "760:\tlearn: 0.2529365\ttotal: 2m 59s\tremaining: 56.3s\n",
            "761:\tlearn: 0.2529261\ttotal: 2m 59s\tremaining: 56s\n",
            "762:\tlearn: 0.2529143\ttotal: 2m 59s\tremaining: 55.8s\n",
            "763:\tlearn: 0.2528996\ttotal: 2m 59s\tremaining: 55.6s\n",
            "764:\tlearn: 0.2528883\ttotal: 3m\tremaining: 55.3s\n",
            "765:\tlearn: 0.2528783\ttotal: 3m\tremaining: 55.1s\n",
            "766:\tlearn: 0.2528698\ttotal: 3m\tremaining: 54.8s\n",
            "767:\tlearn: 0.2528588\ttotal: 3m\tremaining: 54.6s\n",
            "768:\tlearn: 0.2528539\ttotal: 3m\tremaining: 54.4s\n",
            "769:\tlearn: 0.2528436\ttotal: 3m 1s\tremaining: 54.1s\n",
            "770:\tlearn: 0.2528340\ttotal: 3m 1s\tremaining: 53.9s\n",
            "771:\tlearn: 0.2528262\ttotal: 3m 1s\tremaining: 53.7s\n",
            "772:\tlearn: 0.2528161\ttotal: 3m 1s\tremaining: 53.4s\n",
            "773:\tlearn: 0.2528084\ttotal: 3m 2s\tremaining: 53.2s\n",
            "774:\tlearn: 0.2527999\ttotal: 3m 2s\tremaining: 53s\n",
            "775:\tlearn: 0.2527958\ttotal: 3m 2s\tremaining: 52.7s\n",
            "776:\tlearn: 0.2527879\ttotal: 3m 2s\tremaining: 52.5s\n",
            "777:\tlearn: 0.2527813\ttotal: 3m 3s\tremaining: 52.3s\n",
            "778:\tlearn: 0.2527725\ttotal: 3m 3s\tremaining: 52s\n",
            "779:\tlearn: 0.2527659\ttotal: 3m 3s\tremaining: 51.8s\n",
            "780:\tlearn: 0.2527575\ttotal: 3m 3s\tremaining: 51.5s\n",
            "781:\tlearn: 0.2527472\ttotal: 3m 4s\tremaining: 51.3s\n",
            "782:\tlearn: 0.2527387\ttotal: 3m 4s\tremaining: 51.1s\n",
            "783:\tlearn: 0.2527303\ttotal: 3m 4s\tremaining: 50.8s\n",
            "784:\tlearn: 0.2527199\ttotal: 3m 4s\tremaining: 50.6s\n",
            "785:\tlearn: 0.2527090\ttotal: 3m 4s\tremaining: 50.4s\n",
            "786:\tlearn: 0.2526992\ttotal: 3m 5s\tremaining: 50.1s\n",
            "787:\tlearn: 0.2526931\ttotal: 3m 5s\tremaining: 49.9s\n",
            "788:\tlearn: 0.2526841\ttotal: 3m 5s\tremaining: 49.7s\n",
            "789:\tlearn: 0.2526724\ttotal: 3m 5s\tremaining: 49.4s\n",
            "790:\tlearn: 0.2526674\ttotal: 3m 6s\tremaining: 49.2s\n",
            "791:\tlearn: 0.2526607\ttotal: 3m 6s\tremaining: 49s\n",
            "792:\tlearn: 0.2526559\ttotal: 3m 6s\tremaining: 48.7s\n",
            "793:\tlearn: 0.2526507\ttotal: 3m 6s\tremaining: 48.5s\n",
            "794:\tlearn: 0.2526465\ttotal: 3m 7s\tremaining: 48.2s\n",
            "795:\tlearn: 0.2526408\ttotal: 3m 7s\tremaining: 48s\n",
            "796:\tlearn: 0.2526348\ttotal: 3m 7s\tremaining: 47.8s\n",
            "797:\tlearn: 0.2526308\ttotal: 3m 7s\tremaining: 47.5s\n",
            "798:\tlearn: 0.2526234\ttotal: 3m 8s\tremaining: 47.3s\n",
            "799:\tlearn: 0.2526130\ttotal: 3m 8s\tremaining: 47.1s\n",
            "800:\tlearn: 0.2526033\ttotal: 3m 8s\tremaining: 46.8s\n",
            "801:\tlearn: 0.2525928\ttotal: 3m 8s\tremaining: 46.6s\n",
            "802:\tlearn: 0.2525828\ttotal: 3m 8s\tremaining: 46.4s\n",
            "803:\tlearn: 0.2525770\ttotal: 3m 9s\tremaining: 46.1s\n",
            "804:\tlearn: 0.2525650\ttotal: 3m 9s\tremaining: 45.9s\n",
            "805:\tlearn: 0.2525525\ttotal: 3m 9s\tremaining: 45.7s\n",
            "806:\tlearn: 0.2525429\ttotal: 3m 9s\tremaining: 45.4s\n",
            "807:\tlearn: 0.2525345\ttotal: 3m 10s\tremaining: 45.2s\n",
            "808:\tlearn: 0.2525234\ttotal: 3m 10s\tremaining: 44.9s\n",
            "809:\tlearn: 0.2525137\ttotal: 3m 10s\tremaining: 44.7s\n",
            "810:\tlearn: 0.2525091\ttotal: 3m 10s\tremaining: 44.5s\n",
            "811:\tlearn: 0.2525042\ttotal: 3m 11s\tremaining: 44.2s\n",
            "812:\tlearn: 0.2524899\ttotal: 3m 11s\tremaining: 44s\n",
            "813:\tlearn: 0.2524844\ttotal: 3m 11s\tremaining: 43.8s\n",
            "814:\tlearn: 0.2524757\ttotal: 3m 11s\tremaining: 43.5s\n",
            "815:\tlearn: 0.2524681\ttotal: 3m 11s\tremaining: 43.3s\n",
            "816:\tlearn: 0.2524605\ttotal: 3m 12s\tremaining: 43.1s\n",
            "817:\tlearn: 0.2524507\ttotal: 3m 12s\tremaining: 42.8s\n",
            "818:\tlearn: 0.2524434\ttotal: 3m 12s\tremaining: 42.6s\n",
            "819:\tlearn: 0.2524374\ttotal: 3m 12s\tremaining: 42.3s\n",
            "820:\tlearn: 0.2524265\ttotal: 3m 13s\tremaining: 42.1s\n",
            "821:\tlearn: 0.2524174\ttotal: 3m 13s\tremaining: 41.9s\n",
            "822:\tlearn: 0.2524075\ttotal: 3m 13s\tremaining: 41.6s\n",
            "823:\tlearn: 0.2524005\ttotal: 3m 13s\tremaining: 41.4s\n",
            "824:\tlearn: 0.2523968\ttotal: 3m 14s\tremaining: 41.2s\n",
            "825:\tlearn: 0.2523839\ttotal: 3m 14s\tremaining: 40.9s\n",
            "826:\tlearn: 0.2523782\ttotal: 3m 14s\tremaining: 40.7s\n",
            "827:\tlearn: 0.2523703\ttotal: 3m 14s\tremaining: 40.5s\n",
            "828:\tlearn: 0.2523619\ttotal: 3m 15s\tremaining: 40.2s\n",
            "829:\tlearn: 0.2523480\ttotal: 3m 15s\tremaining: 40s\n",
            "830:\tlearn: 0.2523380\ttotal: 3m 15s\tremaining: 39.8s\n",
            "831:\tlearn: 0.2523291\ttotal: 3m 15s\tremaining: 39.5s\n",
            "832:\tlearn: 0.2523195\ttotal: 3m 16s\tremaining: 39.3s\n",
            "833:\tlearn: 0.2523113\ttotal: 3m 16s\tremaining: 39.1s\n",
            "834:\tlearn: 0.2523083\ttotal: 3m 16s\tremaining: 38.8s\n",
            "835:\tlearn: 0.2522994\ttotal: 3m 16s\tremaining: 38.6s\n",
            "836:\tlearn: 0.2522898\ttotal: 3m 16s\tremaining: 38.4s\n",
            "837:\tlearn: 0.2522845\ttotal: 3m 17s\tremaining: 38.1s\n",
            "838:\tlearn: 0.2522787\ttotal: 3m 17s\tremaining: 37.9s\n",
            "839:\tlearn: 0.2522716\ttotal: 3m 17s\tremaining: 37.6s\n",
            "840:\tlearn: 0.2522623\ttotal: 3m 17s\tremaining: 37.4s\n",
            "841:\tlearn: 0.2522524\ttotal: 3m 18s\tremaining: 37.2s\n",
            "842:\tlearn: 0.2522501\ttotal: 3m 18s\tremaining: 36.9s\n",
            "843:\tlearn: 0.2522446\ttotal: 3m 18s\tremaining: 36.7s\n",
            "844:\tlearn: 0.2522342\ttotal: 3m 18s\tremaining: 36.5s\n",
            "845:\tlearn: 0.2522274\ttotal: 3m 19s\tremaining: 36.2s\n",
            "846:\tlearn: 0.2522265\ttotal: 3m 19s\tremaining: 36s\n",
            "847:\tlearn: 0.2522176\ttotal: 3m 19s\tremaining: 35.8s\n",
            "848:\tlearn: 0.2522105\ttotal: 3m 19s\tremaining: 35.5s\n",
            "849:\tlearn: 0.2522029\ttotal: 3m 19s\tremaining: 35.3s\n",
            "850:\tlearn: 0.2521982\ttotal: 3m 20s\tremaining: 35.1s\n",
            "851:\tlearn: 0.2521911\ttotal: 3m 20s\tremaining: 34.8s\n",
            "852:\tlearn: 0.2521821\ttotal: 3m 20s\tremaining: 34.6s\n",
            "853:\tlearn: 0.2521737\ttotal: 3m 20s\tremaining: 34.4s\n",
            "854:\tlearn: 0.2521642\ttotal: 3m 21s\tremaining: 34.1s\n",
            "855:\tlearn: 0.2521514\ttotal: 3m 21s\tremaining: 33.9s\n",
            "856:\tlearn: 0.2521459\ttotal: 3m 21s\tremaining: 33.6s\n",
            "857:\tlearn: 0.2521360\ttotal: 3m 21s\tremaining: 33.4s\n",
            "858:\tlearn: 0.2521244\ttotal: 3m 22s\tremaining: 33.2s\n",
            "859:\tlearn: 0.2521142\ttotal: 3m 22s\tremaining: 32.9s\n",
            "860:\tlearn: 0.2521075\ttotal: 3m 22s\tremaining: 32.7s\n",
            "861:\tlearn: 0.2520968\ttotal: 3m 22s\tremaining: 32.5s\n",
            "862:\tlearn: 0.2520849\ttotal: 3m 22s\tremaining: 32.2s\n",
            "863:\tlearn: 0.2520792\ttotal: 3m 23s\tremaining: 32s\n",
            "864:\tlearn: 0.2520675\ttotal: 3m 23s\tremaining: 31.8s\n",
            "865:\tlearn: 0.2520589\ttotal: 3m 23s\tremaining: 31.5s\n",
            "866:\tlearn: 0.2520522\ttotal: 3m 23s\tremaining: 31.3s\n",
            "867:\tlearn: 0.2520479\ttotal: 3m 24s\tremaining: 31s\n",
            "868:\tlearn: 0.2520396\ttotal: 3m 24s\tremaining: 30.8s\n",
            "869:\tlearn: 0.2520344\ttotal: 3m 24s\tremaining: 30.6s\n",
            "870:\tlearn: 0.2520244\ttotal: 3m 24s\tremaining: 30.3s\n",
            "871:\tlearn: 0.2520182\ttotal: 3m 25s\tremaining: 30.1s\n",
            "872:\tlearn: 0.2520074\ttotal: 3m 25s\tremaining: 29.9s\n",
            "873:\tlearn: 0.2520008\ttotal: 3m 25s\tremaining: 29.6s\n",
            "874:\tlearn: 0.2519912\ttotal: 3m 25s\tremaining: 29.4s\n",
            "875:\tlearn: 0.2519820\ttotal: 3m 26s\tremaining: 29.2s\n",
            "876:\tlearn: 0.2519740\ttotal: 3m 26s\tremaining: 28.9s\n",
            "877:\tlearn: 0.2519713\ttotal: 3m 26s\tremaining: 28.7s\n",
            "878:\tlearn: 0.2519633\ttotal: 3m 26s\tremaining: 28.5s\n",
            "879:\tlearn: 0.2519564\ttotal: 3m 26s\tremaining: 28.2s\n",
            "880:\tlearn: 0.2519474\ttotal: 3m 27s\tremaining: 28s\n",
            "881:\tlearn: 0.2519380\ttotal: 3m 27s\tremaining: 27.7s\n",
            "882:\tlearn: 0.2519294\ttotal: 3m 27s\tremaining: 27.5s\n",
            "883:\tlearn: 0.2519214\ttotal: 3m 27s\tremaining: 27.3s\n",
            "884:\tlearn: 0.2519116\ttotal: 3m 28s\tremaining: 27s\n",
            "885:\tlearn: 0.2518996\ttotal: 3m 28s\tremaining: 26.8s\n",
            "886:\tlearn: 0.2518950\ttotal: 3m 28s\tremaining: 26.6s\n",
            "887:\tlearn: 0.2518886\ttotal: 3m 28s\tremaining: 26.3s\n",
            "888:\tlearn: 0.2518809\ttotal: 3m 29s\tremaining: 26.1s\n",
            "889:\tlearn: 0.2518711\ttotal: 3m 29s\tremaining: 25.9s\n",
            "890:\tlearn: 0.2518636\ttotal: 3m 29s\tremaining: 25.6s\n",
            "891:\tlearn: 0.2518489\ttotal: 3m 29s\tremaining: 25.4s\n",
            "892:\tlearn: 0.2518440\ttotal: 3m 29s\tremaining: 25.2s\n",
            "893:\tlearn: 0.2518351\ttotal: 3m 30s\tremaining: 24.9s\n",
            "894:\tlearn: 0.2518257\ttotal: 3m 30s\tremaining: 24.7s\n",
            "895:\tlearn: 0.2518180\ttotal: 3m 30s\tremaining: 24.5s\n",
            "896:\tlearn: 0.2518087\ttotal: 3m 30s\tremaining: 24.2s\n",
            "897:\tlearn: 0.2518038\ttotal: 3m 31s\tremaining: 24s\n",
            "898:\tlearn: 0.2517919\ttotal: 3m 31s\tremaining: 23.7s\n",
            "899:\tlearn: 0.2517760\ttotal: 3m 31s\tremaining: 23.5s\n",
            "900:\tlearn: 0.2517704\ttotal: 3m 31s\tremaining: 23.3s\n",
            "901:\tlearn: 0.2517640\ttotal: 3m 32s\tremaining: 23s\n",
            "902:\tlearn: 0.2517559\ttotal: 3m 32s\tremaining: 22.8s\n",
            "903:\tlearn: 0.2517462\ttotal: 3m 32s\tremaining: 22.6s\n",
            "904:\tlearn: 0.2517367\ttotal: 3m 32s\tremaining: 22.3s\n",
            "905:\tlearn: 0.2517293\ttotal: 3m 33s\tremaining: 22.1s\n",
            "906:\tlearn: 0.2517237\ttotal: 3m 33s\tremaining: 21.9s\n",
            "907:\tlearn: 0.2517114\ttotal: 3m 33s\tremaining: 21.6s\n",
            "908:\tlearn: 0.2517050\ttotal: 3m 33s\tremaining: 21.4s\n",
            "909:\tlearn: 0.2516982\ttotal: 3m 33s\tremaining: 21.2s\n",
            "910:\tlearn: 0.2516909\ttotal: 3m 34s\tremaining: 20.9s\n",
            "911:\tlearn: 0.2516812\ttotal: 3m 34s\tremaining: 20.7s\n",
            "912:\tlearn: 0.2516752\ttotal: 3m 34s\tremaining: 20.5s\n",
            "913:\tlearn: 0.2516673\ttotal: 3m 34s\tremaining: 20.2s\n",
            "914:\tlearn: 0.2516604\ttotal: 3m 35s\tremaining: 20s\n",
            "915:\tlearn: 0.2516545\ttotal: 3m 35s\tremaining: 19.7s\n",
            "916:\tlearn: 0.2516460\ttotal: 3m 35s\tremaining: 19.5s\n",
            "917:\tlearn: 0.2516361\ttotal: 3m 35s\tremaining: 19.3s\n",
            "918:\tlearn: 0.2516240\ttotal: 3m 36s\tremaining: 19s\n",
            "919:\tlearn: 0.2516172\ttotal: 3m 36s\tremaining: 18.8s\n",
            "920:\tlearn: 0.2516098\ttotal: 3m 36s\tremaining: 18.6s\n",
            "921:\tlearn: 0.2516028\ttotal: 3m 36s\tremaining: 18.3s\n",
            "922:\tlearn: 0.2515946\ttotal: 3m 36s\tremaining: 18.1s\n",
            "923:\tlearn: 0.2515809\ttotal: 3m 37s\tremaining: 17.9s\n",
            "924:\tlearn: 0.2515733\ttotal: 3m 37s\tremaining: 17.6s\n",
            "925:\tlearn: 0.2515635\ttotal: 3m 37s\tremaining: 17.4s\n",
            "926:\tlearn: 0.2515564\ttotal: 3m 37s\tremaining: 17.2s\n",
            "927:\tlearn: 0.2515523\ttotal: 3m 38s\tremaining: 16.9s\n",
            "928:\tlearn: 0.2515435\ttotal: 3m 38s\tremaining: 16.7s\n",
            "929:\tlearn: 0.2515396\ttotal: 3m 38s\tremaining: 16.4s\n",
            "930:\tlearn: 0.2515292\ttotal: 3m 38s\tremaining: 16.2s\n",
            "931:\tlearn: 0.2515234\ttotal: 3m 39s\tremaining: 16s\n",
            "932:\tlearn: 0.2515182\ttotal: 3m 39s\tremaining: 15.7s\n",
            "933:\tlearn: 0.2515093\ttotal: 3m 39s\tremaining: 15.5s\n",
            "934:\tlearn: 0.2515005\ttotal: 3m 39s\tremaining: 15.3s\n",
            "935:\tlearn: 0.2514968\ttotal: 3m 39s\tremaining: 15s\n",
            "936:\tlearn: 0.2514904\ttotal: 3m 40s\tremaining: 14.8s\n",
            "937:\tlearn: 0.2514793\ttotal: 3m 40s\tremaining: 14.6s\n",
            "938:\tlearn: 0.2514716\ttotal: 3m 40s\tremaining: 14.3s\n",
            "939:\tlearn: 0.2514628\ttotal: 3m 40s\tremaining: 14.1s\n",
            "940:\tlearn: 0.2514532\ttotal: 3m 41s\tremaining: 13.9s\n",
            "941:\tlearn: 0.2514471\ttotal: 3m 41s\tremaining: 13.6s\n",
            "942:\tlearn: 0.2514403\ttotal: 3m 41s\tremaining: 13.4s\n",
            "943:\tlearn: 0.2514331\ttotal: 3m 41s\tremaining: 13.2s\n",
            "944:\tlearn: 0.2514251\ttotal: 3m 42s\tremaining: 12.9s\n",
            "945:\tlearn: 0.2514155\ttotal: 3m 42s\tremaining: 12.7s\n",
            "946:\tlearn: 0.2514113\ttotal: 3m 42s\tremaining: 12.5s\n",
            "947:\tlearn: 0.2514026\ttotal: 3m 42s\tremaining: 12.2s\n",
            "948:\tlearn: 0.2513924\ttotal: 3m 43s\tremaining: 12s\n",
            "949:\tlearn: 0.2513847\ttotal: 3m 43s\tremaining: 11.8s\n",
            "950:\tlearn: 0.2513801\ttotal: 3m 43s\tremaining: 11.5s\n",
            "951:\tlearn: 0.2513708\ttotal: 3m 43s\tremaining: 11.3s\n",
            "952:\tlearn: 0.2513575\ttotal: 3m 43s\tremaining: 11s\n",
            "953:\tlearn: 0.2513532\ttotal: 3m 44s\tremaining: 10.8s\n",
            "954:\tlearn: 0.2513480\ttotal: 3m 44s\tremaining: 10.6s\n",
            "955:\tlearn: 0.2513403\ttotal: 3m 44s\tremaining: 10.3s\n",
            "956:\tlearn: 0.2513357\ttotal: 3m 44s\tremaining: 10.1s\n",
            "957:\tlearn: 0.2513236\ttotal: 3m 45s\tremaining: 9.87s\n",
            "958:\tlearn: 0.2513152\ttotal: 3m 45s\tremaining: 9.63s\n",
            "959:\tlearn: 0.2513085\ttotal: 3m 45s\tremaining: 9.4s\n",
            "960:\tlearn: 0.2512999\ttotal: 3m 45s\tremaining: 9.16s\n",
            "961:\tlearn: 0.2512908\ttotal: 3m 46s\tremaining: 8.93s\n",
            "962:\tlearn: 0.2512799\ttotal: 3m 46s\tremaining: 8.69s\n",
            "963:\tlearn: 0.2512695\ttotal: 3m 46s\tremaining: 8.46s\n",
            "964:\tlearn: 0.2512630\ttotal: 3m 46s\tremaining: 8.22s\n",
            "965:\tlearn: 0.2512547\ttotal: 3m 47s\tremaining: 7.99s\n",
            "966:\tlearn: 0.2512484\ttotal: 3m 47s\tremaining: 7.75s\n",
            "967:\tlearn: 0.2512410\ttotal: 3m 47s\tremaining: 7.52s\n",
            "968:\tlearn: 0.2512355\ttotal: 3m 47s\tremaining: 7.28s\n",
            "969:\tlearn: 0.2512280\ttotal: 3m 47s\tremaining: 7.05s\n",
            "970:\tlearn: 0.2512184\ttotal: 3m 48s\tremaining: 6.81s\n",
            "971:\tlearn: 0.2512117\ttotal: 3m 48s\tremaining: 6.58s\n",
            "972:\tlearn: 0.2511993\ttotal: 3m 48s\tremaining: 6.34s\n",
            "973:\tlearn: 0.2511871\ttotal: 3m 48s\tremaining: 6.11s\n",
            "974:\tlearn: 0.2511760\ttotal: 3m 49s\tremaining: 5.87s\n",
            "975:\tlearn: 0.2511684\ttotal: 3m 49s\tremaining: 5.64s\n",
            "976:\tlearn: 0.2511629\ttotal: 3m 49s\tremaining: 5.4s\n",
            "977:\tlearn: 0.2511535\ttotal: 3m 49s\tremaining: 5.17s\n",
            "978:\tlearn: 0.2511469\ttotal: 3m 50s\tremaining: 4.93s\n",
            "979:\tlearn: 0.2511393\ttotal: 3m 50s\tremaining: 4.7s\n",
            "980:\tlearn: 0.2511355\ttotal: 3m 50s\tremaining: 4.46s\n",
            "981:\tlearn: 0.2511255\ttotal: 3m 50s\tremaining: 4.23s\n",
            "982:\tlearn: 0.2511202\ttotal: 3m 50s\tremaining: 3.99s\n",
            "983:\tlearn: 0.2511122\ttotal: 3m 51s\tremaining: 3.76s\n",
            "984:\tlearn: 0.2511047\ttotal: 3m 51s\tremaining: 3.52s\n",
            "985:\tlearn: 0.2510916\ttotal: 3m 51s\tremaining: 3.29s\n",
            "986:\tlearn: 0.2510826\ttotal: 3m 51s\tremaining: 3.05s\n",
            "987:\tlearn: 0.2510746\ttotal: 3m 52s\tremaining: 2.82s\n",
            "988:\tlearn: 0.2510665\ttotal: 3m 52s\tremaining: 2.58s\n",
            "989:\tlearn: 0.2510608\ttotal: 3m 52s\tremaining: 2.35s\n",
            "990:\tlearn: 0.2510539\ttotal: 3m 52s\tremaining: 2.11s\n",
            "991:\tlearn: 0.2510441\ttotal: 3m 53s\tremaining: 1.88s\n",
            "992:\tlearn: 0.2510339\ttotal: 3m 53s\tremaining: 1.64s\n",
            "993:\tlearn: 0.2510235\ttotal: 3m 53s\tremaining: 1.41s\n",
            "994:\tlearn: 0.2510142\ttotal: 3m 53s\tremaining: 1.17s\n",
            "995:\tlearn: 0.2510034\ttotal: 3m 54s\tremaining: 940ms\n",
            "996:\tlearn: 0.2509978\ttotal: 3m 54s\tremaining: 705ms\n",
            "997:\tlearn: 0.2509895\ttotal: 3m 54s\tremaining: 470ms\n",
            "998:\tlearn: 0.2509822\ttotal: 3m 54s\tremaining: 235ms\n",
            "999:\tlearn: 0.2509686\ttotal: 3m 54s\tremaining: 0us\n"
          ],
          "name": "stdout"
        },
        {
          "output_type": "execute_result",
          "data": {
            "text/plain": [
              "<catboost.core.CatBoostClassifier at 0x7f61c3bd0208>"
            ]
          },
          "metadata": {
            "tags": []
          },
          "execution_count": 123
        }
      ]
    },
    {
      "cell_type": "code",
      "metadata": {
        "id": "C5uazkCx4DCF"
      },
      "source": [
        "cbc_pred = CBC.predict(X_test)"
      ],
      "execution_count": null,
      "outputs": []
    },
    {
      "cell_type": "code",
      "metadata": {
        "colab": {
          "base_uri": "https://localhost:8080/"
        },
        "id": "W8zruwX1Nhm3",
        "outputId": "699e6a97-1e3a-4612-e292-75f0256955a4"
      },
      "source": [
        "cbc_pred"
      ],
      "execution_count": null,
      "outputs": [
        {
          "output_type": "execute_result",
          "data": {
            "text/plain": [
              "array([0, 0, 0, ..., 0, 0, 0])"
            ]
          },
          "metadata": {
            "tags": []
          },
          "execution_count": 125
        }
      ]
    },
    {
      "cell_type": "code",
      "metadata": {
        "colab": {
          "base_uri": "https://localhost:8080/"
        },
        "id": "yffX1TeCQwOq",
        "outputId": "75a4cab9-3fff-4e75-8d53-7e0ed569a038"
      },
      "source": [
        "np.unique(cbc_pred)"
      ],
      "execution_count": null,
      "outputs": [
        {
          "output_type": "execute_result",
          "data": {
            "text/plain": [
              "array([0, 1])"
            ]
          },
          "metadata": {
            "tags": []
          },
          "execution_count": 126
        }
      ]
    },
    {
      "cell_type": "code",
      "metadata": {
        "id": "mecdnDOmr8mY"
      },
      "source": [
        "cbc_prob = CBC.predict_proba(X_test)[:,1]     #Taking probabilities for positive outcome"
      ],
      "execution_count": null,
      "outputs": []
    },
    {
      "cell_type": "code",
      "metadata": {
        "colab": {
          "base_uri": "https://localhost:8080/"
        },
        "id": "dEG9e_niNg9I",
        "outputId": "bf6fcc83-c086-47ca-a8c7-9f7c515b27e0"
      },
      "source": [
        "cbc_prob"
      ],
      "execution_count": null,
      "outputs": [
        {
          "output_type": "execute_result",
          "data": {
            "text/plain": [
              "array([0.04105999, 0.32601946, 0.06941252, ..., 0.09558203, 0.24209735,\n",
              "       0.12585408])"
            ]
          },
          "metadata": {
            "tags": []
          },
          "execution_count": 128
        }
      ]
    },
    {
      "cell_type": "code",
      "metadata": {
        "colab": {
          "base_uri": "https://localhost:8080/"
        },
        "id": "xET3lTCJNkYC",
        "outputId": "154162b4-2507-4a97-e5d6-0c9796c45fcc"
      },
      "source": [
        "confusion_matrix(y_test, cbc_pred)"
      ],
      "execution_count": null,
      "outputs": [
        {
          "output_type": "execute_result",
          "data": {
            "text/plain": [
              "array([[237973,   1066],\n",
              "       [ 20433,   1745]])"
            ]
          },
          "metadata": {
            "tags": []
          },
          "execution_count": 129
        }
      ]
    },
    {
      "cell_type": "code",
      "metadata": {
        "colab": {
          "base_uri": "https://localhost:8080/"
        },
        "id": "RB2PnoXHrKeJ",
        "outputId": "aee75290-8263-4e1c-84de-e00ba3314123"
      },
      "source": [
        "print(\"Precision Score:\", round(precision_score(y_test, cbc_pred),5))\r\n",
        "print(\"Recall Score:\", round(recall_score(y_test, cbc_pred),5))\r\n",
        "print(\"Accuracy Score:\", round(accuracy_score(y_test, cbc_pred),5))\r\n",
        "print(\"F1 Score:\", round(f1_score(y_test, cbc_pred, average='weighted'),5))\r\n",
        "print(\"ROC: \", round(roc_auc_score(y_test, cbc_prob),5))"
      ],
      "execution_count": null,
      "outputs": [
        {
          "output_type": "stream",
          "text": [
            "Precision Score: 0.62078\n",
            "Recall Score: 0.07868\n",
            "Accuracy Score: 0.9177\n",
            "F1 Score: 0.88741\n",
            "ROC:  0.71322\n"
          ],
          "name": "stdout"
        }
      ]
    },
    {
      "cell_type": "markdown",
      "metadata": {
        "id": "tddLiQhRYvbk"
      },
      "source": [
        "## Modelling using Balanced dataset (obtained using SMOTE)"
      ]
    },
    {
      "cell_type": "code",
      "metadata": {
        "id": "TxL_Jp2hYx8N",
        "colab": {
          "base_uri": "https://localhost:8080/"
        },
        "outputId": "165f2072-fb41-45a8-8aba-203c6e67d730"
      },
      "source": [
        "from imblearn.over_sampling import SMOTENC\r\n",
        "# from imblearn.under_sampling import RandomUnderSampler"
      ],
      "execution_count": null,
      "outputs": [
        {
          "output_type": "stream",
          "text": [
            "/usr/local/lib/python3.6/dist-packages/sklearn/externals/six.py:31: FutureWarning: The module is deprecated in version 0.21 and will be removed in version 0.23 since we've dropped support for Python 2.7. Please rely on the official version of six (https://pypi.org/project/six/).\n",
            "  \"(https://pypi.org/project/six/).\", FutureWarning)\n",
            "/usr/local/lib/python3.6/dist-packages/sklearn/utils/deprecation.py:144: FutureWarning: The sklearn.neighbors.base module is  deprecated in version 0.22 and will be removed in version 0.24. The corresponding classes / functions should instead be imported from sklearn.neighbors. Anything that cannot be imported from sklearn.neighbors is now part of the private API.\n",
            "  warnings.warn(message, FutureWarning)\n"
          ],
          "name": "stderr"
        }
      ]
    },
    {
      "cell_type": "code",
      "metadata": {
        "colab": {
          "base_uri": "https://localhost:8080/"
        },
        "id": "V2OWnKZZciWt",
        "outputId": "3a7a0628-13a6-4b65-e101-4018a7fc56f0"
      },
      "source": [
        "X.columns"
      ],
      "execution_count": null,
      "outputs": [
        {
          "output_type": "execute_result",
          "data": {
            "text/plain": [
              "Index(['BMI', 'CIG_0', 'DMAR', 'ILP_R', 'MBSTATE_REC', 'MRACE6', 'NO_RISKS',\n",
              "       'PRECARE', 'PRIORTERM', 'RF_CESAR', 'SEX', 'Age', 'Visits'],\n",
              "      dtype='object')"
            ]
          },
          "metadata": {
            "tags": []
          },
          "execution_count": 132
        }
      ]
    },
    {
      "cell_type": "code",
      "metadata": {
        "id": "FpGzn4DAZth9"
      },
      "source": [
        "smote = SMOTENC(categorical_features=[1,2,4,5,6,7,8,9,10,11,12], sampling_strategy='minority', k_neighbors=5)"
      ],
      "execution_count": null,
      "outputs": []
    },
    {
      "cell_type": "code",
      "metadata": {
        "id": "cm-Hx9XaaB7J"
      },
      "source": [
        "X_smote, y_smote = smote.fit_resample(X,y)"
      ],
      "execution_count": null,
      "outputs": []
    },
    {
      "cell_type": "code",
      "metadata": {
        "colab": {
          "base_uri": "https://localhost:8080/"
        },
        "id": "9pW_JaZSnncQ",
        "outputId": "f57e0568-fd9f-4781-f310-ef4922a4bae4"
      },
      "source": [
        "from collections import Counter\r\n",
        "Counter(y_smote)"
      ],
      "execution_count": null,
      "outputs": [
        {
          "output_type": "execute_result",
          "data": {
            "text/plain": [
              "Counter({0: 796592, 1: 796592})"
            ]
          },
          "metadata": {
            "tags": []
          },
          "execution_count": 223
        }
      ]
    },
    {
      "cell_type": "code",
      "metadata": {
        "id": "4Dj13iNOoTGS"
      },
      "source": [
        "X1 = pd.DataFrame(X_smote.tolist())"
      ],
      "execution_count": null,
      "outputs": []
    },
    {
      "cell_type": "code",
      "metadata": {
        "id": "x7RnbwBwrUvi"
      },
      "source": [
        "X1.columns = X.columns.copy()"
      ],
      "execution_count": null,
      "outputs": []
    },
    {
      "cell_type": "code",
      "metadata": {
        "colab": {
          "base_uri": "https://localhost:8080/",
          "height": 195
        },
        "id": "lsQWvNLio8-i",
        "outputId": "c79e6bc2-9ebf-4ca0-c749-8aafa41a214a"
      },
      "source": [
        "X1.head()"
      ],
      "execution_count": null,
      "outputs": [
        {
          "output_type": "execute_result",
          "data": {
            "text/html": [
              "<div>\n",
              "<style scoped>\n",
              "    .dataframe tbody tr th:only-of-type {\n",
              "        vertical-align: middle;\n",
              "    }\n",
              "\n",
              "    .dataframe tbody tr th {\n",
              "        vertical-align: top;\n",
              "    }\n",
              "\n",
              "    .dataframe thead th {\n",
              "        text-align: right;\n",
              "    }\n",
              "</style>\n",
              "<table border=\"1\" class=\"dataframe\">\n",
              "  <thead>\n",
              "    <tr style=\"text-align: right;\">\n",
              "      <th></th>\n",
              "      <th>BMI</th>\n",
              "      <th>CIG_0</th>\n",
              "      <th>DMAR</th>\n",
              "      <th>ILP_R</th>\n",
              "      <th>MBSTATE_REC</th>\n",
              "      <th>MRACE6</th>\n",
              "      <th>NO_RISKS</th>\n",
              "      <th>PRECARE</th>\n",
              "      <th>PRIORTERM</th>\n",
              "      <th>RF_CESAR</th>\n",
              "      <th>SEX</th>\n",
              "      <th>Age</th>\n",
              "      <th>Visits</th>\n",
              "    </tr>\n",
              "  </thead>\n",
              "  <tbody>\n",
              "    <tr>\n",
              "      <th>0</th>\n",
              "      <td>0.580249</td>\n",
              "      <td>0</td>\n",
              "      <td>1</td>\n",
              "      <td>-0.358559</td>\n",
              "      <td>1</td>\n",
              "      <td>1</td>\n",
              "      <td>1</td>\n",
              "      <td>3</td>\n",
              "      <td>1</td>\n",
              "      <td>N</td>\n",
              "      <td>M</td>\n",
              "      <td>(27.0, 33.0]</td>\n",
              "      <td>(5.0, 10.0]</td>\n",
              "    </tr>\n",
              "    <tr>\n",
              "      <th>1</th>\n",
              "      <td>-0.485867</td>\n",
              "      <td>0</td>\n",
              "      <td>2</td>\n",
              "      <td>0.369112</td>\n",
              "      <td>1</td>\n",
              "      <td>3</td>\n",
              "      <td>1</td>\n",
              "      <td>5</td>\n",
              "      <td>0</td>\n",
              "      <td>N</td>\n",
              "      <td>F</td>\n",
              "      <td>(21.0, 27.0]</td>\n",
              "      <td>(5.0, 10.0]</td>\n",
              "    </tr>\n",
              "    <tr>\n",
              "      <th>2</th>\n",
              "      <td>0.671631</td>\n",
              "      <td>0</td>\n",
              "      <td>1</td>\n",
              "      <td>0.261309</td>\n",
              "      <td>1</td>\n",
              "      <td>1</td>\n",
              "      <td>1</td>\n",
              "      <td>2</td>\n",
              "      <td>0</td>\n",
              "      <td>N</td>\n",
              "      <td>F</td>\n",
              "      <td>(21.0, 27.0]</td>\n",
              "      <td>(10.0, 15.0]</td>\n",
              "    </tr>\n",
              "    <tr>\n",
              "      <th>3</th>\n",
              "      <td>-0.592479</td>\n",
              "      <td>0</td>\n",
              "      <td>1</td>\n",
              "      <td>-0.062100</td>\n",
              "      <td>1</td>\n",
              "      <td>1</td>\n",
              "      <td>1</td>\n",
              "      <td>3</td>\n",
              "      <td>0</td>\n",
              "      <td>N</td>\n",
              "      <td>F</td>\n",
              "      <td>(27.0, 33.0]</td>\n",
              "      <td>(5.0, 10.0]</td>\n",
              "    </tr>\n",
              "    <tr>\n",
              "      <th>4</th>\n",
              "      <td>0.199493</td>\n",
              "      <td>0</td>\n",
              "      <td>1</td>\n",
              "      <td>-0.789771</td>\n",
              "      <td>1</td>\n",
              "      <td>1</td>\n",
              "      <td>1</td>\n",
              "      <td>3</td>\n",
              "      <td>0</td>\n",
              "      <td>N</td>\n",
              "      <td>F</td>\n",
              "      <td>(27.0, 33.0]</td>\n",
              "      <td>(15.0, 20.0]</td>\n",
              "    </tr>\n",
              "  </tbody>\n",
              "</table>\n",
              "</div>"
            ],
            "text/plain": [
              "        BMI  CIG_0  DMAR     ILP_R  ...  RF_CESAR  SEX           Age        Visits\n",
              "0  0.580249      0     1 -0.358559  ...         N    M  (27.0, 33.0]   (5.0, 10.0]\n",
              "1 -0.485867      0     2  0.369112  ...         N    F  (21.0, 27.0]   (5.0, 10.0]\n",
              "2  0.671631      0     1  0.261309  ...         N    F  (21.0, 27.0]  (10.0, 15.0]\n",
              "3 -0.592479      0     1 -0.062100  ...         N    F  (27.0, 33.0]   (5.0, 10.0]\n",
              "4  0.199493      0     1 -0.789771  ...         N    F  (27.0, 33.0]  (15.0, 20.0]\n",
              "\n",
              "[5 rows x 13 columns]"
            ]
          },
          "metadata": {
            "tags": []
          },
          "execution_count": 226
        }
      ]
    },
    {
      "cell_type": "code",
      "metadata": {
        "id": "R5AKGw0a1uaN"
      },
      "source": [
        "smote_df = pd.concat([X1,pd.Series(y_smote.tolist(), name='DBWT')], axis=1)"
      ],
      "execution_count": null,
      "outputs": []
    },
    {
      "cell_type": "code",
      "metadata": {
        "id": "-4eCYDfy163U"
      },
      "source": [
        "smote_df.to_csv('/content/drive/My Drive/Pregnancy Paper/Data/smote_df.csv',index=False)"
      ],
      "execution_count": null,
      "outputs": []
    },
    {
      "cell_type": "code",
      "metadata": {
        "id": "7Ta3bYB0KXcw"
      },
      "source": [
        "smote_df = pd.read_csv(\"/content/drive/My Drive/Pregnancy Paper/Data/smote_df.csv\")"
      ],
      "execution_count": null,
      "outputs": []
    },
    {
      "cell_type": "code",
      "metadata": {
        "colab": {
          "base_uri": "https://localhost:8080/",
          "height": 299
        },
        "id": "1Y6JXloVLSFC",
        "outputId": "7ec86703-b296-4290-b2c3-d46e9ded0d52"
      },
      "source": [
        "smote_df.head()"
      ],
      "execution_count": null,
      "outputs": [
        {
          "output_type": "execute_result",
          "data": {
            "text/html": [
              "<div>\n",
              "<style scoped>\n",
              "    .dataframe tbody tr th:only-of-type {\n",
              "        vertical-align: middle;\n",
              "    }\n",
              "\n",
              "    .dataframe tbody tr th {\n",
              "        vertical-align: top;\n",
              "    }\n",
              "\n",
              "    .dataframe thead th {\n",
              "        text-align: right;\n",
              "    }\n",
              "</style>\n",
              "<table border=\"1\" class=\"dataframe\">\n",
              "  <thead>\n",
              "    <tr style=\"text-align: right;\">\n",
              "      <th></th>\n",
              "      <th>BMI</th>\n",
              "      <th>CIG_0</th>\n",
              "      <th>DMAR</th>\n",
              "      <th>ILP_R</th>\n",
              "      <th>MBSTATE_REC</th>\n",
              "      <th>MRACE6</th>\n",
              "      <th>NO_RISKS</th>\n",
              "      <th>PRECARE</th>\n",
              "      <th>PRIORTERM</th>\n",
              "      <th>RF_CESAR</th>\n",
              "      <th>SEX</th>\n",
              "      <th>Age</th>\n",
              "      <th>Visits</th>\n",
              "      <th>DBWT</th>\n",
              "    </tr>\n",
              "  </thead>\n",
              "  <tbody>\n",
              "    <tr>\n",
              "      <th>0</th>\n",
              "      <td>0.580249</td>\n",
              "      <td>0</td>\n",
              "      <td>1</td>\n",
              "      <td>-0.358559</td>\n",
              "      <td>1</td>\n",
              "      <td>1</td>\n",
              "      <td>1</td>\n",
              "      <td>3</td>\n",
              "      <td>1</td>\n",
              "      <td>N</td>\n",
              "      <td>M</td>\n",
              "      <td>(27.0, 33.0]</td>\n",
              "      <td>(5.0, 10.0]</td>\n",
              "      <td>0</td>\n",
              "    </tr>\n",
              "    <tr>\n",
              "      <th>1</th>\n",
              "      <td>-0.485867</td>\n",
              "      <td>0</td>\n",
              "      <td>2</td>\n",
              "      <td>0.369112</td>\n",
              "      <td>1</td>\n",
              "      <td>3</td>\n",
              "      <td>1</td>\n",
              "      <td>5</td>\n",
              "      <td>0</td>\n",
              "      <td>N</td>\n",
              "      <td>F</td>\n",
              "      <td>(21.0, 27.0]</td>\n",
              "      <td>(5.0, 10.0]</td>\n",
              "      <td>0</td>\n",
              "    </tr>\n",
              "    <tr>\n",
              "      <th>2</th>\n",
              "      <td>0.671631</td>\n",
              "      <td>0</td>\n",
              "      <td>1</td>\n",
              "      <td>0.261309</td>\n",
              "      <td>1</td>\n",
              "      <td>1</td>\n",
              "      <td>1</td>\n",
              "      <td>2</td>\n",
              "      <td>0</td>\n",
              "      <td>N</td>\n",
              "      <td>F</td>\n",
              "      <td>(21.0, 27.0]</td>\n",
              "      <td>(10.0, 15.0]</td>\n",
              "      <td>0</td>\n",
              "    </tr>\n",
              "    <tr>\n",
              "      <th>3</th>\n",
              "      <td>-0.592479</td>\n",
              "      <td>0</td>\n",
              "      <td>1</td>\n",
              "      <td>-0.062100</td>\n",
              "      <td>1</td>\n",
              "      <td>1</td>\n",
              "      <td>1</td>\n",
              "      <td>3</td>\n",
              "      <td>0</td>\n",
              "      <td>N</td>\n",
              "      <td>F</td>\n",
              "      <td>(27.0, 33.0]</td>\n",
              "      <td>(5.0, 10.0]</td>\n",
              "      <td>0</td>\n",
              "    </tr>\n",
              "    <tr>\n",
              "      <th>4</th>\n",
              "      <td>0.199493</td>\n",
              "      <td>0</td>\n",
              "      <td>1</td>\n",
              "      <td>-0.789771</td>\n",
              "      <td>1</td>\n",
              "      <td>1</td>\n",
              "      <td>1</td>\n",
              "      <td>3</td>\n",
              "      <td>0</td>\n",
              "      <td>N</td>\n",
              "      <td>F</td>\n",
              "      <td>(27.0, 33.0]</td>\n",
              "      <td>(15.0, 20.0]</td>\n",
              "      <td>0</td>\n",
              "    </tr>\n",
              "  </tbody>\n",
              "</table>\n",
              "</div>"
            ],
            "text/plain": [
              "        BMI  CIG_0  DMAR     ILP_R  ...  SEX           Age        Visits  DBWT\n",
              "0  0.580249      0     1 -0.358559  ...    M  (27.0, 33.0]   (5.0, 10.0]     0\n",
              "1 -0.485867      0     2  0.369112  ...    F  (21.0, 27.0]   (5.0, 10.0]     0\n",
              "2  0.671631      0     1  0.261309  ...    F  (21.0, 27.0]  (10.0, 15.0]     0\n",
              "3 -0.592479      0     1 -0.062100  ...    F  (27.0, 33.0]   (5.0, 10.0]     0\n",
              "4  0.199493      0     1 -0.789771  ...    F  (27.0, 33.0]  (15.0, 20.0]     0\n",
              "\n",
              "[5 rows x 14 columns]"
            ]
          },
          "metadata": {
            "tags": []
          },
          "execution_count": 140
        }
      ]
    },
    {
      "cell_type": "code",
      "metadata": {
        "colab": {
          "base_uri": "https://localhost:8080/"
        },
        "id": "4OxTdhPx-2oK",
        "outputId": "1af5f15b-94c6-43a4-b594-f4099acbfc37"
      },
      "source": [
        "smote_df.DBWT.value_counts()"
      ],
      "execution_count": null,
      "outputs": [
        {
          "output_type": "execute_result",
          "data": {
            "text/plain": [
              "1    796592\n",
              "0    796592\n",
              "Name: DBWT, dtype: int64"
            ]
          },
          "metadata": {
            "tags": []
          },
          "execution_count": 141
        }
      ]
    },
    {
      "cell_type": "code",
      "metadata": {
        "id": "J9btDCEvKt2P"
      },
      "source": [
        "y_smote = smote_df.DBWT.copy()\r\n",
        "X1 = smote_df.drop('DBWT',axis=1)"
      ],
      "execution_count": null,
      "outputs": []
    },
    {
      "cell_type": "code",
      "metadata": {
        "colab": {
          "base_uri": "https://localhost:8080/",
          "height": 299
        },
        "id": "-vPv8wgrK9uN",
        "outputId": "36ef4a57-c44e-4ac2-efc1-e748b5b34e3d"
      },
      "source": [
        "X1.head()"
      ],
      "execution_count": null,
      "outputs": [
        {
          "output_type": "execute_result",
          "data": {
            "text/html": [
              "<div>\n",
              "<style scoped>\n",
              "    .dataframe tbody tr th:only-of-type {\n",
              "        vertical-align: middle;\n",
              "    }\n",
              "\n",
              "    .dataframe tbody tr th {\n",
              "        vertical-align: top;\n",
              "    }\n",
              "\n",
              "    .dataframe thead th {\n",
              "        text-align: right;\n",
              "    }\n",
              "</style>\n",
              "<table border=\"1\" class=\"dataframe\">\n",
              "  <thead>\n",
              "    <tr style=\"text-align: right;\">\n",
              "      <th></th>\n",
              "      <th>BMI</th>\n",
              "      <th>CIG_0</th>\n",
              "      <th>DMAR</th>\n",
              "      <th>ILP_R</th>\n",
              "      <th>MBSTATE_REC</th>\n",
              "      <th>MRACE6</th>\n",
              "      <th>NO_RISKS</th>\n",
              "      <th>PRECARE</th>\n",
              "      <th>PRIORTERM</th>\n",
              "      <th>RF_CESAR</th>\n",
              "      <th>SEX</th>\n",
              "      <th>Age</th>\n",
              "      <th>Visits</th>\n",
              "    </tr>\n",
              "  </thead>\n",
              "  <tbody>\n",
              "    <tr>\n",
              "      <th>0</th>\n",
              "      <td>0.580249</td>\n",
              "      <td>0</td>\n",
              "      <td>1</td>\n",
              "      <td>-0.358559</td>\n",
              "      <td>1</td>\n",
              "      <td>1</td>\n",
              "      <td>1</td>\n",
              "      <td>3</td>\n",
              "      <td>1</td>\n",
              "      <td>N</td>\n",
              "      <td>M</td>\n",
              "      <td>(27.0, 33.0]</td>\n",
              "      <td>(5.0, 10.0]</td>\n",
              "    </tr>\n",
              "    <tr>\n",
              "      <th>1</th>\n",
              "      <td>-0.485867</td>\n",
              "      <td>0</td>\n",
              "      <td>2</td>\n",
              "      <td>0.369112</td>\n",
              "      <td>1</td>\n",
              "      <td>3</td>\n",
              "      <td>1</td>\n",
              "      <td>5</td>\n",
              "      <td>0</td>\n",
              "      <td>N</td>\n",
              "      <td>F</td>\n",
              "      <td>(21.0, 27.0]</td>\n",
              "      <td>(5.0, 10.0]</td>\n",
              "    </tr>\n",
              "    <tr>\n",
              "      <th>2</th>\n",
              "      <td>0.671631</td>\n",
              "      <td>0</td>\n",
              "      <td>1</td>\n",
              "      <td>0.261309</td>\n",
              "      <td>1</td>\n",
              "      <td>1</td>\n",
              "      <td>1</td>\n",
              "      <td>2</td>\n",
              "      <td>0</td>\n",
              "      <td>N</td>\n",
              "      <td>F</td>\n",
              "      <td>(21.0, 27.0]</td>\n",
              "      <td>(10.0, 15.0]</td>\n",
              "    </tr>\n",
              "    <tr>\n",
              "      <th>3</th>\n",
              "      <td>-0.592479</td>\n",
              "      <td>0</td>\n",
              "      <td>1</td>\n",
              "      <td>-0.062100</td>\n",
              "      <td>1</td>\n",
              "      <td>1</td>\n",
              "      <td>1</td>\n",
              "      <td>3</td>\n",
              "      <td>0</td>\n",
              "      <td>N</td>\n",
              "      <td>F</td>\n",
              "      <td>(27.0, 33.0]</td>\n",
              "      <td>(5.0, 10.0]</td>\n",
              "    </tr>\n",
              "    <tr>\n",
              "      <th>4</th>\n",
              "      <td>0.199493</td>\n",
              "      <td>0</td>\n",
              "      <td>1</td>\n",
              "      <td>-0.789771</td>\n",
              "      <td>1</td>\n",
              "      <td>1</td>\n",
              "      <td>1</td>\n",
              "      <td>3</td>\n",
              "      <td>0</td>\n",
              "      <td>N</td>\n",
              "      <td>F</td>\n",
              "      <td>(27.0, 33.0]</td>\n",
              "      <td>(15.0, 20.0]</td>\n",
              "    </tr>\n",
              "  </tbody>\n",
              "</table>\n",
              "</div>"
            ],
            "text/plain": [
              "        BMI  CIG_0  DMAR     ILP_R  ...  RF_CESAR  SEX           Age        Visits\n",
              "0  0.580249      0     1 -0.358559  ...         N    M  (27.0, 33.0]   (5.0, 10.0]\n",
              "1 -0.485867      0     2  0.369112  ...         N    F  (21.0, 27.0]   (5.0, 10.0]\n",
              "2  0.671631      0     1  0.261309  ...         N    F  (21.0, 27.0]  (10.0, 15.0]\n",
              "3 -0.592479      0     1 -0.062100  ...         N    F  (27.0, 33.0]   (5.0, 10.0]\n",
              "4  0.199493      0     1 -0.789771  ...         N    F  (27.0, 33.0]  (15.0, 20.0]\n",
              "\n",
              "[5 rows x 13 columns]"
            ]
          },
          "metadata": {
            "tags": []
          },
          "execution_count": 143
        }
      ]
    },
    {
      "cell_type": "code",
      "metadata": {
        "id": "yJ2hKNI1dPEW"
      },
      "source": [
        "Xdumm = pd.get_dummies(X1, columns=cat_cols, drop_first=True)"
      ],
      "execution_count": null,
      "outputs": []
    },
    {
      "cell_type": "code",
      "metadata": {
        "id": "fPTTfaiBdPBD"
      },
      "source": [
        "Xdumm.rename(columns = {'Age_(21.0, 27.0]':'Age_22_27','Age_(27.0, 33.0]':'Age_28_33','Age_(33.0, 39.0]':'Age_34_39','Age_(39.0, 45.0]':'Age_40_45', 'Visits_(5.0, 10.0]':'Visits_6_10','Visits_(10.0, 15.0]':'Visits_11_15','Visits_(15.0, 20.0]':'Visits_16_20','Visits_(20.0, 25.0]':'Visits_21_25'}, inplace=True)"
      ],
      "execution_count": null,
      "outputs": []
    },
    {
      "cell_type": "code",
      "metadata": {
        "colab": {
          "base_uri": "https://localhost:8080/"
        },
        "id": "d4ThFbgCdO_q",
        "outputId": "3fb8af2e-ad6a-466a-9d66-06b4196ee226"
      },
      "source": [
        "Xdumm.columns"
      ],
      "execution_count": null,
      "outputs": [
        {
          "output_type": "execute_result",
          "data": {
            "text/plain": [
              "Index(['BMI', 'ILP_R', 'CIG_0_1', 'DMAR_2', 'DMAR_3', 'MBSTATE_REC_2',\n",
              "       'MRACE6_2', 'MRACE6_3', 'MRACE6_4', 'MRACE6_5', 'MRACE6_6',\n",
              "       'NO_RISKS_1', 'PRECARE_1', 'PRECARE_2', 'PRECARE_3', 'PRECARE_4',\n",
              "       'PRECARE_5', 'PRECARE_6', 'PRECARE_7', 'PRECARE_8', 'PRECARE_9',\n",
              "       'PRIORTERM_1', 'RF_CESAR_Y', 'SEX_M', 'Age_22_27', 'Age_28_33',\n",
              "       'Age_34_39', 'Age_40_45', 'Visits_11_15', 'Visits_16_20',\n",
              "       'Visits_21_25', 'Visits_6_10'],\n",
              "      dtype='object')"
            ]
          },
          "metadata": {
            "tags": []
          },
          "execution_count": 146
        }
      ]
    },
    {
      "cell_type": "code",
      "metadata": {
        "colab": {
          "base_uri": "https://localhost:8080/"
        },
        "id": "k5u0Qm41dO84",
        "outputId": "2394d07c-f235-417b-9e58-c9d63ecfe409"
      },
      "source": [
        "Xdumm.shape"
      ],
      "execution_count": null,
      "outputs": [
        {
          "output_type": "execute_result",
          "data": {
            "text/plain": [
              "(1593184, 32)"
            ]
          },
          "metadata": {
            "tags": []
          },
          "execution_count": 147
        }
      ]
    },
    {
      "cell_type": "code",
      "metadata": {
        "id": "l23x8r3EdO6a"
      },
      "source": [
        "cats = [col for col in Xdumm.columns if col not in num_cols+['DBWT']]"
      ],
      "execution_count": null,
      "outputs": []
    },
    {
      "cell_type": "code",
      "metadata": {
        "id": "aZQmleHedO5E"
      },
      "source": [
        "X_train, X_test, y_train, y_test = train_test_split(Xdumm, y_smote, test_size=0.3, random_state=24)"
      ],
      "execution_count": null,
      "outputs": []
    },
    {
      "cell_type": "markdown",
      "metadata": {
        "id": "GdqxQl_4dqIh"
      },
      "source": [
        "### Decision Tree Classifier"
      ]
    },
    {
      "cell_type": "code",
      "metadata": {
        "id": "OT-ekhR1dqIn"
      },
      "source": [
        "dtc =  DecisionTreeClassifier(random_state=0, max_depth=10)   "
      ],
      "execution_count": null,
      "outputs": []
    },
    {
      "cell_type": "code",
      "metadata": {
        "colab": {
          "base_uri": "https://localhost:8080/"
        },
        "id": "EbhTRJj1dqIo",
        "outputId": "781b53f7-0710-4c41-80ec-e732b165f081"
      },
      "source": [
        "dtc.fit(X_train, y_train)"
      ],
      "execution_count": null,
      "outputs": [
        {
          "output_type": "execute_result",
          "data": {
            "text/plain": [
              "DecisionTreeClassifier(ccp_alpha=0.0, class_weight=None, criterion='gini',\n",
              "                       max_depth=10, max_features=None, max_leaf_nodes=None,\n",
              "                       min_impurity_decrease=0.0, min_impurity_split=None,\n",
              "                       min_samples_leaf=1, min_samples_split=2,\n",
              "                       min_weight_fraction_leaf=0.0, presort='deprecated',\n",
              "                       random_state=0, splitter='best')"
            ]
          },
          "metadata": {
            "tags": []
          },
          "execution_count": 151
        }
      ]
    },
    {
      "cell_type": "code",
      "metadata": {
        "id": "HJ5zg4HkdqIp"
      },
      "source": [
        "dtc_pred = dtc.predict(X_test)"
      ],
      "execution_count": null,
      "outputs": []
    },
    {
      "cell_type": "code",
      "metadata": {
        "colab": {
          "base_uri": "https://localhost:8080/"
        },
        "id": "DrYy3BYOdqIq",
        "outputId": "57418c90-761b-40ea-8fe0-4d39b7caf772"
      },
      "source": [
        "dtc_pred"
      ],
      "execution_count": null,
      "outputs": [
        {
          "output_type": "execute_result",
          "data": {
            "text/plain": [
              "array([1, 0, 0, ..., 1, 0, 0])"
            ]
          },
          "metadata": {
            "tags": []
          },
          "execution_count": 153
        }
      ]
    },
    {
      "cell_type": "code",
      "metadata": {
        "id": "3vZAK1nydqIq"
      },
      "source": [
        "dtc_prob = dtc.predict_proba(X_test)[:,1]"
      ],
      "execution_count": null,
      "outputs": []
    },
    {
      "cell_type": "code",
      "metadata": {
        "colab": {
          "base_uri": "https://localhost:8080/"
        },
        "id": "vxpIK_bRdqIq",
        "outputId": "d8f18919-97d0-4112-a5d3-c6b87b687dd3"
      },
      "source": [
        "dtc_prob"
      ],
      "execution_count": null,
      "outputs": [
        {
          "output_type": "execute_result",
          "data": {
            "text/plain": [
              "array([0.62242856, 0.32896136, 0.48405074, ..., 0.82301448, 0.29222243,\n",
              "       0.35001954])"
            ]
          },
          "metadata": {
            "tags": []
          },
          "execution_count": 155
        }
      ]
    },
    {
      "cell_type": "code",
      "metadata": {
        "colab": {
          "base_uri": "https://localhost:8080/"
        },
        "id": "BpMhun0q3Eo8",
        "outputId": "1d3b34a9-14bb-4085-c895-7f04311206e0"
      },
      "source": [
        "#After SMOTE\r\n",
        "print(\"Classification Report:\\n\", classification_report(y_test,dtc_pred))\r\n",
        "print(\"Confusion Matrix:\\n\", confusion_matrix(y_test, dtc_pred))\r\n",
        "print(\"Precision Score:\", round(precision_score(y_test, dtc_pred),5))\r\n",
        "print(\"Recall Score:\", round(recall_score(y_test, dtc_pred),5))\r\n",
        "print(\"Accuracy Score:\", round(accuracy_score(y_test, dtc_pred),5))\r\n",
        "print(\"F1 Score:\", round(f1_score(y_test, dtc_pred, average='weighted'),5))\r\n",
        "print(\"ROC: \", round(roc_auc_score(y_test, dtc_prob),5))"
      ],
      "execution_count": null,
      "outputs": [
        {
          "output_type": "stream",
          "text": [
            "Classification Report:\n",
            "               precision    recall  f1-score   support\n",
            "\n",
            "           0       0.65      0.77      0.71    238569\n",
            "           1       0.72      0.58      0.65    239387\n",
            "\n",
            "    accuracy                           0.68    477956\n",
            "   macro avg       0.69      0.68      0.68    477956\n",
            "weighted avg       0.69      0.68      0.68    477956\n",
            "\n",
            "Confusion Matrix:\n",
            " [[184387  54182]\n",
            " [ 99522 139865]]\n",
            "Precision Score: 0.72078\n",
            "Recall Score: 0.58426\n",
            "Accuracy Score: 0.67841\n",
            "F1 Score: 0.67555\n",
            "ROC:  0.74579\n"
          ],
          "name": "stdout"
        }
      ]
    },
    {
      "cell_type": "markdown",
      "metadata": {
        "id": "i0Dl0UK4d4VM"
      },
      "source": [
        "### Random Forest Classifier"
      ]
    },
    {
      "cell_type": "code",
      "metadata": {
        "id": "lHRSL6Xnd4VO"
      },
      "source": [
        "rfc = RandomForestClassifier()"
      ],
      "execution_count": null,
      "outputs": []
    },
    {
      "cell_type": "code",
      "metadata": {
        "colab": {
          "base_uri": "https://localhost:8080/"
        },
        "id": "XWCIMtQxd4VP",
        "outputId": "9a616228-841e-4496-b6d4-0f71291c7615"
      },
      "source": [
        "rfc.fit(X_train, y_train)"
      ],
      "execution_count": null,
      "outputs": [
        {
          "output_type": "execute_result",
          "data": {
            "text/plain": [
              "RandomForestClassifier(bootstrap=True, ccp_alpha=0.0, class_weight=None,\n",
              "                       criterion='gini', max_depth=None, max_features='auto',\n",
              "                       max_leaf_nodes=None, max_samples=None,\n",
              "                       min_impurity_decrease=0.0, min_impurity_split=None,\n",
              "                       min_samples_leaf=1, min_samples_split=2,\n",
              "                       min_weight_fraction_leaf=0.0, n_estimators=100,\n",
              "                       n_jobs=None, oob_score=False, random_state=None,\n",
              "                       verbose=0, warm_start=False)"
            ]
          },
          "metadata": {
            "tags": []
          },
          "execution_count": 159
        }
      ]
    },
    {
      "cell_type": "code",
      "metadata": {
        "colab": {
          "base_uri": "https://localhost:8080/"
        },
        "id": "S9dXwbycd4VP",
        "outputId": "09f92db6-296c-4776-9e1b-bb5647d66a0e"
      },
      "source": [
        "#Obtaining the importance of all the features in the Random Forest Classifier model\r\n",
        "feature_imp = pd.Series(rfc.feature_importances_,index=X_train.columns).sort_values(ascending=False)\r\n",
        "print(\"Important Features are :\\n\",feature_imp)"
      ],
      "execution_count": null,
      "outputs": [
        {
          "output_type": "stream",
          "text": [
            "Important Features are :\n",
            " BMI              0.453870\n",
            "ILP_R            0.282931\n",
            "Visits_11_15     0.023651\n",
            "NO_RISKS_1       0.022038\n",
            "SEX_M            0.020715\n",
            "MBSTATE_REC_2    0.014988\n",
            "PRIORTERM_1      0.013827\n",
            "MRACE6_2         0.013264\n",
            "DMAR_3           0.012658\n",
            "Visits_6_10      0.012047\n",
            "Age_28_33        0.010475\n",
            "Age_22_27        0.010392\n",
            "DMAR_2           0.009847\n",
            "Visits_16_20     0.008875\n",
            "Age_34_39        0.007987\n",
            "MRACE6_4         0.007732\n",
            "CIG_0_1          0.007610\n",
            "RF_CESAR_Y       0.007378\n",
            "PRECARE_2        0.007256\n",
            "PRECARE_3        0.006720\n",
            "PRECARE_1        0.005466\n",
            "PRECARE_4        0.004888\n",
            "MRACE6_6         0.004687\n",
            "Age_40_45        0.004302\n",
            "PRECARE_7        0.004191\n",
            "PRECARE_5        0.004137\n",
            "PRECARE_8        0.003951\n",
            "PRECARE_6        0.003805\n",
            "Visits_21_25     0.003723\n",
            "MRACE6_3         0.002861\n",
            "PRECARE_9        0.002677\n",
            "MRACE6_5         0.001055\n",
            "dtype: float64\n"
          ],
          "name": "stdout"
        }
      ]
    },
    {
      "cell_type": "code",
      "metadata": {
        "id": "hNsFRwTDd4VQ"
      },
      "source": [
        "rfc_pred = rfc.predict(X_test)"
      ],
      "execution_count": null,
      "outputs": []
    },
    {
      "cell_type": "code",
      "metadata": {
        "colab": {
          "base_uri": "https://localhost:8080/"
        },
        "id": "xQtAeZs7d4VQ",
        "outputId": "029130a3-216c-4cb1-a77e-6a59d568509a"
      },
      "source": [
        "rfc_pred"
      ],
      "execution_count": null,
      "outputs": [
        {
          "output_type": "execute_result",
          "data": {
            "text/plain": [
              "array([0, 1, 1, ..., 1, 0, 0])"
            ]
          },
          "metadata": {
            "tags": []
          },
          "execution_count": 164
        }
      ]
    },
    {
      "cell_type": "code",
      "metadata": {
        "id": "Lz87LX6nd4VQ"
      },
      "source": [
        "rfc_prob = rfc.predict_proba(X_test)[:,1]"
      ],
      "execution_count": null,
      "outputs": []
    },
    {
      "cell_type": "code",
      "metadata": {
        "colab": {
          "base_uri": "https://localhost:8080/"
        },
        "id": "TnlkbLrxd4VQ",
        "outputId": "f0bb79e4-191c-4f54-b7ae-d021277f5849"
      },
      "source": [
        "rfc_prob"
      ],
      "execution_count": null,
      "outputs": [
        {
          "output_type": "execute_result",
          "data": {
            "text/plain": [
              "array([0.2 , 0.93, 0.59, ..., 1.  , 0.26, 0.11])"
            ]
          },
          "metadata": {
            "tags": []
          },
          "execution_count": 166
        }
      ]
    },
    {
      "cell_type": "code",
      "metadata": {
        "colab": {
          "base_uri": "https://localhost:8080/"
        },
        "id": "-Q0dWym77G-r",
        "outputId": "9f8eb001-1744-44eb-fade-78d0989bab93"
      },
      "source": [
        "#With SMOTE\r\n",
        "print(\"Classification Report:\\n\", classification_report(y_test, rfc_pred))\r\n",
        "print(\"Confusion Matrix:\\n\", confusion_matrix(y_test, rfc_pred))\r\n",
        "print(\"Precision Score:\", round(precision_score(y_test, rfc_pred),5))\r\n",
        "print(\"Recall Score:\", round(recall_score(y_test, rfc_pred),5))\r\n",
        "print(\"Accuracy Score:\", round(accuracy_score(y_test, rfc_pred),5))\r\n",
        "print(\"F1 Score:\", round(f1_score(y_test, rfc_pred, average='weighted'),5))\r\n",
        "print(\"ROC: \", round(roc_auc_score(y_test, rfc_prob),5))"
      ],
      "execution_count": null,
      "outputs": [
        {
          "output_type": "stream",
          "text": [
            "Classification Report:\n",
            "               precision    recall  f1-score   support\n",
            "\n",
            "           0       0.85      0.85      0.85    238569\n",
            "           1       0.85      0.85      0.85    239387\n",
            "\n",
            "    accuracy                           0.85    477956\n",
            "   macro avg       0.85      0.85      0.85    477956\n",
            "weighted avg       0.85      0.85      0.85    477956\n",
            "\n",
            "Confusion Matrix:\n",
            " [[203698  34871]\n",
            " [ 36314 203073]]\n",
            "Precision Score: 0.85345\n",
            "Recall Score: 0.8483\n",
            "Accuracy Score: 0.85106\n",
            "F1 Score: 0.85106\n",
            "ROC:  0.91401\n"
          ],
          "name": "stdout"
        }
      ]
    },
    {
      "cell_type": "markdown",
      "metadata": {
        "id": "sX6K5Skyd8D5"
      },
      "source": [
        "### Gradient Boosting Classifier"
      ]
    },
    {
      "cell_type": "code",
      "metadata": {
        "id": "cinxGjuvd8D7"
      },
      "source": [
        "gbc = GradientBoostingClassifier()"
      ],
      "execution_count": null,
      "outputs": []
    },
    {
      "cell_type": "code",
      "metadata": {
        "colab": {
          "base_uri": "https://localhost:8080/"
        },
        "id": "yBNbu_GLd8D8",
        "outputId": "0a035526-f464-4a53-d1f6-92daf0db343c"
      },
      "source": [
        "gbc.fit(X_train, y_train)"
      ],
      "execution_count": null,
      "outputs": [
        {
          "output_type": "execute_result",
          "data": {
            "text/plain": [
              "GradientBoostingClassifier(ccp_alpha=0.0, criterion='friedman_mse', init=None,\n",
              "                           learning_rate=0.1, loss='deviance', max_depth=3,\n",
              "                           max_features=None, max_leaf_nodes=None,\n",
              "                           min_impurity_decrease=0.0, min_impurity_split=None,\n",
              "                           min_samples_leaf=1, min_samples_split=2,\n",
              "                           min_weight_fraction_leaf=0.0, n_estimators=100,\n",
              "                           n_iter_no_change=None, presort='deprecated',\n",
              "                           random_state=None, subsample=1.0, tol=0.0001,\n",
              "                           validation_fraction=0.1, verbose=0,\n",
              "                           warm_start=False)"
            ]
          },
          "metadata": {
            "tags": []
          },
          "execution_count": 169
        }
      ]
    },
    {
      "cell_type": "code",
      "metadata": {
        "colab": {
          "base_uri": "https://localhost:8080/"
        },
        "id": "7Fjyd2EZd8D9",
        "outputId": "f6370f7d-bdeb-42ac-f4fc-2cab310ec8f2"
      },
      "source": [
        "#Loss Function used\r\n",
        "gbc.loss_\r\n",
        "#Deviance"
      ],
      "execution_count": null,
      "outputs": [
        {
          "output_type": "execute_result",
          "data": {
            "text/plain": [
              "<sklearn.ensemble._gb_losses.BinomialDeviance at 0x7f61c3ae27b8>"
            ]
          },
          "metadata": {
            "tags": []
          },
          "execution_count": 170
        }
      ]
    },
    {
      "cell_type": "code",
      "metadata": {
        "colab": {
          "base_uri": "https://localhost:8080/"
        },
        "id": "5-mD_P0Bd8D9",
        "outputId": "92c9a6dd-e5ba-449c-f315-64da110917e0"
      },
      "source": [
        "#Obtaining the importance of all the features in the Gradient Boosting Classifier model\r\n",
        "feature_imp = pd.Series(gbc.feature_importances_,index=X_train.columns).sort_values(ascending=False)\r\n",
        "print(\"Important Features are :\\n\",feature_imp)"
      ],
      "execution_count": null,
      "outputs": [
        {
          "output_type": "stream",
          "text": [
            "Important Features are :\n",
            " ILP_R            0.465403\n",
            "Visits_11_15     0.149153\n",
            "NO_RISKS_1       0.089202\n",
            "MRACE6_2         0.053418\n",
            "Visits_6_10      0.041263\n",
            "Visits_16_20     0.034157\n",
            "BMI              0.022870\n",
            "PRECARE_8        0.017497\n",
            "RF_CESAR_Y       0.017226\n",
            "Visits_21_25     0.013184\n",
            "PRECARE_9        0.012668\n",
            "PRECARE_1        0.010882\n",
            "PRECARE_7        0.010145\n",
            "MRACE6_3         0.009568\n",
            "PRECARE_6        0.009132\n",
            "DMAR_2           0.007888\n",
            "MBSTATE_REC_2    0.006674\n",
            "PRECARE_5        0.006249\n",
            "MRACE6_6         0.005745\n",
            "PRECARE_2        0.005087\n",
            "PRECARE_4        0.003562\n",
            "CIG_0_1          0.002613\n",
            "MRACE6_5         0.002403\n",
            "DMAR_3           0.001149\n",
            "PRIORTERM_1      0.001086\n",
            "SEX_M            0.000920\n",
            "Age_34_39        0.000651\n",
            "PRECARE_3        0.000107\n",
            "MRACE6_4         0.000084\n",
            "Age_28_33        0.000007\n",
            "Age_40_45        0.000006\n",
            "Age_22_27        0.000000\n",
            "dtype: float64\n"
          ],
          "name": "stdout"
        }
      ]
    },
    {
      "cell_type": "code",
      "metadata": {
        "id": "LstGqhF2d8D9"
      },
      "source": [
        "gbc_pred = gbc.predict(X_test)"
      ],
      "execution_count": null,
      "outputs": []
    },
    {
      "cell_type": "code",
      "metadata": {
        "colab": {
          "base_uri": "https://localhost:8080/"
        },
        "id": "r60ldMaOd8D9",
        "outputId": "76766fda-ac5f-4865-e85c-a0f47ff5b47f"
      },
      "source": [
        "gbc_pred"
      ],
      "execution_count": null,
      "outputs": [
        {
          "output_type": "execute_result",
          "data": {
            "text/plain": [
              "array([1, 0, 1, ..., 1, 0, 0])"
            ]
          },
          "metadata": {
            "tags": []
          },
          "execution_count": 173
        }
      ]
    },
    {
      "cell_type": "code",
      "metadata": {
        "id": "m0Zxf6IWd8D-"
      },
      "source": [
        "gbc_prob = gbc.predict_proba(X_test)[:,1]"
      ],
      "execution_count": null,
      "outputs": []
    },
    {
      "cell_type": "code",
      "metadata": {
        "colab": {
          "base_uri": "https://localhost:8080/"
        },
        "id": "6ATU1x4Nd8D-",
        "outputId": "d59b4c88-c175-43c2-9f56-4cb3d97983bb"
      },
      "source": [
        "gbc_prob"
      ],
      "execution_count": null,
      "outputs": [
        {
          "output_type": "execute_result",
          "data": {
            "text/plain": [
              "array([0.51492552, 0.39770176, 0.51780891, ..., 0.81537137, 0.29982426,\n",
              "       0.30820469])"
            ]
          },
          "metadata": {
            "tags": []
          },
          "execution_count": 175
        }
      ]
    },
    {
      "cell_type": "code",
      "metadata": {
        "colab": {
          "base_uri": "https://localhost:8080/"
        },
        "id": "r7HV7Zk4d8D-",
        "outputId": "da2df67b-c269-4d30-a509-fd1bca652b15"
      },
      "source": [
        "print(\"Classification Report:\\n\", classification_report(y_test,gbc_pred))\r\n",
        "print(\"Confusion Matrix:\\n\", confusion_matrix(y_test,gbc_pred))\r\n",
        "print(\"Precision Score:\", round(precision_score(y_test, gbc_pred),5))\r\n",
        "print(\"Recall Score:\", round(recall_score(y_test, gbc_pred),5))\r\n",
        "print(\"Accuracy Score:\", round(accuracy_score(y_test, gbc_pred),5))\r\n",
        "print(\"F1 Score:\", round(f1_score(y_test, gbc_pred, average='weighted'),5))\r\n",
        "print(\"ROC: \", round(roc_auc_score(y_test, gbc_prob),5))"
      ],
      "execution_count": null,
      "outputs": [
        {
          "output_type": "stream",
          "text": [
            "Classification Report:\n",
            "               precision    recall  f1-score   support\n",
            "\n",
            "           0       0.67      0.73      0.70    238569\n",
            "           1       0.70      0.64      0.67    239387\n",
            "\n",
            "    accuracy                           0.68    477956\n",
            "   macro avg       0.69      0.68      0.68    477956\n",
            "weighted avg       0.69      0.68      0.68    477956\n",
            "\n",
            "Confusion Matrix:\n",
            " [[173004  65565]\n",
            " [ 85373 154014]]\n",
            "Precision Score: 0.70141\n",
            "Recall Score: 0.64337\n",
            "Accuracy Score: 0.6842\n",
            "F1 Score: 0.68368\n",
            "ROC:  0.75131\n"
          ],
          "name": "stdout"
        }
      ]
    },
    {
      "cell_type": "markdown",
      "metadata": {
        "id": "E4gepzvgd_HX"
      },
      "source": [
        "### XGBoost"
      ]
    },
    {
      "cell_type": "code",
      "metadata": {
        "id": "VZylz6bPd_HZ"
      },
      "source": [
        "xbgc = xgb.XGBClassifier()"
      ],
      "execution_count": null,
      "outputs": []
    },
    {
      "cell_type": "code",
      "metadata": {
        "colab": {
          "base_uri": "https://localhost:8080/"
        },
        "id": "r_xwGuuod_Ha",
        "outputId": "85bc1e08-3f98-4936-dad9-02f031254197"
      },
      "source": [
        "xbgc.fit(X_train,y_train)"
      ],
      "execution_count": null,
      "outputs": [
        {
          "output_type": "execute_result",
          "data": {
            "text/plain": [
              "XGBClassifier(base_score=0.5, booster='gbtree', colsample_bylevel=1,\n",
              "              colsample_bynode=1, colsample_bytree=1, gamma=0,\n",
              "              learning_rate=0.1, max_delta_step=0, max_depth=3,\n",
              "              min_child_weight=1, missing=None, n_estimators=100, n_jobs=1,\n",
              "              nthread=None, objective='binary:logistic', random_state=0,\n",
              "              reg_alpha=0, reg_lambda=1, scale_pos_weight=1, seed=None,\n",
              "              silent=None, subsample=1, verbosity=1)"
            ]
          },
          "metadata": {
            "tags": []
          },
          "execution_count": 178
        }
      ]
    },
    {
      "cell_type": "code",
      "metadata": {
        "id": "Xtwm7TUdd_Ha"
      },
      "source": [
        "xbgc_pred = xbgc.predict(X_test)"
      ],
      "execution_count": null,
      "outputs": []
    },
    {
      "cell_type": "code",
      "metadata": {
        "colab": {
          "base_uri": "https://localhost:8080/"
        },
        "id": "KwVuNsWPNZ7L",
        "outputId": "062ccee1-ef1b-4294-ab76-b3bb050966c9"
      },
      "source": [
        "xbgc_pred"
      ],
      "execution_count": null,
      "outputs": [
        {
          "output_type": "execute_result",
          "data": {
            "text/plain": [
              "array([0, 0, 1, ..., 1, 0, 0])"
            ]
          },
          "metadata": {
            "tags": []
          },
          "execution_count": 180
        }
      ]
    },
    {
      "cell_type": "code",
      "metadata": {
        "id": "ivps0UE4d_Ha"
      },
      "source": [
        "xbgc_prob = xbgc.predict_proba(X_test)[:,1]"
      ],
      "execution_count": null,
      "outputs": []
    },
    {
      "cell_type": "code",
      "metadata": {
        "colab": {
          "base_uri": "https://localhost:8080/"
        },
        "id": "bId1vWHRNbuL",
        "outputId": "19a75284-2c1f-49a5-bd2f-7730b337e7a5"
      },
      "source": [
        "xbgc_prob"
      ],
      "execution_count": null,
      "outputs": [
        {
          "output_type": "execute_result",
          "data": {
            "text/plain": [
              "array([0.4768398 , 0.38746753, 0.53044146, ..., 0.8207871 , 0.30277377,\n",
              "       0.29858485], dtype=float32)"
            ]
          },
          "metadata": {
            "tags": []
          },
          "execution_count": 182
        }
      ]
    },
    {
      "cell_type": "code",
      "metadata": {
        "colab": {
          "base_uri": "https://localhost:8080/"
        },
        "id": "s4nDOWKcNcxu",
        "outputId": "e2da197b-e4ad-404a-d81d-48be01fa7c9d"
      },
      "source": [
        "#With SMOTE\r\n",
        "print(\"Classification Report:\\n\", classification_report(y_test,xbgc_pred))\r\n",
        "print(\"Confusion Matrix:\\n\", confusion_matrix(y_test, xbgc_pred))\r\n",
        "print(\"Precision Score:\", round(precision_score(y_test, xbgc_pred),5))\r\n",
        "print(\"Recall Score:\", round(recall_score(y_test, xbgc_pred),5))\r\n",
        "print(\"Accuracy Score:\", round(accuracy_score(y_test, xbgc_pred),5))\r\n",
        "print(\"F1 Score:\", round(f1_score(y_test, xbgc_pred, average='weighted'),5))\r\n",
        "print(\"ROC: \", round(roc_auc_score(y_test, xbgc_prob),5))"
      ],
      "execution_count": null,
      "outputs": [
        {
          "output_type": "stream",
          "text": [
            "Classification Report:\n",
            "               precision    recall  f1-score   support\n",
            "\n",
            "           0       0.67      0.73      0.70    238569\n",
            "           1       0.71      0.64      0.67    239387\n",
            "\n",
            "    accuracy                           0.69    477956\n",
            "   macro avg       0.69      0.69      0.69    477956\n",
            "weighted avg       0.69      0.69      0.69    477956\n",
            "\n",
            "Confusion Matrix:\n",
            " [[175146  63423]\n",
            " [ 86108 153279]]\n",
            "Precision Score: 0.70733\n",
            "Recall Score: 0.6403\n",
            "Accuracy Score: 0.68714\n",
            "F1 Score: 0.68646\n",
            "ROC:  0.75475\n"
          ],
          "name": "stdout"
        }
      ]
    },
    {
      "cell_type": "markdown",
      "metadata": {
        "id": "9OkX7v6JeHm4"
      },
      "source": [
        "### CatBoost"
      ]
    },
    {
      "cell_type": "code",
      "metadata": {
        "id": "oB0a2HJXeHm7"
      },
      "source": [
        "CBC = CatBoostClassifier()"
      ],
      "execution_count": null,
      "outputs": []
    },
    {
      "cell_type": "code",
      "metadata": {
        "colab": {
          "base_uri": "https://localhost:8080/",
          "height": 299
        },
        "id": "vIJIjrzVniNB",
        "outputId": "39cd82a9-2fe8-43bd-f031-ea7a174727b2"
      },
      "source": [
        "X1.head()"
      ],
      "execution_count": null,
      "outputs": [
        {
          "output_type": "execute_result",
          "data": {
            "text/html": [
              "<div>\n",
              "<style scoped>\n",
              "    .dataframe tbody tr th:only-of-type {\n",
              "        vertical-align: middle;\n",
              "    }\n",
              "\n",
              "    .dataframe tbody tr th {\n",
              "        vertical-align: top;\n",
              "    }\n",
              "\n",
              "    .dataframe thead th {\n",
              "        text-align: right;\n",
              "    }\n",
              "</style>\n",
              "<table border=\"1\" class=\"dataframe\">\n",
              "  <thead>\n",
              "    <tr style=\"text-align: right;\">\n",
              "      <th></th>\n",
              "      <th>BMI</th>\n",
              "      <th>CIG_0</th>\n",
              "      <th>DMAR</th>\n",
              "      <th>ILP_R</th>\n",
              "      <th>MBSTATE_REC</th>\n",
              "      <th>MRACE6</th>\n",
              "      <th>NO_RISKS</th>\n",
              "      <th>PRECARE</th>\n",
              "      <th>PRIORTERM</th>\n",
              "      <th>RF_CESAR</th>\n",
              "      <th>SEX</th>\n",
              "      <th>Age</th>\n",
              "      <th>Visits</th>\n",
              "    </tr>\n",
              "  </thead>\n",
              "  <tbody>\n",
              "    <tr>\n",
              "      <th>0</th>\n",
              "      <td>0.580249</td>\n",
              "      <td>0</td>\n",
              "      <td>1</td>\n",
              "      <td>-0.358559</td>\n",
              "      <td>1</td>\n",
              "      <td>1</td>\n",
              "      <td>1</td>\n",
              "      <td>3</td>\n",
              "      <td>1</td>\n",
              "      <td>N</td>\n",
              "      <td>M</td>\n",
              "      <td>(27.0, 33.0]</td>\n",
              "      <td>(5.0, 10.0]</td>\n",
              "    </tr>\n",
              "    <tr>\n",
              "      <th>1</th>\n",
              "      <td>-0.485867</td>\n",
              "      <td>0</td>\n",
              "      <td>2</td>\n",
              "      <td>0.369112</td>\n",
              "      <td>1</td>\n",
              "      <td>3</td>\n",
              "      <td>1</td>\n",
              "      <td>5</td>\n",
              "      <td>0</td>\n",
              "      <td>N</td>\n",
              "      <td>F</td>\n",
              "      <td>(21.0, 27.0]</td>\n",
              "      <td>(5.0, 10.0]</td>\n",
              "    </tr>\n",
              "    <tr>\n",
              "      <th>2</th>\n",
              "      <td>0.671631</td>\n",
              "      <td>0</td>\n",
              "      <td>1</td>\n",
              "      <td>0.261309</td>\n",
              "      <td>1</td>\n",
              "      <td>1</td>\n",
              "      <td>1</td>\n",
              "      <td>2</td>\n",
              "      <td>0</td>\n",
              "      <td>N</td>\n",
              "      <td>F</td>\n",
              "      <td>(21.0, 27.0]</td>\n",
              "      <td>(10.0, 15.0]</td>\n",
              "    </tr>\n",
              "    <tr>\n",
              "      <th>3</th>\n",
              "      <td>-0.592479</td>\n",
              "      <td>0</td>\n",
              "      <td>1</td>\n",
              "      <td>-0.062100</td>\n",
              "      <td>1</td>\n",
              "      <td>1</td>\n",
              "      <td>1</td>\n",
              "      <td>3</td>\n",
              "      <td>0</td>\n",
              "      <td>N</td>\n",
              "      <td>F</td>\n",
              "      <td>(27.0, 33.0]</td>\n",
              "      <td>(5.0, 10.0]</td>\n",
              "    </tr>\n",
              "    <tr>\n",
              "      <th>4</th>\n",
              "      <td>0.199493</td>\n",
              "      <td>0</td>\n",
              "      <td>1</td>\n",
              "      <td>-0.789771</td>\n",
              "      <td>1</td>\n",
              "      <td>1</td>\n",
              "      <td>1</td>\n",
              "      <td>3</td>\n",
              "      <td>0</td>\n",
              "      <td>N</td>\n",
              "      <td>F</td>\n",
              "      <td>(27.0, 33.0]</td>\n",
              "      <td>(15.0, 20.0]</td>\n",
              "    </tr>\n",
              "  </tbody>\n",
              "</table>\n",
              "</div>"
            ],
            "text/plain": [
              "        BMI  CIG_0  DMAR     ILP_R  ...  RF_CESAR  SEX           Age        Visits\n",
              "0  0.580249      0     1 -0.358559  ...         N    M  (27.0, 33.0]   (5.0, 10.0]\n",
              "1 -0.485867      0     2  0.369112  ...         N    F  (21.0, 27.0]   (5.0, 10.0]\n",
              "2  0.671631      0     1  0.261309  ...         N    F  (21.0, 27.0]  (10.0, 15.0]\n",
              "3 -0.592479      0     1 -0.062100  ...         N    F  (27.0, 33.0]   (5.0, 10.0]\n",
              "4  0.199493      0     1 -0.789771  ...         N    F  (27.0, 33.0]  (15.0, 20.0]\n",
              "\n",
              "[5 rows x 13 columns]"
            ]
          },
          "metadata": {
            "tags": []
          },
          "execution_count": 186
        }
      ]
    },
    {
      "cell_type": "code",
      "metadata": {
        "id": "Wx1F4A1UOMqj"
      },
      "source": [
        "X0_train, X0_test, y0_train, y0_test = train_test_split(X1, y_smote, test_size=0.3, random_state=24)"
      ],
      "execution_count": null,
      "outputs": []
    },
    {
      "cell_type": "code",
      "metadata": {
        "colab": {
          "base_uri": "https://localhost:8080/"
        },
        "id": "ryfNIoUxOM9W",
        "outputId": "fa67e4a6-63d3-4676-fc5a-bb9ce7f91562"
      },
      "source": [
        "CBC.fit(X0_train, y0_train, cat_features=cat_cols)"
      ],
      "execution_count": null,
      "outputs": [
        {
          "output_type": "stream",
          "text": [
            "Learning rate set to 0.206138\n",
            "0:\tlearn: 0.6607643\ttotal: 1.75s\tremaining: 29m 11s\n",
            "1:\tlearn: 0.6414184\ttotal: 3.74s\tremaining: 31m 7s\n",
            "2:\tlearn: 0.6316928\ttotal: 5.01s\tremaining: 27m 45s\n",
            "3:\tlearn: 0.6245504\ttotal: 6.64s\tremaining: 27m 34s\n",
            "4:\tlearn: 0.6168645\ttotal: 8.19s\tremaining: 27m 8s\n",
            "5:\tlearn: 0.6123305\ttotal: 9.17s\tremaining: 25m 18s\n",
            "6:\tlearn: 0.6090897\ttotal: 10.4s\tremaining: 24m 40s\n",
            "7:\tlearn: 0.6066687\ttotal: 11.5s\tremaining: 23m 51s\n",
            "8:\tlearn: 0.5968555\ttotal: 13.3s\tremaining: 24m 30s\n",
            "9:\tlearn: 0.5883396\ttotal: 15.2s\tremaining: 25m 8s\n",
            "10:\tlearn: 0.5817158\ttotal: 17.1s\tremaining: 25m 35s\n",
            "11:\tlearn: 0.5763096\ttotal: 18.7s\tremaining: 25m 38s\n",
            "12:\tlearn: 0.5742524\ttotal: 20.1s\tremaining: 25m 23s\n",
            "13:\tlearn: 0.5716965\ttotal: 21.8s\tremaining: 25m 33s\n",
            "14:\tlearn: 0.5701859\ttotal: 23.1s\tremaining: 25m 18s\n",
            "15:\tlearn: 0.5689485\ttotal: 24.5s\tremaining: 25m 4s\n",
            "16:\tlearn: 0.5649992\ttotal: 26s\tremaining: 25m 6s\n",
            "17:\tlearn: 0.5610632\ttotal: 28s\tremaining: 25m 27s\n",
            "18:\tlearn: 0.5583268\ttotal: 29.4s\tremaining: 25m 17s\n",
            "19:\tlearn: 0.5555187\ttotal: 31.1s\tremaining: 25m 25s\n",
            "20:\tlearn: 0.5496962\ttotal: 33s\tremaining: 25m 38s\n",
            "21:\tlearn: 0.5454575\ttotal: 34.8s\tremaining: 25m 44s\n",
            "22:\tlearn: 0.5386654\ttotal: 36.5s\tremaining: 25m 48s\n",
            "23:\tlearn: 0.5378084\ttotal: 38.1s\tremaining: 25m 50s\n",
            "24:\tlearn: 0.5371927\ttotal: 39.7s\tremaining: 25m 48s\n",
            "25:\tlearn: 0.5332382\ttotal: 41.5s\tremaining: 25m 54s\n",
            "26:\tlearn: 0.5271521\ttotal: 43.2s\tremaining: 25m 56s\n",
            "27:\tlearn: 0.5243025\ttotal: 44.9s\tremaining: 25m 58s\n",
            "28:\tlearn: 0.5173477\ttotal: 46.8s\tremaining: 26m 5s\n",
            "29:\tlearn: 0.5122683\ttotal: 48.4s\tremaining: 26m 6s\n",
            "30:\tlearn: 0.5025519\ttotal: 50.1s\tremaining: 26m 6s\n",
            "31:\tlearn: 0.4994854\ttotal: 51.9s\tremaining: 26m 10s\n",
            "32:\tlearn: 0.4893179\ttotal: 53.6s\tremaining: 26m 10s\n",
            "33:\tlearn: 0.4863161\ttotal: 55.3s\tremaining: 26m 12s\n",
            "34:\tlearn: 0.4808453\ttotal: 57.2s\tremaining: 26m 16s\n",
            "35:\tlearn: 0.4789130\ttotal: 58.8s\tremaining: 26m 14s\n",
            "36:\tlearn: 0.4748800\ttotal: 1m\tremaining: 26m 17s\n",
            "37:\tlearn: 0.4705716\ttotal: 1m 2s\tremaining: 26m 19s\n",
            "38:\tlearn: 0.4685142\ttotal: 1m 4s\tremaining: 26m 25s\n",
            "39:\tlearn: 0.4666150\ttotal: 1m 6s\tremaining: 26m 27s\n",
            "40:\tlearn: 0.4657779\ttotal: 1m 8s\tremaining: 26m 30s\n",
            "41:\tlearn: 0.4648698\ttotal: 1m 9s\tremaining: 26m 26s\n",
            "42:\tlearn: 0.4638997\ttotal: 1m 11s\tremaining: 26m 25s\n",
            "43:\tlearn: 0.4631321\ttotal: 1m 12s\tremaining: 26m 22s\n",
            "44:\tlearn: 0.4624582\ttotal: 1m 14s\tremaining: 26m 25s\n",
            "45:\tlearn: 0.4619380\ttotal: 1m 16s\tremaining: 26m 23s\n",
            "46:\tlearn: 0.4609095\ttotal: 1m 18s\tremaining: 26m 23s\n",
            "47:\tlearn: 0.4598412\ttotal: 1m 19s\tremaining: 26m 23s\n",
            "48:\tlearn: 0.4583821\ttotal: 1m 21s\tremaining: 26m 23s\n",
            "49:\tlearn: 0.4576298\ttotal: 1m 23s\tremaining: 26m 24s\n",
            "50:\tlearn: 0.4546088\ttotal: 1m 25s\tremaining: 26m 24s\n",
            "51:\tlearn: 0.4543782\ttotal: 1m 26s\tremaining: 26m 23s\n",
            "52:\tlearn: 0.4510723\ttotal: 1m 28s\tremaining: 26m 25s\n",
            "53:\tlearn: 0.4506484\ttotal: 1m 30s\tremaining: 26m 23s\n",
            "54:\tlearn: 0.4503742\ttotal: 1m 31s\tremaining: 26m 17s\n",
            "55:\tlearn: 0.4492635\ttotal: 1m 33s\tremaining: 26m 18s\n",
            "56:\tlearn: 0.4489030\ttotal: 1m 35s\tremaining: 26m 11s\n",
            "57:\tlearn: 0.4470680\ttotal: 1m 36s\tremaining: 26m 9s\n",
            "58:\tlearn: 0.4445573\ttotal: 1m 38s\tremaining: 26m 9s\n",
            "59:\tlearn: 0.4434852\ttotal: 1m 40s\tremaining: 26m 7s\n",
            "60:\tlearn: 0.4416463\ttotal: 1m 41s\tremaining: 26m 6s\n",
            "61:\tlearn: 0.4400381\ttotal: 1m 43s\tremaining: 26m 7s\n",
            "62:\tlearn: 0.4375402\ttotal: 1m 45s\tremaining: 26m 5s\n",
            "63:\tlearn: 0.4369413\ttotal: 1m 46s\tremaining: 26m 3s\n",
            "64:\tlearn: 0.4365037\ttotal: 1m 48s\tremaining: 26m 3s\n",
            "65:\tlearn: 0.4350838\ttotal: 1m 50s\tremaining: 26m 2s\n",
            "66:\tlearn: 0.4339266\ttotal: 1m 52s\tremaining: 26m 1s\n",
            "67:\tlearn: 0.4329866\ttotal: 1m 53s\tremaining: 25m 59s\n",
            "68:\tlearn: 0.4327744\ttotal: 1m 55s\tremaining: 25m 57s\n",
            "69:\tlearn: 0.4321565\ttotal: 1m 57s\tremaining: 25m 56s\n",
            "70:\tlearn: 0.4298164\ttotal: 1m 58s\tremaining: 25m 56s\n",
            "71:\tlearn: 0.4268161\ttotal: 2m\tremaining: 25m 56s\n",
            "72:\tlearn: 0.4255541\ttotal: 2m 2s\tremaining: 25m 57s\n",
            "73:\tlearn: 0.4225994\ttotal: 2m 4s\tremaining: 25m 59s\n",
            "74:\tlearn: 0.4194770\ttotal: 2m 6s\tremaining: 26m\n",
            "75:\tlearn: 0.4174543\ttotal: 2m 8s\tremaining: 25m 57s\n",
            "76:\tlearn: 0.4156373\ttotal: 2m 10s\tremaining: 25m 59s\n",
            "77:\tlearn: 0.4149881\ttotal: 2m 11s\tremaining: 25m 58s\n",
            "78:\tlearn: 0.4137753\ttotal: 2m 13s\tremaining: 25m 59s\n",
            "79:\tlearn: 0.4126676\ttotal: 2m 15s\tremaining: 25m 57s\n",
            "80:\tlearn: 0.4112994\ttotal: 2m 17s\tremaining: 25m 57s\n",
            "81:\tlearn: 0.4094026\ttotal: 2m 18s\tremaining: 25m 54s\n",
            "82:\tlearn: 0.4092060\ttotal: 2m 20s\tremaining: 25m 52s\n",
            "83:\tlearn: 0.4083230\ttotal: 2m 22s\tremaining: 25m 49s\n",
            "84:\tlearn: 0.4069001\ttotal: 2m 23s\tremaining: 25m 46s\n",
            "85:\tlearn: 0.4063363\ttotal: 2m 25s\tremaining: 25m 44s\n",
            "86:\tlearn: 0.4061251\ttotal: 2m 27s\tremaining: 25m 43s\n",
            "87:\tlearn: 0.4059709\ttotal: 2m 28s\tremaining: 25m 42s\n",
            "88:\tlearn: 0.4047827\ttotal: 2m 30s\tremaining: 25m 42s\n",
            "89:\tlearn: 0.4019565\ttotal: 2m 32s\tremaining: 25m 41s\n",
            "90:\tlearn: 0.3993957\ttotal: 2m 34s\tremaining: 25m 41s\n",
            "91:\tlearn: 0.3969508\ttotal: 2m 36s\tremaining: 25m 41s\n",
            "92:\tlearn: 0.3948348\ttotal: 2m 37s\tremaining: 25m 40s\n",
            "93:\tlearn: 0.3929265\ttotal: 2m 39s\tremaining: 25m 37s\n",
            "94:\tlearn: 0.3905909\ttotal: 2m 41s\tremaining: 25m 36s\n",
            "95:\tlearn: 0.3878622\ttotal: 2m 43s\tremaining: 25m 37s\n",
            "96:\tlearn: 0.3868585\ttotal: 2m 45s\tremaining: 25m 37s\n",
            "97:\tlearn: 0.3855254\ttotal: 2m 46s\tremaining: 25m 36s\n",
            "98:\tlearn: 0.3842901\ttotal: 2m 48s\tremaining: 25m 35s\n",
            "99:\tlearn: 0.3829735\ttotal: 2m 50s\tremaining: 25m 32s\n",
            "100:\tlearn: 0.3801586\ttotal: 2m 52s\tremaining: 25m 31s\n",
            "101:\tlearn: 0.3783299\ttotal: 2m 53s\tremaining: 25m 30s\n",
            "102:\tlearn: 0.3770835\ttotal: 2m 55s\tremaining: 25m 30s\n",
            "103:\tlearn: 0.3762429\ttotal: 2m 57s\tremaining: 25m 29s\n",
            "104:\tlearn: 0.3750430\ttotal: 2m 59s\tremaining: 25m 27s\n",
            "105:\tlearn: 0.3738158\ttotal: 3m\tremaining: 25m 24s\n",
            "106:\tlearn: 0.3735210\ttotal: 3m 2s\tremaining: 25m 23s\n",
            "107:\tlearn: 0.3729772\ttotal: 3m 4s\tremaining: 25m 21s\n",
            "108:\tlearn: 0.3726533\ttotal: 3m 5s\tremaining: 25m 20s\n",
            "109:\tlearn: 0.3717305\ttotal: 3m 7s\tremaining: 25m 20s\n",
            "110:\tlearn: 0.3715000\ttotal: 3m 9s\tremaining: 25m 18s\n",
            "111:\tlearn: 0.3713203\ttotal: 3m 11s\tremaining: 25m 15s\n",
            "112:\tlearn: 0.3712511\ttotal: 3m 12s\tremaining: 25m 13s\n",
            "113:\tlearn: 0.3703141\ttotal: 3m 14s\tremaining: 25m 11s\n",
            "114:\tlearn: 0.3701681\ttotal: 3m 16s\tremaining: 25m 10s\n",
            "115:\tlearn: 0.3701061\ttotal: 3m 17s\tremaining: 25m 8s\n",
            "116:\tlearn: 0.3684901\ttotal: 3m 19s\tremaining: 25m 7s\n",
            "117:\tlearn: 0.3676590\ttotal: 3m 21s\tremaining: 25m 5s\n",
            "118:\tlearn: 0.3669388\ttotal: 3m 23s\tremaining: 25m 4s\n",
            "119:\tlearn: 0.3664744\ttotal: 3m 24s\tremaining: 25m 3s\n",
            "120:\tlearn: 0.3661089\ttotal: 3m 26s\tremaining: 25m 2s\n",
            "121:\tlearn: 0.3655127\ttotal: 3m 28s\tremaining: 25m\n",
            "122:\tlearn: 0.3645519\ttotal: 3m 30s\tremaining: 24m 59s\n",
            "123:\tlearn: 0.3638744\ttotal: 3m 32s\tremaining: 24m 59s\n",
            "124:\tlearn: 0.3635196\ttotal: 3m 33s\tremaining: 24m 57s\n",
            "125:\tlearn: 0.3631172\ttotal: 3m 35s\tremaining: 24m 56s\n",
            "126:\tlearn: 0.3626906\ttotal: 3m 37s\tremaining: 24m 56s\n",
            "127:\tlearn: 0.3623560\ttotal: 3m 39s\tremaining: 24m 55s\n",
            "128:\tlearn: 0.3615990\ttotal: 3m 41s\tremaining: 24m 54s\n",
            "129:\tlearn: 0.3613729\ttotal: 3m 42s\tremaining: 24m 49s\n",
            "130:\tlearn: 0.3611809\ttotal: 3m 44s\tremaining: 24m 49s\n",
            "131:\tlearn: 0.3607541\ttotal: 3m 46s\tremaining: 24m 47s\n",
            "132:\tlearn: 0.3598599\ttotal: 3m 47s\tremaining: 24m 45s\n",
            "133:\tlearn: 0.3593452\ttotal: 3m 49s\tremaining: 24m 44s\n",
            "134:\tlearn: 0.3592500\ttotal: 3m 51s\tremaining: 24m 42s\n",
            "135:\tlearn: 0.3591443\ttotal: 3m 52s\tremaining: 24m 38s\n",
            "136:\tlearn: 0.3590709\ttotal: 3m 54s\tremaining: 24m 37s\n",
            "137:\tlearn: 0.3585620\ttotal: 3m 56s\tremaining: 24m 35s\n",
            "138:\tlearn: 0.3578655\ttotal: 3m 57s\tremaining: 24m 33s\n",
            "139:\tlearn: 0.3570013\ttotal: 3m 59s\tremaining: 24m 31s\n",
            "140:\tlearn: 0.3562184\ttotal: 4m 1s\tremaining: 24m 30s\n",
            "141:\tlearn: 0.3555518\ttotal: 4m 3s\tremaining: 24m 30s\n",
            "142:\tlearn: 0.3548899\ttotal: 4m 4s\tremaining: 24m 28s\n",
            "143:\tlearn: 0.3547896\ttotal: 4m 6s\tremaining: 24m 27s\n",
            "144:\tlearn: 0.3544630\ttotal: 4m 8s\tremaining: 24m 26s\n",
            "145:\tlearn: 0.3542506\ttotal: 4m 10s\tremaining: 24m 24s\n",
            "146:\tlearn: 0.3541353\ttotal: 4m 12s\tremaining: 24m 22s\n",
            "147:\tlearn: 0.3536442\ttotal: 4m 13s\tremaining: 24m 21s\n",
            "148:\tlearn: 0.3535145\ttotal: 4m 15s\tremaining: 24m 20s\n",
            "149:\tlearn: 0.3534331\ttotal: 4m 17s\tremaining: 24m 18s\n",
            "150:\tlearn: 0.3532548\ttotal: 4m 19s\tremaining: 24m 16s\n",
            "151:\tlearn: 0.3531326\ttotal: 4m 20s\tremaining: 24m 14s\n",
            "152:\tlearn: 0.3530505\ttotal: 4m 22s\tremaining: 24m 11s\n",
            "153:\tlearn: 0.3529619\ttotal: 4m 23s\tremaining: 24m 7s\n",
            "154:\tlearn: 0.3528300\ttotal: 4m 25s\tremaining: 24m 5s\n",
            "155:\tlearn: 0.3527023\ttotal: 4m 26s\tremaining: 24m 3s\n",
            "156:\tlearn: 0.3520671\ttotal: 4m 28s\tremaining: 24m 1s\n",
            "157:\tlearn: 0.3517141\ttotal: 4m 30s\tremaining: 23m 59s\n",
            "158:\tlearn: 0.3506421\ttotal: 4m 31s\tremaining: 23m 57s\n",
            "159:\tlearn: 0.3505812\ttotal: 4m 33s\tremaining: 23m 55s\n",
            "160:\tlearn: 0.3498933\ttotal: 4m 35s\tremaining: 23m 54s\n",
            "161:\tlearn: 0.3495043\ttotal: 4m 37s\tremaining: 23m 53s\n",
            "162:\tlearn: 0.3485996\ttotal: 4m 39s\tremaining: 23m 52s\n",
            "163:\tlearn: 0.3480921\ttotal: 4m 40s\tremaining: 23m 50s\n",
            "164:\tlearn: 0.3475794\ttotal: 4m 42s\tremaining: 23m 49s\n",
            "165:\tlearn: 0.3468521\ttotal: 4m 44s\tremaining: 23m 47s\n",
            "166:\tlearn: 0.3465190\ttotal: 4m 45s\tremaining: 23m 45s\n",
            "167:\tlearn: 0.3457631\ttotal: 4m 47s\tremaining: 23m 44s\n",
            "168:\tlearn: 0.3452211\ttotal: 4m 49s\tremaining: 23m 42s\n",
            "169:\tlearn: 0.3450949\ttotal: 4m 50s\tremaining: 23m 40s\n",
            "170:\tlearn: 0.3450281\ttotal: 4m 52s\tremaining: 23m 37s\n",
            "171:\tlearn: 0.3449958\ttotal: 4m 53s\tremaining: 23m 35s\n",
            "172:\tlearn: 0.3447253\ttotal: 4m 55s\tremaining: 23m 33s\n",
            "173:\tlearn: 0.3439704\ttotal: 4m 57s\tremaining: 23m 32s\n",
            "174:\tlearn: 0.3436310\ttotal: 4m 59s\tremaining: 23m 31s\n",
            "175:\tlearn: 0.3435484\ttotal: 5m\tremaining: 23m 28s\n",
            "176:\tlearn: 0.3433233\ttotal: 5m 2s\tremaining: 23m 27s\n",
            "177:\tlearn: 0.3432453\ttotal: 5m 4s\tremaining: 23m 25s\n",
            "178:\tlearn: 0.3423721\ttotal: 5m 5s\tremaining: 23m 23s\n",
            "179:\tlearn: 0.3423176\ttotal: 5m 7s\tremaining: 23m 20s\n",
            "180:\tlearn: 0.3417843\ttotal: 5m 9s\tremaining: 23m 19s\n",
            "181:\tlearn: 0.3417075\ttotal: 5m 10s\tremaining: 23m 17s\n",
            "182:\tlearn: 0.3415548\ttotal: 5m 12s\tremaining: 23m 14s\n",
            "183:\tlearn: 0.3411811\ttotal: 5m 14s\tremaining: 23m 12s\n",
            "184:\tlearn: 0.3406765\ttotal: 5m 15s\tremaining: 23m 11s\n",
            "185:\tlearn: 0.3401531\ttotal: 5m 17s\tremaining: 23m 9s\n",
            "186:\tlearn: 0.3398478\ttotal: 5m 19s\tremaining: 23m 7s\n",
            "187:\tlearn: 0.3395198\ttotal: 5m 21s\tremaining: 23m 6s\n",
            "188:\tlearn: 0.3391031\ttotal: 5m 22s\tremaining: 23m 5s\n",
            "189:\tlearn: 0.3384768\ttotal: 5m 24s\tremaining: 23m 3s\n",
            "190:\tlearn: 0.3379745\ttotal: 5m 26s\tremaining: 23m 1s\n",
            "191:\tlearn: 0.3376034\ttotal: 5m 27s\tremaining: 22m 59s\n",
            "192:\tlearn: 0.3371799\ttotal: 5m 29s\tremaining: 22m 58s\n",
            "193:\tlearn: 0.3368200\ttotal: 5m 31s\tremaining: 22m 57s\n",
            "194:\tlearn: 0.3367474\ttotal: 5m 33s\tremaining: 22m 54s\n",
            "195:\tlearn: 0.3366650\ttotal: 5m 34s\tremaining: 22m 52s\n",
            "196:\tlearn: 0.3366027\ttotal: 5m 36s\tremaining: 22m 50s\n",
            "197:\tlearn: 0.3365147\ttotal: 5m 37s\tremaining: 22m 47s\n",
            "198:\tlearn: 0.3364178\ttotal: 5m 39s\tremaining: 22m 45s\n",
            "199:\tlearn: 0.3363083\ttotal: 5m 40s\tremaining: 22m 43s\n",
            "200:\tlearn: 0.3354803\ttotal: 5m 42s\tremaining: 22m 41s\n",
            "201:\tlearn: 0.3352309\ttotal: 5m 44s\tremaining: 22m 41s\n",
            "202:\tlearn: 0.3349833\ttotal: 5m 46s\tremaining: 22m 39s\n",
            "203:\tlearn: 0.3344629\ttotal: 5m 47s\tremaining: 22m 37s\n",
            "204:\tlearn: 0.3343913\ttotal: 5m 49s\tremaining: 22m 35s\n",
            "205:\tlearn: 0.3342315\ttotal: 5m 51s\tremaining: 22m 33s\n",
            "206:\tlearn: 0.3341562\ttotal: 5m 52s\tremaining: 22m 31s\n",
            "207:\tlearn: 0.3340345\ttotal: 5m 54s\tremaining: 22m 29s\n",
            "208:\tlearn: 0.3340036\ttotal: 5m 55s\tremaining: 22m 27s\n",
            "209:\tlearn: 0.3335941\ttotal: 5m 57s\tremaining: 22m 25s\n",
            "210:\tlearn: 0.3335312\ttotal: 5m 59s\tremaining: 22m 24s\n",
            "211:\tlearn: 0.3334419\ttotal: 6m 1s\tremaining: 22m 23s\n",
            "212:\tlearn: 0.3333754\ttotal: 6m 2s\tremaining: 22m 20s\n",
            "213:\tlearn: 0.3332063\ttotal: 6m 4s\tremaining: 22m 19s\n",
            "214:\tlearn: 0.3329934\ttotal: 6m 6s\tremaining: 22m 18s\n",
            "215:\tlearn: 0.3327409\ttotal: 6m 8s\tremaining: 22m 16s\n",
            "216:\tlearn: 0.3324944\ttotal: 6m 10s\tremaining: 22m 15s\n",
            "217:\tlearn: 0.3324160\ttotal: 6m 11s\tremaining: 22m 13s\n",
            "218:\tlearn: 0.3322823\ttotal: 6m 13s\tremaining: 22m 12s\n",
            "219:\tlearn: 0.3321986\ttotal: 6m 15s\tremaining: 22m 9s\n",
            "220:\tlearn: 0.3321306\ttotal: 6m 16s\tremaining: 22m 7s\n",
            "221:\tlearn: 0.3317714\ttotal: 6m 18s\tremaining: 22m 6s\n",
            "222:\tlearn: 0.3315846\ttotal: 6m 20s\tremaining: 22m 4s\n",
            "223:\tlearn: 0.3315167\ttotal: 6m 21s\tremaining: 22m 3s\n",
            "224:\tlearn: 0.3312834\ttotal: 6m 23s\tremaining: 22m 1s\n",
            "225:\tlearn: 0.3312371\ttotal: 6m 25s\tremaining: 21m 59s\n",
            "226:\tlearn: 0.3311564\ttotal: 6m 26s\tremaining: 21m 57s\n",
            "227:\tlearn: 0.3309364\ttotal: 6m 28s\tremaining: 21m 55s\n",
            "228:\tlearn: 0.3308921\ttotal: 6m 30s\tremaining: 21m 53s\n",
            "229:\tlearn: 0.3306467\ttotal: 6m 31s\tremaining: 21m 51s\n",
            "230:\tlearn: 0.3305828\ttotal: 6m 33s\tremaining: 21m 49s\n",
            "231:\tlearn: 0.3305601\ttotal: 6m 34s\tremaining: 21m 47s\n",
            "232:\tlearn: 0.3305083\ttotal: 6m 36s\tremaining: 21m 45s\n",
            "233:\tlearn: 0.3304075\ttotal: 6m 38s\tremaining: 21m 43s\n",
            "234:\tlearn: 0.3302270\ttotal: 6m 39s\tremaining: 21m 41s\n",
            "235:\tlearn: 0.3301682\ttotal: 6m 41s\tremaining: 21m 39s\n",
            "236:\tlearn: 0.3301139\ttotal: 6m 43s\tremaining: 21m 37s\n",
            "237:\tlearn: 0.3299551\ttotal: 6m 44s\tremaining: 21m 36s\n",
            "238:\tlearn: 0.3298849\ttotal: 6m 46s\tremaining: 21m 34s\n",
            "239:\tlearn: 0.3298289\ttotal: 6m 48s\tremaining: 21m 32s\n",
            "240:\tlearn: 0.3297857\ttotal: 6m 49s\tremaining: 21m 30s\n",
            "241:\tlearn: 0.3297400\ttotal: 6m 51s\tremaining: 21m 28s\n",
            "242:\tlearn: 0.3296914\ttotal: 6m 52s\tremaining: 21m 26s\n",
            "243:\tlearn: 0.3296524\ttotal: 6m 54s\tremaining: 21m 24s\n",
            "244:\tlearn: 0.3296136\ttotal: 6m 56s\tremaining: 21m 22s\n",
            "245:\tlearn: 0.3295685\ttotal: 6m 57s\tremaining: 21m 20s\n",
            "246:\tlearn: 0.3294154\ttotal: 6m 59s\tremaining: 21m 18s\n",
            "247:\tlearn: 0.3288443\ttotal: 7m 1s\tremaining: 21m 16s\n",
            "248:\tlearn: 0.3286430\ttotal: 7m 2s\tremaining: 21m 14s\n",
            "249:\tlearn: 0.3285465\ttotal: 7m 4s\tremaining: 21m 12s\n",
            "250:\tlearn: 0.3284629\ttotal: 7m 5s\tremaining: 21m 11s\n",
            "251:\tlearn: 0.3283148\ttotal: 7m 7s\tremaining: 21m 9s\n",
            "252:\tlearn: 0.3282561\ttotal: 7m 9s\tremaining: 21m 8s\n",
            "253:\tlearn: 0.3281998\ttotal: 7m 11s\tremaining: 21m 6s\n",
            "254:\tlearn: 0.3281538\ttotal: 7m 12s\tremaining: 21m 4s\n",
            "255:\tlearn: 0.3280482\ttotal: 7m 14s\tremaining: 21m 3s\n",
            "256:\tlearn: 0.3280124\ttotal: 7m 16s\tremaining: 21m\n",
            "257:\tlearn: 0.3279745\ttotal: 7m 17s\tremaining: 20m 58s\n",
            "258:\tlearn: 0.3279428\ttotal: 7m 19s\tremaining: 20m 56s\n",
            "259:\tlearn: 0.3278482\ttotal: 7m 20s\tremaining: 20m 54s\n",
            "260:\tlearn: 0.3278203\ttotal: 7m 22s\tremaining: 20m 53s\n",
            "261:\tlearn: 0.3276893\ttotal: 7m 24s\tremaining: 20m 51s\n",
            "262:\tlearn: 0.3275878\ttotal: 7m 26s\tremaining: 20m 50s\n",
            "263:\tlearn: 0.3275378\ttotal: 7m 27s\tremaining: 20m 48s\n",
            "264:\tlearn: 0.3274102\ttotal: 7m 29s\tremaining: 20m 46s\n",
            "265:\tlearn: 0.3273586\ttotal: 7m 30s\tremaining: 20m 44s\n",
            "266:\tlearn: 0.3273246\ttotal: 7m 32s\tremaining: 20m 42s\n",
            "267:\tlearn: 0.3270655\ttotal: 7m 34s\tremaining: 20m 40s\n",
            "268:\tlearn: 0.3268005\ttotal: 7m 36s\tremaining: 20m 39s\n",
            "269:\tlearn: 0.3266129\ttotal: 7m 37s\tremaining: 20m 38s\n",
            "270:\tlearn: 0.3265329\ttotal: 7m 39s\tremaining: 20m 37s\n",
            "271:\tlearn: 0.3264178\ttotal: 7m 41s\tremaining: 20m 35s\n",
            "272:\tlearn: 0.3263704\ttotal: 7m 43s\tremaining: 20m 33s\n",
            "273:\tlearn: 0.3263333\ttotal: 7m 44s\tremaining: 20m 32s\n",
            "274:\tlearn: 0.3262892\ttotal: 7m 46s\tremaining: 20m 30s\n",
            "275:\tlearn: 0.3261055\ttotal: 7m 48s\tremaining: 20m 28s\n",
            "276:\tlearn: 0.3259041\ttotal: 7m 50s\tremaining: 20m 27s\n",
            "277:\tlearn: 0.3258259\ttotal: 7m 51s\tremaining: 20m 25s\n",
            "278:\tlearn: 0.3257923\ttotal: 7m 53s\tremaining: 20m 23s\n",
            "279:\tlearn: 0.3256159\ttotal: 7m 55s\tremaining: 20m 21s\n",
            "280:\tlearn: 0.3254056\ttotal: 7m 56s\tremaining: 20m 20s\n",
            "281:\tlearn: 0.3253350\ttotal: 7m 58s\tremaining: 20m 18s\n",
            "282:\tlearn: 0.3252686\ttotal: 8m\tremaining: 20m 16s\n",
            "283:\tlearn: 0.3252179\ttotal: 8m 2s\tremaining: 20m 15s\n",
            "284:\tlearn: 0.3251830\ttotal: 8m 3s\tremaining: 20m 13s\n",
            "285:\tlearn: 0.3251289\ttotal: 8m 5s\tremaining: 20m 12s\n",
            "286:\tlearn: 0.3244555\ttotal: 8m 7s\tremaining: 20m 10s\n",
            "287:\tlearn: 0.3243552\ttotal: 8m 9s\tremaining: 20m 8s\n",
            "288:\tlearn: 0.3243077\ttotal: 8m 10s\tremaining: 20m 7s\n",
            "289:\tlearn: 0.3242784\ttotal: 8m 12s\tremaining: 20m 5s\n",
            "290:\tlearn: 0.3241789\ttotal: 8m 13s\tremaining: 20m 3s\n",
            "291:\tlearn: 0.3241204\ttotal: 8m 15s\tremaining: 20m 1s\n",
            "292:\tlearn: 0.3240750\ttotal: 8m 17s\tremaining: 19m 59s\n",
            "293:\tlearn: 0.3240217\ttotal: 8m 19s\tremaining: 19m 58s\n",
            "294:\tlearn: 0.3239398\ttotal: 8m 20s\tremaining: 19m 56s\n",
            "295:\tlearn: 0.3239152\ttotal: 8m 22s\tremaining: 19m 54s\n",
            "296:\tlearn: 0.3238720\ttotal: 8m 24s\tremaining: 19m 53s\n",
            "297:\tlearn: 0.3236601\ttotal: 8m 25s\tremaining: 19m 51s\n",
            "298:\tlearn: 0.3236355\ttotal: 8m 27s\tremaining: 19m 49s\n",
            "299:\tlearn: 0.3235964\ttotal: 8m 29s\tremaining: 19m 48s\n",
            "300:\tlearn: 0.3235606\ttotal: 8m 31s\tremaining: 19m 46s\n",
            "301:\tlearn: 0.3235413\ttotal: 8m 32s\tremaining: 19m 45s\n",
            "302:\tlearn: 0.3234869\ttotal: 8m 34s\tremaining: 19m 43s\n",
            "303:\tlearn: 0.3234643\ttotal: 8m 35s\tremaining: 19m 41s\n",
            "304:\tlearn: 0.3234368\ttotal: 8m 37s\tremaining: 19m 39s\n",
            "305:\tlearn: 0.3233970\ttotal: 8m 38s\tremaining: 19m 37s\n",
            "306:\tlearn: 0.3233904\ttotal: 8m 40s\tremaining: 19m 34s\n",
            "307:\tlearn: 0.3232745\ttotal: 8m 42s\tremaining: 19m 32s\n",
            "308:\tlearn: 0.3232529\ttotal: 8m 43s\tremaining: 19m 31s\n",
            "309:\tlearn: 0.3232258\ttotal: 8m 45s\tremaining: 19m 29s\n",
            "310:\tlearn: 0.3230951\ttotal: 8m 47s\tremaining: 19m 28s\n",
            "311:\tlearn: 0.3230696\ttotal: 8m 49s\tremaining: 19m 26s\n",
            "312:\tlearn: 0.3230449\ttotal: 8m 50s\tremaining: 19m 24s\n",
            "313:\tlearn: 0.3230010\ttotal: 8m 52s\tremaining: 19m 23s\n",
            "314:\tlearn: 0.3229634\ttotal: 8m 53s\tremaining: 19m 20s\n",
            "315:\tlearn: 0.3229359\ttotal: 8m 55s\tremaining: 19m 18s\n",
            "316:\tlearn: 0.3229056\ttotal: 8m 57s\tremaining: 19m 17s\n",
            "317:\tlearn: 0.3228602\ttotal: 8m 59s\tremaining: 19m 16s\n",
            "318:\tlearn: 0.3228309\ttotal: 9m\tremaining: 19m 14s\n",
            "319:\tlearn: 0.3227842\ttotal: 9m 2s\tremaining: 19m 13s\n",
            "320:\tlearn: 0.3227713\ttotal: 9m 4s\tremaining: 19m 10s\n",
            "321:\tlearn: 0.3227510\ttotal: 9m 5s\tremaining: 19m 9s\n",
            "322:\tlearn: 0.3226802\ttotal: 9m 7s\tremaining: 19m 8s\n",
            "323:\tlearn: 0.3226536\ttotal: 9m 9s\tremaining: 19m 7s\n",
            "324:\tlearn: 0.3226291\ttotal: 9m 11s\tremaining: 19m 5s\n",
            "325:\tlearn: 0.3226087\ttotal: 9m 13s\tremaining: 19m 3s\n",
            "326:\tlearn: 0.3225921\ttotal: 9m 14s\tremaining: 19m 2s\n",
            "327:\tlearn: 0.3225417\ttotal: 9m 16s\tremaining: 19m\n",
            "328:\tlearn: 0.3222705\ttotal: 9m 18s\tremaining: 18m 58s\n",
            "329:\tlearn: 0.3222314\ttotal: 9m 19s\tremaining: 18m 56s\n",
            "330:\tlearn: 0.3220786\ttotal: 9m 21s\tremaining: 18m 54s\n",
            "331:\tlearn: 0.3219986\ttotal: 9m 23s\tremaining: 18m 53s\n",
            "332:\tlearn: 0.3219030\ttotal: 9m 24s\tremaining: 18m 51s\n",
            "333:\tlearn: 0.3218065\ttotal: 9m 26s\tremaining: 18m 50s\n",
            "334:\tlearn: 0.3216700\ttotal: 9m 28s\tremaining: 18m 48s\n",
            "335:\tlearn: 0.3216079\ttotal: 9m 30s\tremaining: 18m 46s\n",
            "336:\tlearn: 0.3215598\ttotal: 9m 31s\tremaining: 18m 45s\n",
            "337:\tlearn: 0.3213211\ttotal: 9m 33s\tremaining: 18m 43s\n",
            "338:\tlearn: 0.3210344\ttotal: 9m 35s\tremaining: 18m 42s\n",
            "339:\tlearn: 0.3207306\ttotal: 9m 37s\tremaining: 18m 40s\n",
            "340:\tlearn: 0.3204758\ttotal: 9m 39s\tremaining: 18m 39s\n",
            "341:\tlearn: 0.3203321\ttotal: 9m 40s\tremaining: 18m 37s\n",
            "342:\tlearn: 0.3202932\ttotal: 9m 42s\tremaining: 18m 35s\n",
            "343:\tlearn: 0.3202695\ttotal: 9m 44s\tremaining: 18m 34s\n",
            "344:\tlearn: 0.3200642\ttotal: 9m 46s\tremaining: 18m 32s\n",
            "345:\tlearn: 0.3200337\ttotal: 9m 47s\tremaining: 18m 30s\n",
            "346:\tlearn: 0.3198611\ttotal: 9m 49s\tremaining: 18m 29s\n",
            "347:\tlearn: 0.3198166\ttotal: 9m 51s\tremaining: 18m 27s\n",
            "348:\tlearn: 0.3197827\ttotal: 9m 52s\tremaining: 18m 25s\n",
            "349:\tlearn: 0.3197507\ttotal: 9m 54s\tremaining: 18m 23s\n",
            "350:\tlearn: 0.3197251\ttotal: 9m 56s\tremaining: 18m 22s\n",
            "351:\tlearn: 0.3197023\ttotal: 9m 57s\tremaining: 18m 20s\n",
            "352:\tlearn: 0.3196491\ttotal: 9m 59s\tremaining: 18m 18s\n",
            "353:\tlearn: 0.3196066\ttotal: 10m 1s\tremaining: 18m 16s\n",
            "354:\tlearn: 0.3194064\ttotal: 10m 2s\tremaining: 18m 15s\n",
            "355:\tlearn: 0.3193823\ttotal: 10m 4s\tremaining: 18m 13s\n",
            "356:\tlearn: 0.3192838\ttotal: 10m 6s\tremaining: 18m 12s\n",
            "357:\tlearn: 0.3192184\ttotal: 10m 8s\tremaining: 18m 10s\n",
            "358:\tlearn: 0.3191855\ttotal: 10m 9s\tremaining: 18m 9s\n",
            "359:\tlearn: 0.3191111\ttotal: 10m 11s\tremaining: 18m 7s\n",
            "360:\tlearn: 0.3190669\ttotal: 10m 13s\tremaining: 18m 5s\n",
            "361:\tlearn: 0.3190384\ttotal: 10m 14s\tremaining: 18m 3s\n",
            "362:\tlearn: 0.3189998\ttotal: 10m 16s\tremaining: 18m 2s\n",
            "363:\tlearn: 0.3189347\ttotal: 10m 18s\tremaining: 18m\n",
            "364:\tlearn: 0.3189040\ttotal: 10m 20s\tremaining: 17m 59s\n",
            "365:\tlearn: 0.3188775\ttotal: 10m 22s\tremaining: 17m 57s\n",
            "366:\tlearn: 0.3188537\ttotal: 10m 23s\tremaining: 17m 55s\n",
            "367:\tlearn: 0.3188260\ttotal: 10m 25s\tremaining: 17m 54s\n",
            "368:\tlearn: 0.3186507\ttotal: 10m 27s\tremaining: 17m 52s\n",
            "369:\tlearn: 0.3186196\ttotal: 10m 29s\tremaining: 17m 51s\n",
            "370:\tlearn: 0.3185879\ttotal: 10m 30s\tremaining: 17m 49s\n",
            "371:\tlearn: 0.3185300\ttotal: 10m 32s\tremaining: 17m 47s\n",
            "372:\tlearn: 0.3184946\ttotal: 10m 34s\tremaining: 17m 46s\n",
            "373:\tlearn: 0.3184689\ttotal: 10m 35s\tremaining: 17m 44s\n",
            "374:\tlearn: 0.3184434\ttotal: 10m 37s\tremaining: 17m 42s\n",
            "375:\tlearn: 0.3184095\ttotal: 10m 39s\tremaining: 17m 41s\n",
            "376:\tlearn: 0.3182873\ttotal: 10m 41s\tremaining: 17m 39s\n",
            "377:\tlearn: 0.3181631\ttotal: 10m 43s\tremaining: 17m 38s\n",
            "378:\tlearn: 0.3181369\ttotal: 10m 45s\tremaining: 17m 36s\n",
            "379:\tlearn: 0.3180531\ttotal: 10m 46s\tremaining: 17m 35s\n",
            "380:\tlearn: 0.3180257\ttotal: 10m 48s\tremaining: 17m 33s\n",
            "381:\tlearn: 0.3179168\ttotal: 10m 50s\tremaining: 17m 31s\n",
            "382:\tlearn: 0.3178525\ttotal: 10m 51s\tremaining: 17m 30s\n",
            "383:\tlearn: 0.3177882\ttotal: 10m 53s\tremaining: 17m 28s\n",
            "384:\tlearn: 0.3177718\ttotal: 10m 55s\tremaining: 17m 26s\n",
            "385:\tlearn: 0.3177285\ttotal: 10m 57s\tremaining: 17m 25s\n",
            "386:\tlearn: 0.3176944\ttotal: 10m 59s\tremaining: 17m 23s\n",
            "387:\tlearn: 0.3176720\ttotal: 11m\tremaining: 17m 22s\n",
            "388:\tlearn: 0.3176386\ttotal: 11m 2s\tremaining: 17m 20s\n",
            "389:\tlearn: 0.3175506\ttotal: 11m 4s\tremaining: 17m 18s\n",
            "390:\tlearn: 0.3175310\ttotal: 11m 5s\tremaining: 17m 17s\n",
            "391:\tlearn: 0.3174616\ttotal: 11m 7s\tremaining: 17m 15s\n",
            "392:\tlearn: 0.3174350\ttotal: 11m 9s\tremaining: 17m 13s\n",
            "393:\tlearn: 0.3173974\ttotal: 11m 10s\tremaining: 17m 12s\n",
            "394:\tlearn: 0.3173681\ttotal: 11m 12s\tremaining: 17m 10s\n",
            "395:\tlearn: 0.3173411\ttotal: 11m 14s\tremaining: 17m 8s\n",
            "396:\tlearn: 0.3172773\ttotal: 11m 16s\tremaining: 17m 6s\n",
            "397:\tlearn: 0.3171840\ttotal: 11m 17s\tremaining: 17m 5s\n",
            "398:\tlearn: 0.3171466\ttotal: 11m 19s\tremaining: 17m 3s\n",
            "399:\tlearn: 0.3171125\ttotal: 11m 20s\tremaining: 17m 1s\n",
            "400:\tlearn: 0.3170853\ttotal: 11m 22s\tremaining: 17m\n",
            "401:\tlearn: 0.3170678\ttotal: 11m 24s\tremaining: 16m 58s\n",
            "402:\tlearn: 0.3170614\ttotal: 11m 26s\tremaining: 16m 56s\n",
            "403:\tlearn: 0.3170413\ttotal: 11m 27s\tremaining: 16m 54s\n",
            "404:\tlearn: 0.3170177\ttotal: 11m 29s\tremaining: 16m 52s\n",
            "405:\tlearn: 0.3169927\ttotal: 11m 31s\tremaining: 16m 51s\n",
            "406:\tlearn: 0.3169215\ttotal: 11m 32s\tremaining: 16m 49s\n",
            "407:\tlearn: 0.3168906\ttotal: 11m 34s\tremaining: 16m 47s\n",
            "408:\tlearn: 0.3168745\ttotal: 11m 36s\tremaining: 16m 45s\n",
            "409:\tlearn: 0.3168467\ttotal: 11m 37s\tremaining: 16m 44s\n",
            "410:\tlearn: 0.3168223\ttotal: 11m 39s\tremaining: 16m 42s\n",
            "411:\tlearn: 0.3167998\ttotal: 11m 40s\tremaining: 16m 40s\n",
            "412:\tlearn: 0.3167892\ttotal: 11m 42s\tremaining: 16m 38s\n",
            "413:\tlearn: 0.3167592\ttotal: 11m 44s\tremaining: 16m 36s\n",
            "414:\tlearn: 0.3167226\ttotal: 11m 45s\tremaining: 16m 34s\n",
            "415:\tlearn: 0.3166537\ttotal: 11m 47s\tremaining: 16m 33s\n",
            "416:\tlearn: 0.3166393\ttotal: 11m 49s\tremaining: 16m 31s\n",
            "417:\tlearn: 0.3166241\ttotal: 11m 50s\tremaining: 16m 29s\n",
            "418:\tlearn: 0.3166069\ttotal: 11m 52s\tremaining: 16m 27s\n",
            "419:\tlearn: 0.3165837\ttotal: 11m 53s\tremaining: 16m 25s\n",
            "420:\tlearn: 0.3165698\ttotal: 11m 55s\tremaining: 16m 23s\n",
            "421:\tlearn: 0.3165528\ttotal: 11m 56s\tremaining: 16m 21s\n",
            "422:\tlearn: 0.3165355\ttotal: 11m 57s\tremaining: 16m 19s\n",
            "423:\tlearn: 0.3165170\ttotal: 11m 59s\tremaining: 16m 16s\n",
            "424:\tlearn: 0.3163934\ttotal: 12m 1s\tremaining: 16m 15s\n",
            "425:\tlearn: 0.3162404\ttotal: 12m 2s\tremaining: 16m 13s\n",
            "426:\tlearn: 0.3162152\ttotal: 12m 4s\tremaining: 16m 12s\n",
            "427:\tlearn: 0.3161567\ttotal: 12m 6s\tremaining: 16m 10s\n",
            "428:\tlearn: 0.3161062\ttotal: 12m 7s\tremaining: 16m 8s\n",
            "429:\tlearn: 0.3159772\ttotal: 12m 9s\tremaining: 16m 7s\n",
            "430:\tlearn: 0.3159537\ttotal: 12m 11s\tremaining: 16m 5s\n",
            "431:\tlearn: 0.3158598\ttotal: 12m 13s\tremaining: 16m 3s\n",
            "432:\tlearn: 0.3158377\ttotal: 12m 14s\tremaining: 16m 2s\n",
            "433:\tlearn: 0.3158073\ttotal: 12m 16s\tremaining: 16m\n",
            "434:\tlearn: 0.3157884\ttotal: 12m 18s\tremaining: 15m 58s\n",
            "435:\tlearn: 0.3157197\ttotal: 12m 19s\tremaining: 15m 57s\n",
            "436:\tlearn: 0.3156984\ttotal: 12m 21s\tremaining: 15m 55s\n",
            "437:\tlearn: 0.3156797\ttotal: 12m 23s\tremaining: 15m 53s\n",
            "438:\tlearn: 0.3156510\ttotal: 12m 24s\tremaining: 15m 51s\n",
            "439:\tlearn: 0.3156375\ttotal: 12m 26s\tremaining: 15m 49s\n",
            "440:\tlearn: 0.3156099\ttotal: 12m 27s\tremaining: 15m 47s\n",
            "441:\tlearn: 0.3156012\ttotal: 12m 29s\tremaining: 15m 45s\n",
            "442:\tlearn: 0.3155869\ttotal: 12m 30s\tremaining: 15m 44s\n",
            "443:\tlearn: 0.3155576\ttotal: 12m 32s\tremaining: 15m 42s\n",
            "444:\tlearn: 0.3155231\ttotal: 12m 34s\tremaining: 15m 40s\n",
            "445:\tlearn: 0.3154999\ttotal: 12m 35s\tremaining: 15m 38s\n",
            "446:\tlearn: 0.3154776\ttotal: 12m 36s\tremaining: 15m 36s\n",
            "447:\tlearn: 0.3154481\ttotal: 12m 38s\tremaining: 15m 34s\n",
            "448:\tlearn: 0.3154268\ttotal: 12m 40s\tremaining: 15m 32s\n",
            "449:\tlearn: 0.3154034\ttotal: 12m 41s\tremaining: 15m 30s\n",
            "450:\tlearn: 0.3153880\ttotal: 12m 43s\tremaining: 15m 29s\n",
            "451:\tlearn: 0.3152811\ttotal: 12m 45s\tremaining: 15m 27s\n",
            "452:\tlearn: 0.3152532\ttotal: 12m 46s\tremaining: 15m 25s\n",
            "453:\tlearn: 0.3151532\ttotal: 12m 48s\tremaining: 15m 24s\n",
            "454:\tlearn: 0.3151368\ttotal: 12m 50s\tremaining: 15m 22s\n",
            "455:\tlearn: 0.3151194\ttotal: 12m 51s\tremaining: 15m 20s\n",
            "456:\tlearn: 0.3150561\ttotal: 12m 53s\tremaining: 15m 19s\n",
            "457:\tlearn: 0.3149587\ttotal: 12m 55s\tremaining: 15m 17s\n",
            "458:\tlearn: 0.3149501\ttotal: 12m 57s\tremaining: 15m 15s\n",
            "459:\tlearn: 0.3148979\ttotal: 12m 58s\tremaining: 15m 14s\n",
            "460:\tlearn: 0.3148281\ttotal: 13m\tremaining: 15m 12s\n",
            "461:\tlearn: 0.3147683\ttotal: 13m 2s\tremaining: 15m 11s\n",
            "462:\tlearn: 0.3147426\ttotal: 13m 4s\tremaining: 15m 9s\n",
            "463:\tlearn: 0.3146964\ttotal: 13m 5s\tremaining: 15m 7s\n",
            "464:\tlearn: 0.3146797\ttotal: 13m 7s\tremaining: 15m 6s\n",
            "465:\tlearn: 0.3146526\ttotal: 13m 8s\tremaining: 15m 4s\n",
            "466:\tlearn: 0.3145916\ttotal: 13m 10s\tremaining: 15m 2s\n",
            "467:\tlearn: 0.3145351\ttotal: 13m 12s\tremaining: 15m\n",
            "468:\tlearn: 0.3144907\ttotal: 13m 14s\tremaining: 14m 59s\n",
            "469:\tlearn: 0.3144692\ttotal: 13m 15s\tremaining: 14m 57s\n",
            "470:\tlearn: 0.3144548\ttotal: 13m 17s\tremaining: 14m 55s\n",
            "471:\tlearn: 0.3144369\ttotal: 13m 19s\tremaining: 14m 54s\n",
            "472:\tlearn: 0.3144049\ttotal: 13m 21s\tremaining: 14m 52s\n",
            "473:\tlearn: 0.3143720\ttotal: 13m 22s\tremaining: 14m 50s\n",
            "474:\tlearn: 0.3142885\ttotal: 13m 24s\tremaining: 14m 49s\n",
            "475:\tlearn: 0.3142827\ttotal: 13m 26s\tremaining: 14m 47s\n",
            "476:\tlearn: 0.3142805\ttotal: 13m 27s\tremaining: 14m 45s\n",
            "477:\tlearn: 0.3142570\ttotal: 13m 28s\tremaining: 14m 43s\n",
            "478:\tlearn: 0.3142348\ttotal: 13m 30s\tremaining: 14m 41s\n",
            "479:\tlearn: 0.3142192\ttotal: 13m 32s\tremaining: 14m 39s\n",
            "480:\tlearn: 0.3142027\ttotal: 13m 33s\tremaining: 14m 37s\n",
            "481:\tlearn: 0.3141834\ttotal: 13m 34s\tremaining: 14m 35s\n",
            "482:\tlearn: 0.3141666\ttotal: 13m 36s\tremaining: 14m 33s\n",
            "483:\tlearn: 0.3141406\ttotal: 13m 37s\tremaining: 14m 31s\n",
            "484:\tlearn: 0.3141210\ttotal: 13m 39s\tremaining: 14m 29s\n",
            "485:\tlearn: 0.3141004\ttotal: 13m 40s\tremaining: 14m 27s\n",
            "486:\tlearn: 0.3140778\ttotal: 13m 41s\tremaining: 14m 25s\n",
            "487:\tlearn: 0.3140477\ttotal: 13m 43s\tremaining: 14m 23s\n",
            "488:\tlearn: 0.3140294\ttotal: 13m 44s\tremaining: 14m 21s\n",
            "489:\tlearn: 0.3140033\ttotal: 13m 46s\tremaining: 14m 19s\n",
            "490:\tlearn: 0.3139945\ttotal: 13m 47s\tremaining: 14m 17s\n",
            "491:\tlearn: 0.3139797\ttotal: 13m 48s\tremaining: 14m 15s\n",
            "492:\tlearn: 0.3139226\ttotal: 13m 50s\tremaining: 14m 13s\n",
            "493:\tlearn: 0.3138919\ttotal: 13m 51s\tremaining: 14m 11s\n",
            "494:\tlearn: 0.3138826\ttotal: 13m 53s\tremaining: 14m 9s\n",
            "495:\tlearn: 0.3138461\ttotal: 13m 54s\tremaining: 14m 7s\n",
            "496:\tlearn: 0.3138061\ttotal: 13m 56s\tremaining: 14m 6s\n",
            "497:\tlearn: 0.3137429\ttotal: 13m 57s\tremaining: 14m 4s\n",
            "498:\tlearn: 0.3137229\ttotal: 13m 59s\tremaining: 14m 2s\n",
            "499:\tlearn: 0.3137032\ttotal: 14m 1s\tremaining: 14m 1s\n",
            "500:\tlearn: 0.3136750\ttotal: 14m 2s\tremaining: 13m 59s\n",
            "501:\tlearn: 0.3136518\ttotal: 14m 4s\tremaining: 13m 57s\n",
            "502:\tlearn: 0.3136249\ttotal: 14m 5s\tremaining: 13m 55s\n",
            "503:\tlearn: 0.3136080\ttotal: 14m 7s\tremaining: 13m 54s\n",
            "504:\tlearn: 0.3135831\ttotal: 14m 9s\tremaining: 13m 52s\n",
            "505:\tlearn: 0.3135701\ttotal: 14m 11s\tremaining: 13m 50s\n",
            "506:\tlearn: 0.3135549\ttotal: 14m 12s\tremaining: 13m 48s\n",
            "507:\tlearn: 0.3135327\ttotal: 14m 14s\tremaining: 13m 47s\n",
            "508:\tlearn: 0.3135104\ttotal: 14m 16s\tremaining: 13m 45s\n",
            "509:\tlearn: 0.3134958\ttotal: 14m 17s\tremaining: 13m 44s\n",
            "510:\tlearn: 0.3134743\ttotal: 14m 19s\tremaining: 13m 42s\n",
            "511:\tlearn: 0.3134541\ttotal: 14m 21s\tremaining: 13m 40s\n",
            "512:\tlearn: 0.3134437\ttotal: 14m 23s\tremaining: 13m 39s\n",
            "513:\tlearn: 0.3134273\ttotal: 14m 24s\tremaining: 13m 37s\n",
            "514:\tlearn: 0.3134086\ttotal: 14m 26s\tremaining: 13m 35s\n",
            "515:\tlearn: 0.3134021\ttotal: 14m 27s\tremaining: 13m 33s\n",
            "516:\tlearn: 0.3133958\ttotal: 14m 29s\tremaining: 13m 31s\n",
            "517:\tlearn: 0.3133820\ttotal: 14m 30s\tremaining: 13m 30s\n",
            "518:\tlearn: 0.3133669\ttotal: 14m 32s\tremaining: 13m 28s\n",
            "519:\tlearn: 0.3133530\ttotal: 14m 34s\tremaining: 13m 27s\n",
            "520:\tlearn: 0.3133244\ttotal: 14m 36s\tremaining: 13m 25s\n",
            "521:\tlearn: 0.3133060\ttotal: 14m 37s\tremaining: 13m 23s\n",
            "522:\tlearn: 0.3132833\ttotal: 14m 39s\tremaining: 13m 21s\n",
            "523:\tlearn: 0.3132743\ttotal: 14m 40s\tremaining: 13m 20s\n",
            "524:\tlearn: 0.3132168\ttotal: 14m 42s\tremaining: 13m 18s\n",
            "525:\tlearn: 0.3132059\ttotal: 14m 44s\tremaining: 13m 16s\n",
            "526:\tlearn: 0.3131928\ttotal: 14m 45s\tremaining: 13m 14s\n",
            "527:\tlearn: 0.3131737\ttotal: 14m 47s\tremaining: 13m 13s\n",
            "528:\tlearn: 0.3130600\ttotal: 14m 49s\tremaining: 13m 11s\n",
            "529:\tlearn: 0.3130357\ttotal: 14m 50s\tremaining: 13m 10s\n",
            "530:\tlearn: 0.3130309\ttotal: 14m 52s\tremaining: 13m 7s\n",
            "531:\tlearn: 0.3130214\ttotal: 14m 53s\tremaining: 13m 6s\n",
            "532:\tlearn: 0.3129951\ttotal: 14m 55s\tremaining: 13m 4s\n",
            "533:\tlearn: 0.3129828\ttotal: 14m 56s\tremaining: 13m 2s\n",
            "534:\tlearn: 0.3129711\ttotal: 14m 58s\tremaining: 13m\n",
            "535:\tlearn: 0.3129528\ttotal: 14m 59s\tremaining: 12m 59s\n",
            "536:\tlearn: 0.3129348\ttotal: 15m 1s\tremaining: 12m 57s\n",
            "537:\tlearn: 0.3129268\ttotal: 15m 3s\tremaining: 12m 55s\n",
            "538:\tlearn: 0.3128033\ttotal: 15m 5s\tremaining: 12m 54s\n",
            "539:\tlearn: 0.3127927\ttotal: 15m 6s\tremaining: 12m 52s\n",
            "540:\tlearn: 0.3127194\ttotal: 15m 8s\tremaining: 12m 50s\n",
            "541:\tlearn: 0.3126723\ttotal: 15m 10s\tremaining: 12m 49s\n",
            "542:\tlearn: 0.3126673\ttotal: 15m 11s\tremaining: 12m 47s\n",
            "543:\tlearn: 0.3125758\ttotal: 15m 13s\tremaining: 12m 46s\n",
            "544:\tlearn: 0.3125304\ttotal: 15m 15s\tremaining: 12m 44s\n",
            "545:\tlearn: 0.3125157\ttotal: 15m 17s\tremaining: 12m 42s\n",
            "546:\tlearn: 0.3125040\ttotal: 15m 18s\tremaining: 12m 40s\n",
            "547:\tlearn: 0.3124819\ttotal: 15m 20s\tremaining: 12m 39s\n",
            "548:\tlearn: 0.3124482\ttotal: 15m 22s\tremaining: 12m 37s\n",
            "549:\tlearn: 0.3123896\ttotal: 15m 23s\tremaining: 12m 35s\n",
            "550:\tlearn: 0.3123555\ttotal: 15m 25s\tremaining: 12m 34s\n",
            "551:\tlearn: 0.3123253\ttotal: 15m 26s\tremaining: 12m 32s\n",
            "552:\tlearn: 0.3123016\ttotal: 15m 28s\tremaining: 12m 30s\n",
            "553:\tlearn: 0.3122707\ttotal: 15m 30s\tremaining: 12m 29s\n",
            "554:\tlearn: 0.3122310\ttotal: 15m 31s\tremaining: 12m 27s\n",
            "555:\tlearn: 0.3122245\ttotal: 15m 33s\tremaining: 12m 25s\n",
            "556:\tlearn: 0.3121854\ttotal: 15m 35s\tremaining: 12m 24s\n",
            "557:\tlearn: 0.3121553\ttotal: 15m 37s\tremaining: 12m 22s\n",
            "558:\tlearn: 0.3121362\ttotal: 15m 38s\tremaining: 12m 20s\n",
            "559:\tlearn: 0.3120791\ttotal: 15m 40s\tremaining: 12m 19s\n",
            "560:\tlearn: 0.3120105\ttotal: 15m 42s\tremaining: 12m 17s\n",
            "561:\tlearn: 0.3119954\ttotal: 15m 44s\tremaining: 12m 16s\n",
            "562:\tlearn: 0.3119641\ttotal: 15m 45s\tremaining: 12m 14s\n",
            "563:\tlearn: 0.3119456\ttotal: 15m 47s\tremaining: 12m 12s\n",
            "564:\tlearn: 0.3119299\ttotal: 15m 49s\tremaining: 12m 10s\n",
            "565:\tlearn: 0.3119160\ttotal: 15m 50s\tremaining: 12m 9s\n",
            "566:\tlearn: 0.3117878\ttotal: 15m 52s\tremaining: 12m 7s\n",
            "567:\tlearn: 0.3117622\ttotal: 15m 54s\tremaining: 12m 5s\n",
            "568:\tlearn: 0.3117403\ttotal: 15m 55s\tremaining: 12m 3s\n",
            "569:\tlearn: 0.3117211\ttotal: 15m 57s\tremaining: 12m 2s\n",
            "570:\tlearn: 0.3117102\ttotal: 15m 59s\tremaining: 12m\n",
            "571:\tlearn: 0.3116982\ttotal: 16m\tremaining: 11m 58s\n",
            "572:\tlearn: 0.3116821\ttotal: 16m 2s\tremaining: 11m 57s\n",
            "573:\tlearn: 0.3116607\ttotal: 16m 4s\tremaining: 11m 55s\n",
            "574:\tlearn: 0.3116444\ttotal: 16m 6s\tremaining: 11m 54s\n",
            "575:\tlearn: 0.3116342\ttotal: 16m 7s\tremaining: 11m 52s\n",
            "576:\tlearn: 0.3116200\ttotal: 16m 9s\tremaining: 11m 50s\n",
            "577:\tlearn: 0.3116147\ttotal: 16m 11s\tremaining: 11m 49s\n",
            "578:\tlearn: 0.3115922\ttotal: 16m 13s\tremaining: 11m 47s\n",
            "579:\tlearn: 0.3115690\ttotal: 16m 14s\tremaining: 11m 45s\n",
            "580:\tlearn: 0.3115585\ttotal: 16m 16s\tremaining: 11m 44s\n",
            "581:\tlearn: 0.3115237\ttotal: 16m 18s\tremaining: 11m 42s\n",
            "582:\tlearn: 0.3114763\ttotal: 16m 20s\tremaining: 11m 41s\n",
            "583:\tlearn: 0.3114559\ttotal: 16m 21s\tremaining: 11m 39s\n",
            "584:\tlearn: 0.3114336\ttotal: 16m 23s\tremaining: 11m 37s\n",
            "585:\tlearn: 0.3114193\ttotal: 16m 24s\tremaining: 11m 35s\n",
            "586:\tlearn: 0.3113375\ttotal: 16m 26s\tremaining: 11m 34s\n",
            "587:\tlearn: 0.3113190\ttotal: 16m 28s\tremaining: 11m 32s\n",
            "588:\tlearn: 0.3112499\ttotal: 16m 30s\tremaining: 11m 30s\n",
            "589:\tlearn: 0.3112297\ttotal: 16m 31s\tremaining: 11m 29s\n",
            "590:\tlearn: 0.3112064\ttotal: 16m 33s\tremaining: 11m 27s\n",
            "591:\tlearn: 0.3111490\ttotal: 16m 35s\tremaining: 11m 26s\n",
            "592:\tlearn: 0.3111348\ttotal: 16m 37s\tremaining: 11m 24s\n",
            "593:\tlearn: 0.3110782\ttotal: 16m 38s\tremaining: 11m 22s\n",
            "594:\tlearn: 0.3110773\ttotal: 16m 40s\tremaining: 11m 20s\n",
            "595:\tlearn: 0.3110533\ttotal: 16m 41s\tremaining: 11m 18s\n",
            "596:\tlearn: 0.3109643\ttotal: 16m 43s\tremaining: 11m 17s\n",
            "597:\tlearn: 0.3109022\ttotal: 16m 45s\tremaining: 11m 15s\n",
            "598:\tlearn: 0.3108605\ttotal: 16m 46s\tremaining: 11m 13s\n",
            "599:\tlearn: 0.3108150\ttotal: 16m 48s\tremaining: 11m 12s\n",
            "600:\tlearn: 0.3108049\ttotal: 16m 49s\tremaining: 11m 10s\n",
            "601:\tlearn: 0.3107688\ttotal: 16m 51s\tremaining: 11m 8s\n",
            "602:\tlearn: 0.3107526\ttotal: 16m 53s\tremaining: 11m 7s\n",
            "603:\tlearn: 0.3106611\ttotal: 16m 55s\tremaining: 11m 5s\n",
            "604:\tlearn: 0.3106419\ttotal: 16m 56s\tremaining: 11m 3s\n",
            "605:\tlearn: 0.3106232\ttotal: 16m 58s\tremaining: 11m 2s\n",
            "606:\tlearn: 0.3106116\ttotal: 17m\tremaining: 11m\n",
            "607:\tlearn: 0.3106013\ttotal: 17m 2s\tremaining: 10m 58s\n",
            "608:\tlearn: 0.3105615\ttotal: 17m 3s\tremaining: 10m 57s\n",
            "609:\tlearn: 0.3105415\ttotal: 17m 5s\tremaining: 10m 55s\n",
            "610:\tlearn: 0.3105030\ttotal: 17m 7s\tremaining: 10m 54s\n",
            "611:\tlearn: 0.3104804\ttotal: 17m 8s\tremaining: 10m 52s\n",
            "612:\tlearn: 0.3104744\ttotal: 17m 10s\tremaining: 10m 50s\n",
            "613:\tlearn: 0.3104004\ttotal: 17m 12s\tremaining: 10m 48s\n",
            "614:\tlearn: 0.3103845\ttotal: 17m 13s\tremaining: 10m 47s\n",
            "615:\tlearn: 0.3103710\ttotal: 17m 15s\tremaining: 10m 45s\n",
            "616:\tlearn: 0.3103333\ttotal: 17m 17s\tremaining: 10m 43s\n",
            "617:\tlearn: 0.3102770\ttotal: 17m 19s\tremaining: 10m 42s\n",
            "618:\tlearn: 0.3102599\ttotal: 17m 21s\tremaining: 10m 40s\n",
            "619:\tlearn: 0.3102378\ttotal: 17m 22s\tremaining: 10m 39s\n",
            "620:\tlearn: 0.3102288\ttotal: 17m 24s\tremaining: 10m 37s\n",
            "621:\tlearn: 0.3102141\ttotal: 17m 25s\tremaining: 10m 35s\n",
            "622:\tlearn: 0.3101987\ttotal: 17m 27s\tremaining: 10m 33s\n",
            "623:\tlearn: 0.3101952\ttotal: 17m 28s\tremaining: 10m 32s\n",
            "624:\tlearn: 0.3101894\ttotal: 17m 30s\tremaining: 10m 30s\n",
            "625:\tlearn: 0.3101855\ttotal: 17m 32s\tremaining: 10m 28s\n",
            "626:\tlearn: 0.3101619\ttotal: 17m 33s\tremaining: 10m 26s\n",
            "627:\tlearn: 0.3101404\ttotal: 17m 35s\tremaining: 10m 25s\n",
            "628:\tlearn: 0.3101215\ttotal: 17m 37s\tremaining: 10m 23s\n",
            "629:\tlearn: 0.3100961\ttotal: 17m 38s\tremaining: 10m 21s\n",
            "630:\tlearn: 0.3100856\ttotal: 17m 40s\tremaining: 10m 20s\n",
            "631:\tlearn: 0.3100710\ttotal: 17m 42s\tremaining: 10m 18s\n",
            "632:\tlearn: 0.3100606\ttotal: 17m 44s\tremaining: 10m 16s\n",
            "633:\tlearn: 0.3100438\ttotal: 17m 45s\tremaining: 10m 15s\n",
            "634:\tlearn: 0.3100326\ttotal: 17m 47s\tremaining: 10m 13s\n",
            "635:\tlearn: 0.3100183\ttotal: 17m 49s\tremaining: 10m 11s\n",
            "636:\tlearn: 0.3099795\ttotal: 17m 50s\tremaining: 10m 10s\n",
            "637:\tlearn: 0.3099679\ttotal: 17m 52s\tremaining: 10m 8s\n",
            "638:\tlearn: 0.3098782\ttotal: 17m 53s\tremaining: 10m 6s\n",
            "639:\tlearn: 0.3098600\ttotal: 17m 55s\tremaining: 10m 4s\n",
            "640:\tlearn: 0.3098448\ttotal: 17m 56s\tremaining: 10m 3s\n",
            "641:\tlearn: 0.3098343\ttotal: 17m 58s\tremaining: 10m 1s\n",
            "642:\tlearn: 0.3097908\ttotal: 18m\tremaining: 9m 59s\n",
            "643:\tlearn: 0.3097785\ttotal: 18m 2s\tremaining: 9m 58s\n",
            "644:\tlearn: 0.3097123\ttotal: 18m 3s\tremaining: 9m 56s\n",
            "645:\tlearn: 0.3096999\ttotal: 18m 5s\tremaining: 9m 54s\n",
            "646:\tlearn: 0.3096878\ttotal: 18m 7s\tremaining: 9m 53s\n",
            "647:\tlearn: 0.3096637\ttotal: 18m 9s\tremaining: 9m 51s\n",
            "648:\tlearn: 0.3096448\ttotal: 18m 10s\tremaining: 9m 49s\n",
            "649:\tlearn: 0.3096324\ttotal: 18m 12s\tremaining: 9m 48s\n",
            "650:\tlearn: 0.3096206\ttotal: 18m 14s\tremaining: 9m 46s\n",
            "651:\tlearn: 0.3096048\ttotal: 18m 16s\tremaining: 9m 45s\n",
            "652:\tlearn: 0.3095985\ttotal: 18m 17s\tremaining: 9m 43s\n",
            "653:\tlearn: 0.3095723\ttotal: 18m 19s\tremaining: 9m 41s\n",
            "654:\tlearn: 0.3095563\ttotal: 18m 20s\tremaining: 9m 39s\n",
            "655:\tlearn: 0.3095439\ttotal: 18m 22s\tremaining: 9m 38s\n",
            "656:\tlearn: 0.3095273\ttotal: 18m 24s\tremaining: 9m 36s\n",
            "657:\tlearn: 0.3095158\ttotal: 18m 25s\tremaining: 9m 34s\n",
            "658:\tlearn: 0.3095001\ttotal: 18m 27s\tremaining: 9m 33s\n",
            "659:\tlearn: 0.3094828\ttotal: 18m 29s\tremaining: 9m 31s\n",
            "660:\tlearn: 0.3094617\ttotal: 18m 31s\tremaining: 9m 29s\n",
            "661:\tlearn: 0.3094259\ttotal: 18m 32s\tremaining: 9m 28s\n",
            "662:\tlearn: 0.3094148\ttotal: 18m 34s\tremaining: 9m 26s\n",
            "663:\tlearn: 0.3093118\ttotal: 18m 35s\tremaining: 9m 24s\n",
            "664:\tlearn: 0.3092702\ttotal: 18m 37s\tremaining: 9m 22s\n",
            "665:\tlearn: 0.3092667\ttotal: 18m 38s\tremaining: 9m 21s\n",
            "666:\tlearn: 0.3092392\ttotal: 18m 40s\tremaining: 9m 19s\n",
            "667:\tlearn: 0.3091669\ttotal: 18m 42s\tremaining: 9m 17s\n",
            "668:\tlearn: 0.3091027\ttotal: 18m 44s\tremaining: 9m 16s\n",
            "669:\tlearn: 0.3090897\ttotal: 18m 45s\tremaining: 9m 14s\n",
            "670:\tlearn: 0.3090609\ttotal: 18m 47s\tremaining: 9m 12s\n",
            "671:\tlearn: 0.3090453\ttotal: 18m 49s\tremaining: 9m 11s\n",
            "672:\tlearn: 0.3090361\ttotal: 18m 50s\tremaining: 9m 9s\n",
            "673:\tlearn: 0.3090180\ttotal: 18m 52s\tremaining: 9m 7s\n",
            "674:\tlearn: 0.3089965\ttotal: 18m 53s\tremaining: 9m 5s\n",
            "675:\tlearn: 0.3089924\ttotal: 18m 55s\tremaining: 9m 4s\n",
            "676:\tlearn: 0.3089725\ttotal: 18m 56s\tremaining: 9m 2s\n",
            "677:\tlearn: 0.3089543\ttotal: 18m 58s\tremaining: 9m\n",
            "678:\tlearn: 0.3089454\ttotal: 18m 59s\tremaining: 8m 58s\n",
            "679:\tlearn: 0.3088319\ttotal: 19m 1s\tremaining: 8m 57s\n",
            "680:\tlearn: 0.3088101\ttotal: 19m 3s\tremaining: 8m 55s\n",
            "681:\tlearn: 0.3087484\ttotal: 19m 5s\tremaining: 8m 53s\n",
            "682:\tlearn: 0.3087410\ttotal: 19m 7s\tremaining: 8m 52s\n",
            "683:\tlearn: 0.3087296\ttotal: 19m 8s\tremaining: 8m 50s\n",
            "684:\tlearn: 0.3087180\ttotal: 19m 10s\tremaining: 8m 49s\n",
            "685:\tlearn: 0.3086909\ttotal: 19m 12s\tremaining: 8m 47s\n",
            "686:\tlearn: 0.3086681\ttotal: 19m 14s\tremaining: 8m 45s\n",
            "687:\tlearn: 0.3086667\ttotal: 19m 15s\tremaining: 8m 43s\n",
            "688:\tlearn: 0.3086625\ttotal: 19m 16s\tremaining: 8m 42s\n",
            "689:\tlearn: 0.3086522\ttotal: 19m 18s\tremaining: 8m 40s\n",
            "690:\tlearn: 0.3086375\ttotal: 19m 20s\tremaining: 8m 38s\n",
            "691:\tlearn: 0.3086174\ttotal: 19m 21s\tremaining: 8m 36s\n",
            "692:\tlearn: 0.3085953\ttotal: 19m 23s\tremaining: 8m 35s\n",
            "693:\tlearn: 0.3085779\ttotal: 19m 24s\tremaining: 8m 33s\n",
            "694:\tlearn: 0.3085620\ttotal: 19m 26s\tremaining: 8m 31s\n",
            "695:\tlearn: 0.3085543\ttotal: 19m 27s\tremaining: 8m 30s\n",
            "696:\tlearn: 0.3085404\ttotal: 19m 29s\tremaining: 8m 28s\n",
            "697:\tlearn: 0.3085272\ttotal: 19m 30s\tremaining: 8m 26s\n",
            "698:\tlearn: 0.3085122\ttotal: 19m 32s\tremaining: 8m 24s\n",
            "699:\tlearn: 0.3085001\ttotal: 19m 33s\tremaining: 8m 23s\n",
            "700:\tlearn: 0.3084744\ttotal: 19m 35s\tremaining: 8m 21s\n",
            "701:\tlearn: 0.3084650\ttotal: 19m 37s\tremaining: 8m 19s\n",
            "702:\tlearn: 0.3084445\ttotal: 19m 38s\tremaining: 8m 18s\n",
            "703:\tlearn: 0.3084337\ttotal: 19m 40s\tremaining: 8m 16s\n",
            "704:\tlearn: 0.3084139\ttotal: 19m 41s\tremaining: 8m 14s\n",
            "705:\tlearn: 0.3083969\ttotal: 19m 43s\tremaining: 8m 12s\n",
            "706:\tlearn: 0.3083695\ttotal: 19m 44s\tremaining: 8m 11s\n",
            "707:\tlearn: 0.3083504\ttotal: 19m 46s\tremaining: 8m 9s\n",
            "708:\tlearn: 0.3083050\ttotal: 19m 48s\tremaining: 8m 7s\n",
            "709:\tlearn: 0.3082897\ttotal: 19m 49s\tremaining: 8m 5s\n",
            "710:\tlearn: 0.3082133\ttotal: 19m 51s\tremaining: 8m 4s\n",
            "711:\tlearn: 0.3081870\ttotal: 19m 52s\tremaining: 8m 2s\n",
            "712:\tlearn: 0.3081706\ttotal: 19m 54s\tremaining: 8m\n",
            "713:\tlearn: 0.3081558\ttotal: 19m 56s\tremaining: 7m 59s\n",
            "714:\tlearn: 0.3081488\ttotal: 19m 57s\tremaining: 7m 57s\n",
            "715:\tlearn: 0.3081262\ttotal: 19m 59s\tremaining: 7m 55s\n",
            "716:\tlearn: 0.3080871\ttotal: 20m\tremaining: 7m 53s\n",
            "717:\tlearn: 0.3080367\ttotal: 20m 2s\tremaining: 7m 52s\n",
            "718:\tlearn: 0.3080278\ttotal: 20m 4s\tremaining: 7m 50s\n",
            "719:\tlearn: 0.3080170\ttotal: 20m 5s\tremaining: 7m 48s\n",
            "720:\tlearn: 0.3079952\ttotal: 20m 7s\tremaining: 7m 47s\n",
            "721:\tlearn: 0.3079759\ttotal: 20m 8s\tremaining: 7m 45s\n",
            "722:\tlearn: 0.3079641\ttotal: 20m 10s\tremaining: 7m 43s\n",
            "723:\tlearn: 0.3079446\ttotal: 20m 12s\tremaining: 7m 42s\n",
            "724:\tlearn: 0.3079289\ttotal: 20m 13s\tremaining: 7m 40s\n",
            "725:\tlearn: 0.3079146\ttotal: 20m 15s\tremaining: 7m 38s\n",
            "726:\tlearn: 0.3078901\ttotal: 20m 16s\tremaining: 7m 36s\n",
            "727:\tlearn: 0.3078747\ttotal: 20m 18s\tremaining: 7m 35s\n",
            "728:\tlearn: 0.3078535\ttotal: 20m 19s\tremaining: 7m 33s\n",
            "729:\tlearn: 0.3078402\ttotal: 20m 21s\tremaining: 7m 31s\n",
            "730:\tlearn: 0.3078114\ttotal: 20m 23s\tremaining: 7m 30s\n",
            "731:\tlearn: 0.3077994\ttotal: 20m 24s\tremaining: 7m 28s\n",
            "732:\tlearn: 0.3077534\ttotal: 20m 26s\tremaining: 7m 26s\n",
            "733:\tlearn: 0.3077497\ttotal: 20m 27s\tremaining: 7m 24s\n",
            "734:\tlearn: 0.3077417\ttotal: 20m 29s\tremaining: 7m 23s\n",
            "735:\tlearn: 0.3077125\ttotal: 20m 30s\tremaining: 7m 21s\n",
            "736:\tlearn: 0.3076862\ttotal: 20m 32s\tremaining: 7m 19s\n",
            "737:\tlearn: 0.3076760\ttotal: 20m 34s\tremaining: 7m 18s\n",
            "738:\tlearn: 0.3076650\ttotal: 20m 35s\tremaining: 7m 16s\n",
            "739:\tlearn: 0.3076552\ttotal: 20m 37s\tremaining: 7m 14s\n",
            "740:\tlearn: 0.3076376\ttotal: 20m 38s\tremaining: 7m 12s\n",
            "741:\tlearn: 0.3076350\ttotal: 20m 40s\tremaining: 7m 11s\n",
            "742:\tlearn: 0.3076206\ttotal: 20m 42s\tremaining: 7m 9s\n",
            "743:\tlearn: 0.3076133\ttotal: 20m 43s\tremaining: 7m 7s\n",
            "744:\tlearn: 0.3075993\ttotal: 20m 45s\tremaining: 7m 6s\n",
            "745:\tlearn: 0.3075891\ttotal: 20m 46s\tremaining: 7m 4s\n",
            "746:\tlearn: 0.3075716\ttotal: 20m 47s\tremaining: 7m 2s\n",
            "747:\tlearn: 0.3075548\ttotal: 20m 49s\tremaining: 7m\n",
            "748:\tlearn: 0.3075457\ttotal: 20m 50s\tremaining: 6m 59s\n",
            "749:\tlearn: 0.3075195\ttotal: 20m 52s\tremaining: 6m 57s\n",
            "750:\tlearn: 0.3074851\ttotal: 20m 54s\tremaining: 6m 55s\n",
            "751:\tlearn: 0.3074714\ttotal: 20m 55s\tremaining: 6m 54s\n",
            "752:\tlearn: 0.3074546\ttotal: 20m 57s\tremaining: 6m 52s\n",
            "753:\tlearn: 0.3074048\ttotal: 20m 59s\tremaining: 6m 50s\n",
            "754:\tlearn: 0.3073915\ttotal: 21m\tremaining: 6m 49s\n",
            "755:\tlearn: 0.3073870\ttotal: 21m 2s\tremaining: 6m 47s\n",
            "756:\tlearn: 0.3073723\ttotal: 21m 3s\tremaining: 6m 45s\n",
            "757:\tlearn: 0.3073483\ttotal: 21m 5s\tremaining: 6m 43s\n",
            "758:\tlearn: 0.3073313\ttotal: 21m 6s\tremaining: 6m 42s\n",
            "759:\tlearn: 0.3073204\ttotal: 21m 8s\tremaining: 6m 40s\n",
            "760:\tlearn: 0.3073099\ttotal: 21m 10s\tremaining: 6m 38s\n",
            "761:\tlearn: 0.3072984\ttotal: 21m 11s\tremaining: 6m 37s\n",
            "762:\tlearn: 0.3072844\ttotal: 21m 13s\tremaining: 6m 35s\n",
            "763:\tlearn: 0.3072761\ttotal: 21m 14s\tremaining: 6m 33s\n",
            "764:\tlearn: 0.3072632\ttotal: 21m 16s\tremaining: 6m 32s\n",
            "765:\tlearn: 0.3072453\ttotal: 21m 17s\tremaining: 6m 30s\n",
            "766:\tlearn: 0.3072341\ttotal: 21m 19s\tremaining: 6m 28s\n",
            "767:\tlearn: 0.3072082\ttotal: 21m 21s\tremaining: 6m 27s\n",
            "768:\tlearn: 0.3071969\ttotal: 21m 23s\tremaining: 6m 25s\n",
            "769:\tlearn: 0.3071876\ttotal: 21m 24s\tremaining: 6m 23s\n",
            "770:\tlearn: 0.3071831\ttotal: 21m 25s\tremaining: 6m 21s\n",
            "771:\tlearn: 0.3071728\ttotal: 21m 27s\tremaining: 6m 20s\n",
            "772:\tlearn: 0.3071634\ttotal: 21m 28s\tremaining: 6m 18s\n",
            "773:\tlearn: 0.3071493\ttotal: 21m 30s\tremaining: 6m 16s\n",
            "774:\tlearn: 0.3071346\ttotal: 21m 31s\tremaining: 6m 15s\n",
            "775:\tlearn: 0.3071182\ttotal: 21m 33s\tremaining: 6m 13s\n",
            "776:\tlearn: 0.3071023\ttotal: 21m 35s\tremaining: 6m 11s\n",
            "777:\tlearn: 0.3070904\ttotal: 21m 36s\tremaining: 6m 9s\n",
            "778:\tlearn: 0.3070890\ttotal: 21m 38s\tremaining: 6m 8s\n",
            "779:\tlearn: 0.3070780\ttotal: 21m 39s\tremaining: 6m 6s\n",
            "780:\tlearn: 0.3070544\ttotal: 21m 41s\tremaining: 6m 4s\n",
            "781:\tlearn: 0.3070478\ttotal: 21m 43s\tremaining: 6m 3s\n",
            "782:\tlearn: 0.3070178\ttotal: 21m 44s\tremaining: 6m 1s\n",
            "783:\tlearn: 0.3070169\ttotal: 21m 46s\tremaining: 5m 59s\n",
            "784:\tlearn: 0.3070037\ttotal: 21m 47s\tremaining: 5m 58s\n",
            "785:\tlearn: 0.3069987\ttotal: 21m 49s\tremaining: 5m 56s\n",
            "786:\tlearn: 0.3069877\ttotal: 21m 51s\tremaining: 5m 54s\n",
            "787:\tlearn: 0.3069763\ttotal: 21m 52s\tremaining: 5m 53s\n",
            "788:\tlearn: 0.3069585\ttotal: 21m 53s\tremaining: 5m 51s\n",
            "789:\tlearn: 0.3069525\ttotal: 21m 55s\tremaining: 5m 49s\n",
            "790:\tlearn: 0.3069009\ttotal: 21m 57s\tremaining: 5m 48s\n",
            "791:\tlearn: 0.3068897\ttotal: 21m 58s\tremaining: 5m 46s\n",
            "792:\tlearn: 0.3068646\ttotal: 22m\tremaining: 5m 44s\n",
            "793:\tlearn: 0.3068378\ttotal: 22m 1s\tremaining: 5m 42s\n",
            "794:\tlearn: 0.3068054\ttotal: 22m 3s\tremaining: 5m 41s\n",
            "795:\tlearn: 0.3067741\ttotal: 22m 5s\tremaining: 5m 39s\n",
            "796:\tlearn: 0.3067628\ttotal: 22m 6s\tremaining: 5m 37s\n",
            "797:\tlearn: 0.3067533\ttotal: 22m 8s\tremaining: 5m 36s\n",
            "798:\tlearn: 0.3067399\ttotal: 22m 10s\tremaining: 5m 34s\n",
            "799:\tlearn: 0.3067323\ttotal: 22m 11s\tremaining: 5m 32s\n",
            "800:\tlearn: 0.3066887\ttotal: 22m 13s\tremaining: 5m 31s\n",
            "801:\tlearn: 0.3066619\ttotal: 22m 15s\tremaining: 5m 29s\n",
            "802:\tlearn: 0.3066612\ttotal: 22m 16s\tremaining: 5m 27s\n",
            "803:\tlearn: 0.3066488\ttotal: 22m 18s\tremaining: 5m 26s\n",
            "804:\tlearn: 0.3066368\ttotal: 22m 19s\tremaining: 5m 24s\n",
            "805:\tlearn: 0.3066317\ttotal: 22m 21s\tremaining: 5m 22s\n",
            "806:\tlearn: 0.3066162\ttotal: 22m 23s\tremaining: 5m 21s\n",
            "807:\tlearn: 0.3066055\ttotal: 22m 25s\tremaining: 5m 19s\n",
            "808:\tlearn: 0.3065962\ttotal: 22m 26s\tremaining: 5m 17s\n",
            "809:\tlearn: 0.3065754\ttotal: 22m 28s\tremaining: 5m 16s\n",
            "810:\tlearn: 0.3065685\ttotal: 22m 29s\tremaining: 5m 14s\n",
            "811:\tlearn: 0.3065617\ttotal: 22m 31s\tremaining: 5m 12s\n",
            "812:\tlearn: 0.3065569\ttotal: 22m 33s\tremaining: 5m 11s\n",
            "813:\tlearn: 0.3065430\ttotal: 22m 34s\tremaining: 5m 9s\n",
            "814:\tlearn: 0.3065344\ttotal: 22m 36s\tremaining: 5m 7s\n",
            "815:\tlearn: 0.3065123\ttotal: 22m 37s\tremaining: 5m 6s\n",
            "816:\tlearn: 0.3064992\ttotal: 22m 39s\tremaining: 5m 4s\n",
            "817:\tlearn: 0.3064323\ttotal: 22m 41s\tremaining: 5m 2s\n",
            "818:\tlearn: 0.3064083\ttotal: 22m 42s\tremaining: 5m 1s\n",
            "819:\tlearn: 0.3063892\ttotal: 22m 44s\tremaining: 4m 59s\n",
            "820:\tlearn: 0.3063784\ttotal: 22m 46s\tremaining: 4m 57s\n",
            "821:\tlearn: 0.3063758\ttotal: 22m 47s\tremaining: 4m 56s\n",
            "822:\tlearn: 0.3063626\ttotal: 22m 48s\tremaining: 4m 54s\n",
            "823:\tlearn: 0.3063461\ttotal: 22m 50s\tremaining: 4m 52s\n",
            "824:\tlearn: 0.3063334\ttotal: 22m 51s\tremaining: 4m 51s\n",
            "825:\tlearn: 0.3063258\ttotal: 22m 53s\tremaining: 4m 49s\n",
            "826:\tlearn: 0.3063073\ttotal: 22m 54s\tremaining: 4m 47s\n",
            "827:\tlearn: 0.3062889\ttotal: 22m 56s\tremaining: 4m 45s\n",
            "828:\tlearn: 0.3062809\ttotal: 22m 58s\tremaining: 4m 44s\n",
            "829:\tlearn: 0.3062776\ttotal: 22m 59s\tremaining: 4m 42s\n",
            "830:\tlearn: 0.3062397\ttotal: 23m 1s\tremaining: 4m 40s\n",
            "831:\tlearn: 0.3062307\ttotal: 23m 3s\tremaining: 4m 39s\n",
            "832:\tlearn: 0.3062181\ttotal: 23m 4s\tremaining: 4m 37s\n",
            "833:\tlearn: 0.3062033\ttotal: 23m 6s\tremaining: 4m 35s\n",
            "834:\tlearn: 0.3061856\ttotal: 23m 8s\tremaining: 4m 34s\n",
            "835:\tlearn: 0.3061826\ttotal: 23m 9s\tremaining: 4m 32s\n",
            "836:\tlearn: 0.3061695\ttotal: 23m 11s\tremaining: 4m 30s\n",
            "837:\tlearn: 0.3061629\ttotal: 23m 13s\tremaining: 4m 29s\n",
            "838:\tlearn: 0.3061500\ttotal: 23m 14s\tremaining: 4m 27s\n",
            "839:\tlearn: 0.3061342\ttotal: 23m 16s\tremaining: 4m 25s\n",
            "840:\tlearn: 0.3061229\ttotal: 23m 18s\tremaining: 4m 24s\n",
            "841:\tlearn: 0.3061004\ttotal: 23m 19s\tremaining: 4m 22s\n",
            "842:\tlearn: 0.3060806\ttotal: 23m 21s\tremaining: 4m 20s\n",
            "843:\tlearn: 0.3060544\ttotal: 23m 22s\tremaining: 4m 19s\n",
            "844:\tlearn: 0.3060433\ttotal: 23m 24s\tremaining: 4m 17s\n",
            "845:\tlearn: 0.3060373\ttotal: 23m 26s\tremaining: 4m 15s\n",
            "846:\tlearn: 0.3060357\ttotal: 23m 27s\tremaining: 4m 14s\n",
            "847:\tlearn: 0.3060227\ttotal: 23m 29s\tremaining: 4m 12s\n",
            "848:\tlearn: 0.3060155\ttotal: 23m 30s\tremaining: 4m 10s\n",
            "849:\tlearn: 0.3060110\ttotal: 23m 32s\tremaining: 4m 9s\n",
            "850:\tlearn: 0.3060055\ttotal: 23m 33s\tremaining: 4m 7s\n",
            "851:\tlearn: 0.3059862\ttotal: 23m 35s\tremaining: 4m 5s\n",
            "852:\tlearn: 0.3059750\ttotal: 23m 36s\tremaining: 4m 4s\n",
            "853:\tlearn: 0.3059313\ttotal: 23m 38s\tremaining: 4m 2s\n",
            "854:\tlearn: 0.3059210\ttotal: 23m 39s\tremaining: 4m\n",
            "855:\tlearn: 0.3059107\ttotal: 23m 41s\tremaining: 3m 59s\n",
            "856:\tlearn: 0.3058994\ttotal: 23m 42s\tremaining: 3m 57s\n",
            "857:\tlearn: 0.3058802\ttotal: 23m 44s\tremaining: 3m 55s\n",
            "858:\tlearn: 0.3058626\ttotal: 23m 45s\tremaining: 3m 54s\n",
            "859:\tlearn: 0.3058391\ttotal: 23m 47s\tremaining: 3m 52s\n",
            "860:\tlearn: 0.3058153\ttotal: 23m 48s\tremaining: 3m 50s\n",
            "861:\tlearn: 0.3057999\ttotal: 23m 50s\tremaining: 3m 48s\n",
            "862:\tlearn: 0.3057892\ttotal: 23m 51s\tremaining: 3m 47s\n",
            "863:\tlearn: 0.3057723\ttotal: 23m 53s\tremaining: 3m 45s\n",
            "864:\tlearn: 0.3057609\ttotal: 23m 54s\tremaining: 3m 43s\n",
            "865:\tlearn: 0.3057432\ttotal: 23m 56s\tremaining: 3m 42s\n",
            "866:\tlearn: 0.3057298\ttotal: 23m 57s\tremaining: 3m 40s\n",
            "867:\tlearn: 0.3057052\ttotal: 23m 59s\tremaining: 3m 38s\n",
            "868:\tlearn: 0.3057005\ttotal: 24m\tremaining: 3m 37s\n",
            "869:\tlearn: 0.3056853\ttotal: 24m 1s\tremaining: 3m 35s\n",
            "870:\tlearn: 0.3056798\ttotal: 24m 3s\tremaining: 3m 33s\n",
            "871:\tlearn: 0.3056714\ttotal: 24m 4s\tremaining: 3m 32s\n",
            "872:\tlearn: 0.3056631\ttotal: 24m 5s\tremaining: 3m 30s\n",
            "873:\tlearn: 0.3056450\ttotal: 24m 7s\tremaining: 3m 28s\n",
            "874:\tlearn: 0.3056314\ttotal: 24m 9s\tremaining: 3m 27s\n",
            "875:\tlearn: 0.3056228\ttotal: 24m 10s\tremaining: 3m 25s\n",
            "876:\tlearn: 0.3056043\ttotal: 24m 12s\tremaining: 3m 23s\n",
            "877:\tlearn: 0.3055943\ttotal: 24m 13s\tremaining: 3m 21s\n",
            "878:\tlearn: 0.3055852\ttotal: 24m 15s\tremaining: 3m 20s\n",
            "879:\tlearn: 0.3055725\ttotal: 24m 16s\tremaining: 3m 18s\n",
            "880:\tlearn: 0.3055502\ttotal: 24m 18s\tremaining: 3m 17s\n",
            "881:\tlearn: 0.3055187\ttotal: 24m 20s\tremaining: 3m 15s\n",
            "882:\tlearn: 0.3055038\ttotal: 24m 22s\tremaining: 3m 13s\n",
            "883:\tlearn: 0.3054925\ttotal: 24m 23s\tremaining: 3m 12s\n",
            "884:\tlearn: 0.3054847\ttotal: 24m 25s\tremaining: 3m 10s\n",
            "885:\tlearn: 0.3054775\ttotal: 24m 27s\tremaining: 3m 8s\n",
            "886:\tlearn: 0.3054507\ttotal: 24m 28s\tremaining: 3m 7s\n",
            "887:\tlearn: 0.3054392\ttotal: 24m 30s\tremaining: 3m 5s\n",
            "888:\tlearn: 0.3054351\ttotal: 24m 31s\tremaining: 3m 3s\n",
            "889:\tlearn: 0.3054048\ttotal: 24m 33s\tremaining: 3m 2s\n",
            "890:\tlearn: 0.3054028\ttotal: 24m 35s\tremaining: 3m\n",
            "891:\tlearn: 0.3053897\ttotal: 24m 36s\tremaining: 2m 58s\n",
            "892:\tlearn: 0.3053632\ttotal: 24m 38s\tremaining: 2m 57s\n",
            "893:\tlearn: 0.3053535\ttotal: 24m 40s\tremaining: 2m 55s\n",
            "894:\tlearn: 0.3053514\ttotal: 24m 41s\tremaining: 2m 53s\n",
            "895:\tlearn: 0.3053491\ttotal: 24m 42s\tremaining: 2m 52s\n",
            "896:\tlearn: 0.3053401\ttotal: 24m 44s\tremaining: 2m 50s\n",
            "897:\tlearn: 0.3053343\ttotal: 24m 45s\tremaining: 2m 48s\n",
            "898:\tlearn: 0.3053198\ttotal: 24m 47s\tremaining: 2m 47s\n",
            "899:\tlearn: 0.3053022\ttotal: 24m 49s\tremaining: 2m 45s\n",
            "900:\tlearn: 0.3052858\ttotal: 24m 51s\tremaining: 2m 43s\n",
            "901:\tlearn: 0.3052826\ttotal: 24m 52s\tremaining: 2m 42s\n",
            "902:\tlearn: 0.3052652\ttotal: 24m 53s\tremaining: 2m 40s\n",
            "903:\tlearn: 0.3052606\ttotal: 24m 55s\tremaining: 2m 38s\n",
            "904:\tlearn: 0.3052510\ttotal: 24m 56s\tremaining: 2m 37s\n",
            "905:\tlearn: 0.3052307\ttotal: 24m 58s\tremaining: 2m 35s\n",
            "906:\tlearn: 0.3052012\ttotal: 25m\tremaining: 2m 33s\n",
            "907:\tlearn: 0.3051799\ttotal: 25m 1s\tremaining: 2m 32s\n",
            "908:\tlearn: 0.3051693\ttotal: 25m 3s\tremaining: 2m 30s\n",
            "909:\tlearn: 0.3051635\ttotal: 25m 5s\tremaining: 2m 28s\n",
            "910:\tlearn: 0.3051551\ttotal: 25m 6s\tremaining: 2m 27s\n",
            "911:\tlearn: 0.3051375\ttotal: 25m 8s\tremaining: 2m 25s\n",
            "912:\tlearn: 0.3051178\ttotal: 25m 10s\tremaining: 2m 23s\n",
            "913:\tlearn: 0.3051067\ttotal: 25m 11s\tremaining: 2m 22s\n",
            "914:\tlearn: 0.3050955\ttotal: 25m 13s\tremaining: 2m 20s\n",
            "915:\tlearn: 0.3050862\ttotal: 25m 15s\tremaining: 2m 18s\n",
            "916:\tlearn: 0.3050485\ttotal: 25m 16s\tremaining: 2m 17s\n",
            "917:\tlearn: 0.3050280\ttotal: 25m 18s\tremaining: 2m 15s\n",
            "918:\tlearn: 0.3050145\ttotal: 25m 20s\tremaining: 2m 14s\n",
            "919:\tlearn: 0.3049734\ttotal: 25m 21s\tremaining: 2m 12s\n",
            "920:\tlearn: 0.3049640\ttotal: 25m 23s\tremaining: 2m 10s\n",
            "921:\tlearn: 0.3049454\ttotal: 25m 25s\tremaining: 2m 9s\n",
            "922:\tlearn: 0.3049368\ttotal: 25m 26s\tremaining: 2m 7s\n",
            "923:\tlearn: 0.3049249\ttotal: 25m 28s\tremaining: 2m 5s\n",
            "924:\tlearn: 0.3049199\ttotal: 25m 30s\tremaining: 2m 4s\n",
            "925:\tlearn: 0.3049117\ttotal: 25m 31s\tremaining: 2m 2s\n",
            "926:\tlearn: 0.3049011\ttotal: 25m 33s\tremaining: 2m\n",
            "927:\tlearn: 0.3048924\ttotal: 25m 34s\tremaining: 1m 59s\n",
            "928:\tlearn: 0.3048560\ttotal: 25m 36s\tremaining: 1m 57s\n",
            "929:\tlearn: 0.3048241\ttotal: 25m 38s\tremaining: 1m 55s\n",
            "930:\tlearn: 0.3048183\ttotal: 25m 39s\tremaining: 1m 54s\n",
            "931:\tlearn: 0.3048054\ttotal: 25m 41s\tremaining: 1m 52s\n",
            "932:\tlearn: 0.3047747\ttotal: 25m 42s\tremaining: 1m 50s\n",
            "933:\tlearn: 0.3047519\ttotal: 25m 44s\tremaining: 1m 49s\n",
            "934:\tlearn: 0.3047367\ttotal: 25m 45s\tremaining: 1m 47s\n",
            "935:\tlearn: 0.3047016\ttotal: 25m 47s\tremaining: 1m 45s\n",
            "936:\tlearn: 0.3046866\ttotal: 25m 49s\tremaining: 1m 44s\n",
            "937:\tlearn: 0.3046680\ttotal: 25m 51s\tremaining: 1m 42s\n",
            "938:\tlearn: 0.3046495\ttotal: 25m 52s\tremaining: 1m 40s\n",
            "939:\tlearn: 0.3046455\ttotal: 25m 54s\tremaining: 1m 39s\n",
            "940:\tlearn: 0.3046312\ttotal: 25m 55s\tremaining: 1m 37s\n",
            "941:\tlearn: 0.3046238\ttotal: 25m 57s\tremaining: 1m 35s\n",
            "942:\tlearn: 0.3046216\ttotal: 25m 58s\tremaining: 1m 34s\n",
            "943:\tlearn: 0.3046149\ttotal: 26m\tremaining: 1m 32s\n",
            "944:\tlearn: 0.3046080\ttotal: 26m 1s\tremaining: 1m 30s\n",
            "945:\tlearn: 0.3045973\ttotal: 26m 3s\tremaining: 1m 29s\n",
            "946:\tlearn: 0.3045806\ttotal: 26m 4s\tremaining: 1m 27s\n",
            "947:\tlearn: 0.3045687\ttotal: 26m 6s\tremaining: 1m 25s\n",
            "948:\tlearn: 0.3045658\ttotal: 26m 7s\tremaining: 1m 24s\n",
            "949:\tlearn: 0.3045658\ttotal: 26m 8s\tremaining: 1m 22s\n",
            "950:\tlearn: 0.3045290\ttotal: 26m 10s\tremaining: 1m 20s\n",
            "951:\tlearn: 0.3044897\ttotal: 26m 12s\tremaining: 1m 19s\n",
            "952:\tlearn: 0.3044830\ttotal: 26m 14s\tremaining: 1m 17s\n",
            "953:\tlearn: 0.3044639\ttotal: 26m 15s\tremaining: 1m 15s\n",
            "954:\tlearn: 0.3044598\ttotal: 26m 17s\tremaining: 1m 14s\n",
            "955:\tlearn: 0.3044526\ttotal: 26m 18s\tremaining: 1m 12s\n",
            "956:\tlearn: 0.3044225\ttotal: 26m 20s\tremaining: 1m 11s\n",
            "957:\tlearn: 0.3044186\ttotal: 26m 21s\tremaining: 1m 9s\n",
            "958:\tlearn: 0.3044186\ttotal: 26m 22s\tremaining: 1m 7s\n",
            "959:\tlearn: 0.3044026\ttotal: 26m 24s\tremaining: 1m 6s\n",
            "960:\tlearn: 0.3043986\ttotal: 26m 25s\tremaining: 1m 4s\n",
            "961:\tlearn: 0.3043857\ttotal: 26m 27s\tremaining: 1m 2s\n",
            "962:\tlearn: 0.3043811\ttotal: 26m 29s\tremaining: 1m 1s\n",
            "963:\tlearn: 0.3043590\ttotal: 26m 30s\tremaining: 59.4s\n",
            "964:\tlearn: 0.3043442\ttotal: 26m 32s\tremaining: 57.7s\n",
            "965:\tlearn: 0.3043439\ttotal: 26m 33s\tremaining: 56.1s\n",
            "966:\tlearn: 0.3043373\ttotal: 26m 35s\tremaining: 54.4s\n",
            "967:\tlearn: 0.3043270\ttotal: 26m 36s\tremaining: 52.8s\n",
            "968:\tlearn: 0.3043207\ttotal: 26m 37s\tremaining: 51.1s\n",
            "969:\tlearn: 0.3043131\ttotal: 26m 39s\tremaining: 49.5s\n",
            "970:\tlearn: 0.3042960\ttotal: 26m 41s\tremaining: 47.8s\n",
            "971:\tlearn: 0.3042825\ttotal: 26m 42s\tremaining: 46.2s\n",
            "972:\tlearn: 0.3042620\ttotal: 26m 44s\tremaining: 44.5s\n",
            "973:\tlearn: 0.3042537\ttotal: 26m 45s\tremaining: 42.9s\n",
            "974:\tlearn: 0.3042483\ttotal: 26m 47s\tremaining: 41.2s\n",
            "975:\tlearn: 0.3042443\ttotal: 26m 48s\tremaining: 39.6s\n",
            "976:\tlearn: 0.3042430\ttotal: 26m 50s\tremaining: 37.9s\n",
            "977:\tlearn: 0.3042314\ttotal: 26m 51s\tremaining: 36.3s\n",
            "978:\tlearn: 0.3042251\ttotal: 26m 52s\tremaining: 34.6s\n",
            "979:\tlearn: 0.3042103\ttotal: 26m 54s\tremaining: 32.9s\n",
            "980:\tlearn: 0.3042000\ttotal: 26m 56s\tremaining: 31.3s\n",
            "981:\tlearn: 0.3041822\ttotal: 26m 57s\tremaining: 29.7s\n",
            "982:\tlearn: 0.3041733\ttotal: 26m 59s\tremaining: 28s\n",
            "983:\tlearn: 0.3041714\ttotal: 27m 1s\tremaining: 26.4s\n",
            "984:\tlearn: 0.3041575\ttotal: 27m 2s\tremaining: 24.7s\n",
            "985:\tlearn: 0.3041444\ttotal: 27m 4s\tremaining: 23.1s\n",
            "986:\tlearn: 0.3041384\ttotal: 27m 5s\tremaining: 21.4s\n",
            "987:\tlearn: 0.3041316\ttotal: 27m 7s\tremaining: 19.8s\n",
            "988:\tlearn: 0.3041278\ttotal: 27m 8s\tremaining: 18.1s\n",
            "989:\tlearn: 0.3041202\ttotal: 27m 10s\tremaining: 16.5s\n",
            "990:\tlearn: 0.3041127\ttotal: 27m 11s\tremaining: 14.8s\n",
            "991:\tlearn: 0.3041032\ttotal: 27m 13s\tremaining: 13.2s\n",
            "992:\tlearn: 0.3041012\ttotal: 27m 14s\tremaining: 11.5s\n",
            "993:\tlearn: 0.3040767\ttotal: 27m 16s\tremaining: 9.88s\n",
            "994:\tlearn: 0.3040730\ttotal: 27m 18s\tremaining: 8.23s\n",
            "995:\tlearn: 0.3040610\ttotal: 27m 19s\tremaining: 6.59s\n",
            "996:\tlearn: 0.3040475\ttotal: 27m 21s\tremaining: 4.94s\n",
            "997:\tlearn: 0.3040339\ttotal: 27m 23s\tremaining: 3.29s\n",
            "998:\tlearn: 0.3040274\ttotal: 27m 25s\tremaining: 1.65s\n",
            "999:\tlearn: 0.3040219\ttotal: 27m 26s\tremaining: 0us\n"
          ],
          "name": "stdout"
        },
        {
          "output_type": "execute_result",
          "data": {
            "text/plain": [
              "<catboost.core.CatBoostClassifier at 0x7f61c3bb7978>"
            ]
          },
          "metadata": {
            "tags": []
          },
          "execution_count": 188
        }
      ]
    },
    {
      "cell_type": "code",
      "metadata": {
        "id": "NXFKwKTkOMnc"
      },
      "source": [
        "cbc_pred0 = CBC.predict(X0_test)"
      ],
      "execution_count": null,
      "outputs": []
    },
    {
      "cell_type": "code",
      "metadata": {
        "colab": {
          "base_uri": "https://localhost:8080/"
        },
        "id": "EHatFyHHOMkP",
        "outputId": "7fc5c2ed-3250-4147-961c-7d3c239c550d"
      },
      "source": [
        "cbc_pred0"
      ],
      "execution_count": null,
      "outputs": [
        {
          "output_type": "execute_result",
          "data": {
            "text/plain": [
              "array([0, 0, 1, ..., 1, 0, 0])"
            ]
          },
          "metadata": {
            "tags": []
          },
          "execution_count": 190
        }
      ]
    },
    {
      "cell_type": "code",
      "metadata": {
        "id": "VLuY0HwLOMhb"
      },
      "source": [
        "cbc_prob0 = CBC.predict_proba(X0_test)[:,1]     #Taking probabilities for positive outcome"
      ],
      "execution_count": null,
      "outputs": []
    },
    {
      "cell_type": "code",
      "metadata": {
        "colab": {
          "base_uri": "https://localhost:8080/"
        },
        "id": "a_oHYxexOMdM",
        "outputId": "49687c45-43ad-4c3d-dfe4-61a60c1278e9"
      },
      "source": [
        "cbc_prob0"
      ],
      "execution_count": null,
      "outputs": [
        {
          "output_type": "execute_result",
          "data": {
            "text/plain": [
              "array([0.06770003, 0.3363939 , 0.99957902, ..., 0.64690981, 0.03229488,\n",
              "       0.0534723 ])"
            ]
          },
          "metadata": {
            "tags": []
          },
          "execution_count": 192
        }
      ]
    },
    {
      "cell_type": "code",
      "metadata": {
        "id": "Q9BOVRzGeHm8",
        "colab": {
          "base_uri": "https://localhost:8080/"
        },
        "outputId": "5e851371-70ae-44ed-b57f-f54e1afed129"
      },
      "source": [
        "print(\"Classification Report:\", classification_report(y0_test, cbc_pred0))\r\n",
        "print(\"Confusion Matrix:\\n\", confusion_matrix(y0_test, cbc_pred0))\r\n",
        "print(\"Precision Score:\", round(precision_score(y0_test, cbc_pred0),5))\r\n",
        "print(\"Recall Score:\", round(recall_score(y0_test, cbc_pred0),5))\r\n",
        "print(\"Accuracy Score:\", round(accuracy_score(y0_test, cbc_pred0),5))\r\n",
        "print(\"F1 Score:\", round(f1_score(y0_test, cbc_pred0, average='weighted'),5))\r\n",
        "print(\"ROC: \", round(roc_auc_score(y0_test, cbc_prob0),5))"
      ],
      "execution_count": null,
      "outputs": [
        {
          "output_type": "stream",
          "text": [
            "Classification Report:               precision    recall  f1-score   support\n",
            "\n",
            "           0       0.83      0.92      0.87    238569\n",
            "           1       0.91      0.81      0.85    239387\n",
            "\n",
            "    accuracy                           0.86    477956\n",
            "   macro avg       0.87      0.86      0.86    477956\n",
            "weighted avg       0.87      0.86      0.86    477956\n",
            "\n",
            "Confusion Matrix:\n",
            " [[218742  19827]\n",
            " [ 46248 193139]]\n",
            "Precision Score: 0.9069\n",
            "Recall Score: 0.80681\n",
            "Accuracy Score: 0.86176\n",
            "F1 Score: 0.86134\n",
            "ROC:  0.93421\n"
          ],
          "name": "stdout"
        }
      ]
    }
  ]
}